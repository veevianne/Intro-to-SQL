{
 "cells": [
  {
   "cell_type": "code",
   "execution_count": 1,
   "metadata": {
    "_cell_guid": "b1076dfc-b9ad-4769-8c92-a6c4dae69d19",
    "_uuid": "8f2839f25d086af736a60e9eeb907d3b93b6e0e5",
    "execution": {
     "iopub.execute_input": "2021-07-18T17:48:06.25952Z",
     "iopub.status.busy": "2021-07-18T17:48:06.259085Z",
     "iopub.status.idle": "2021-07-18T17:48:06.282417Z",
     "shell.execute_reply": "2021-07-18T17:48:06.281407Z",
     "shell.execute_reply.started": "2021-07-18T17:48:06.259431Z"
    }
   },
   "outputs": [],
   "source": [
    "import numpy as np # linear algebra\n",
    "import pandas as pd # data processing, CSV file I/O (e.g. pd.read_csv)\n",
    "import sqlite3\n",
    "from sqlite3 import Error\n",
    "\n",
    "\n",
    "# Input data files are available in the read-only \"../input/\" directory\n",
    "# For example, running this (by clicking run or pressing Shift+Enter) will list all files under the input directory\n",
    "\n",
    "import os\n",
    "for dirname, _, filenames in os.walk('/kaggle/input'):\n",
    "    for filename in filenames:\n",
    "        print(os.path.join(dirname, filename))"
   ]
  },
  {
   "cell_type": "code",
   "execution_count": 2,
   "metadata": {
    "execution": {
     "iopub.execute_input": "2021-07-18T17:48:19.940693Z",
     "iopub.status.busy": "2021-07-18T17:48:19.940261Z",
     "iopub.status.idle": "2021-07-18T17:48:19.945002Z",
     "shell.execute_reply": "2021-07-18T17:48:19.943924Z",
     "shell.execute_reply.started": "2021-07-18T17:48:19.940659Z"
    }
   },
   "outputs": [],
   "source": [
    "from IPython.display import display\n",
    "pd.set_option('display.max_columns', None)"
   ]
  },
  {
   "cell_type": "code",
   "execution_count": 3,
   "metadata": {
    "execution": {
     "iopub.execute_input": "2021-07-18T17:48:21.255262Z",
     "iopub.status.busy": "2021-07-18T17:48:21.254883Z",
     "iopub.status.idle": "2021-07-18T17:48:21.259407Z",
     "shell.execute_reply": "2021-07-18T17:48:21.258512Z",
     "shell.execute_reply.started": "2021-07-18T17:48:21.25523Z"
    }
   },
   "outputs": [],
   "source": [
    "data_path = \"factbook.db\""
   ]
  },
  {
   "cell_type": "code",
   "execution_count": 4,
   "metadata": {
    "execution": {
     "iopub.execute_input": "2021-07-18T17:48:22.524714Z",
     "iopub.status.busy": "2021-07-18T17:48:22.524053Z",
     "iopub.status.idle": "2021-07-18T17:48:22.55148Z",
     "shell.execute_reply": "2021-07-18T17:48:22.550458Z",
     "shell.execute_reply.started": "2021-07-18T17:48:22.524675Z"
    }
   },
   "outputs": [],
   "source": [
    "connection = sqlite3.connect(data_path)"
   ]
  },
  {
   "cell_type": "markdown",
   "metadata": {},
   "source": [
    "# 1. What is DBMS\n",
    "DBMS: Database Management System is a software system that uses a standard method of cataloging, retrieving, and running queries on data. Some DBMS examples include MySQL, PostgreSQL, Microsoft Access, SQL Server, FileMaker, Oracle, RDBMS, dBASE, Clipper, and FoxPro\n",
    "\n",
    "A tpical relatable example is wtfellows.db that stores datasets of factsbooks."
   ]
  },
  {
   "cell_type": "markdown",
   "metadata": {},
   "source": [
    "# 2. What is RDBMS\n",
    "RDBMS: Relational Database Management System organizes data into tables which can be linked—or related—based on data common to each. This capability enables you to retrieve an entirely new table from data in one or more tables with a single query. \n",
    "\n",
    "For example, imagine your company maintains a customer table that contains company data about each customer account and one or more transaction tables that contain data describing individual transactions."
   ]
  },
  {
   "cell_type": "markdown",
   "metadata": {},
   "source": [
    "# 3. What is SQL\n",
    "SQL: You can communicate with relational databases using Structured Query Language (SQL), the standard language for interacting with management systems. SQL allows the joining of tables using a few lines of code, with a structure most nontechnical employees can learn quickly. Example of a sql is :"
   ]
  },
  {
   "cell_type": "code",
   "execution_count": 5,
   "metadata": {
    "execution": {
     "iopub.execute_input": "2021-07-18T17:48:25.399538Z",
     "iopub.status.busy": "2021-07-18T17:48:25.399135Z",
     "iopub.status.idle": "2021-07-18T17:48:25.527425Z",
     "shell.execute_reply": "2021-07-18T17:48:25.526309Z",
     "shell.execute_reply.started": "2021-07-18T17:48:25.399503Z"
    }
   },
   "outputs": [
    {
     "data": {
      "text/html": [
       "<div>\n",
       "<style scoped>\n",
       "    .dataframe tbody tr th:only-of-type {\n",
       "        vertical-align: middle;\n",
       "    }\n",
       "\n",
       "    .dataframe tbody tr th {\n",
       "        vertical-align: top;\n",
       "    }\n",
       "\n",
       "    .dataframe thead th {\n",
       "        text-align: right;\n",
       "    }\n",
       "</style>\n",
       "<table border=\"1\" class=\"dataframe\">\n",
       "  <thead>\n",
       "    <tr style=\"text-align: right;\">\n",
       "      <th></th>\n",
       "      <th>type</th>\n",
       "      <th>name</th>\n",
       "      <th>tbl_name</th>\n",
       "      <th>rootpage</th>\n",
       "      <th>sql</th>\n",
       "    </tr>\n",
       "  </thead>\n",
       "  <tbody>\n",
       "    <tr>\n",
       "      <th>0</th>\n",
       "      <td>table</td>\n",
       "      <td>sqlite_sequence</td>\n",
       "      <td>sqlite_sequence</td>\n",
       "      <td>3</td>\n",
       "      <td>CREATE TABLE sqlite_sequence(name,seq)</td>\n",
       "    </tr>\n",
       "    <tr>\n",
       "      <th>1</th>\n",
       "      <td>table</td>\n",
       "      <td>facts</td>\n",
       "      <td>facts</td>\n",
       "      <td>47</td>\n",
       "      <td>CREATE TABLE \"facts\" (\"id\" INTEGER PRIMARY KEY...</td>\n",
       "    </tr>\n",
       "    <tr>\n",
       "      <th>2</th>\n",
       "      <td>table</td>\n",
       "      <td>cities</td>\n",
       "      <td>cities</td>\n",
       "      <td>2</td>\n",
       "      <td>CREATE TABLE cities (\\n        id integer prim...</td>\n",
       "    </tr>\n",
       "  </tbody>\n",
       "</table>\n",
       "</div>"
      ],
      "text/plain": [
       "    type             name         tbl_name  rootpage  \\\n",
       "0  table  sqlite_sequence  sqlite_sequence         3   \n",
       "1  table            facts            facts        47   \n",
       "2  table           cities           cities         2   \n",
       "\n",
       "                                                 sql  \n",
       "0             CREATE TABLE sqlite_sequence(name,seq)  \n",
       "1  CREATE TABLE \"facts\" (\"id\" INTEGER PRIMARY KEY...  \n",
       "2  CREATE TABLE cities (\\n        id integer prim...  "
      ]
     },
     "execution_count": 5,
     "metadata": {},
     "output_type": "execute_result"
    }
   ],
   "source": [
    "tables = pd.read_sql(\"\"\"\n",
    "\n",
    "SELECT *\n",
    "FROM sqlite_master\n",
    "WHERE type = 'table';\n",
    "\n",
    "\"\"\", connection)\n",
    "\n",
    "tables"
   ]
  },
  {
   "cell_type": "markdown",
   "metadata": {},
   "source": [
    "Here we can see that the database *factbook.db* has two tables. Namely:\n",
    "1. Facts\n",
    "2. Cities"
   ]
  },
  {
   "cell_type": "markdown",
   "metadata": {},
   "source": [
    "# 4. What is a Database\n",
    "A database is a systematic collection of data, that supports electronic storage and manipulation of data. Example is given below:"
   ]
  },
  {
   "cell_type": "code",
   "execution_count": 6,
   "metadata": {
    "execution": {
     "iopub.execute_input": "2021-07-18T17:48:29.959582Z",
     "iopub.status.busy": "2021-07-18T17:48:29.959214Z",
     "iopub.status.idle": "2021-07-18T17:48:30.000583Z",
     "shell.execute_reply": "2021-07-18T17:48:29.999524Z",
     "shell.execute_reply.started": "2021-07-18T17:48:29.959551Z"
    }
   },
   "outputs": [
    {
     "data": {
      "text/html": [
       "<div>\n",
       "<style scoped>\n",
       "    .dataframe tbody tr th:only-of-type {\n",
       "        vertical-align: middle;\n",
       "    }\n",
       "\n",
       "    .dataframe tbody tr th {\n",
       "        vertical-align: top;\n",
       "    }\n",
       "\n",
       "    .dataframe thead th {\n",
       "        text-align: right;\n",
       "    }\n",
       "</style>\n",
       "<table border=\"1\" class=\"dataframe\">\n",
       "  <thead>\n",
       "    <tr style=\"text-align: right;\">\n",
       "      <th></th>\n",
       "      <th>id</th>\n",
       "      <th>code</th>\n",
       "      <th>name</th>\n",
       "      <th>area</th>\n",
       "      <th>area_land</th>\n",
       "      <th>area_water</th>\n",
       "      <th>population</th>\n",
       "      <th>population_growth</th>\n",
       "      <th>birth_rate</th>\n",
       "      <th>death_rate</th>\n",
       "      <th>migration_rate</th>\n",
       "    </tr>\n",
       "  </thead>\n",
       "  <tbody>\n",
       "    <tr>\n",
       "      <th>0</th>\n",
       "      <td>1</td>\n",
       "      <td>af</td>\n",
       "      <td>Afghanistan</td>\n",
       "      <td>652230.0</td>\n",
       "      <td>652230.0</td>\n",
       "      <td>0.0</td>\n",
       "      <td>3.256434e+07</td>\n",
       "      <td>2.32</td>\n",
       "      <td>38.57</td>\n",
       "      <td>13.89</td>\n",
       "      <td>1.51</td>\n",
       "    </tr>\n",
       "    <tr>\n",
       "      <th>1</th>\n",
       "      <td>2</td>\n",
       "      <td>al</td>\n",
       "      <td>Albania</td>\n",
       "      <td>28748.0</td>\n",
       "      <td>27398.0</td>\n",
       "      <td>1350.0</td>\n",
       "      <td>3.029278e+06</td>\n",
       "      <td>0.30</td>\n",
       "      <td>12.92</td>\n",
       "      <td>6.58</td>\n",
       "      <td>3.30</td>\n",
       "    </tr>\n",
       "    <tr>\n",
       "      <th>2</th>\n",
       "      <td>3</td>\n",
       "      <td>ag</td>\n",
       "      <td>Algeria</td>\n",
       "      <td>2381741.0</td>\n",
       "      <td>2381741.0</td>\n",
       "      <td>0.0</td>\n",
       "      <td>3.954217e+07</td>\n",
       "      <td>1.84</td>\n",
       "      <td>23.67</td>\n",
       "      <td>4.31</td>\n",
       "      <td>0.92</td>\n",
       "    </tr>\n",
       "    <tr>\n",
       "      <th>3</th>\n",
       "      <td>4</td>\n",
       "      <td>an</td>\n",
       "      <td>Andorra</td>\n",
       "      <td>468.0</td>\n",
       "      <td>468.0</td>\n",
       "      <td>0.0</td>\n",
       "      <td>8.558000e+04</td>\n",
       "      <td>0.12</td>\n",
       "      <td>8.13</td>\n",
       "      <td>6.96</td>\n",
       "      <td>0.00</td>\n",
       "    </tr>\n",
       "    <tr>\n",
       "      <th>4</th>\n",
       "      <td>5</td>\n",
       "      <td>ao</td>\n",
       "      <td>Angola</td>\n",
       "      <td>1246700.0</td>\n",
       "      <td>1246700.0</td>\n",
       "      <td>0.0</td>\n",
       "      <td>1.962535e+07</td>\n",
       "      <td>2.78</td>\n",
       "      <td>38.78</td>\n",
       "      <td>11.49</td>\n",
       "      <td>0.46</td>\n",
       "    </tr>\n",
       "    <tr>\n",
       "      <th>...</th>\n",
       "      <td>...</td>\n",
       "      <td>...</td>\n",
       "      <td>...</td>\n",
       "      <td>...</td>\n",
       "      <td>...</td>\n",
       "      <td>...</td>\n",
       "      <td>...</td>\n",
       "      <td>...</td>\n",
       "      <td>...</td>\n",
       "      <td>...</td>\n",
       "      <td>...</td>\n",
       "    </tr>\n",
       "    <tr>\n",
       "      <th>256</th>\n",
       "      <td>257</td>\n",
       "      <td>zh</td>\n",
       "      <td>Atlantic Ocean</td>\n",
       "      <td>NaN</td>\n",
       "      <td>NaN</td>\n",
       "      <td>NaN</td>\n",
       "      <td>NaN</td>\n",
       "      <td>NaN</td>\n",
       "      <td>NaN</td>\n",
       "      <td>NaN</td>\n",
       "      <td>NaN</td>\n",
       "    </tr>\n",
       "    <tr>\n",
       "      <th>257</th>\n",
       "      <td>258</td>\n",
       "      <td>xo</td>\n",
       "      <td>Indian Ocean</td>\n",
       "      <td>NaN</td>\n",
       "      <td>NaN</td>\n",
       "      <td>NaN</td>\n",
       "      <td>NaN</td>\n",
       "      <td>NaN</td>\n",
       "      <td>NaN</td>\n",
       "      <td>NaN</td>\n",
       "      <td>NaN</td>\n",
       "    </tr>\n",
       "    <tr>\n",
       "      <th>258</th>\n",
       "      <td>259</td>\n",
       "      <td>zn</td>\n",
       "      <td>Pacific Ocean</td>\n",
       "      <td>NaN</td>\n",
       "      <td>NaN</td>\n",
       "      <td>NaN</td>\n",
       "      <td>NaN</td>\n",
       "      <td>NaN</td>\n",
       "      <td>NaN</td>\n",
       "      <td>NaN</td>\n",
       "      <td>NaN</td>\n",
       "    </tr>\n",
       "    <tr>\n",
       "      <th>259</th>\n",
       "      <td>260</td>\n",
       "      <td>oo</td>\n",
       "      <td>Southern Ocean</td>\n",
       "      <td>NaN</td>\n",
       "      <td>NaN</td>\n",
       "      <td>NaN</td>\n",
       "      <td>NaN</td>\n",
       "      <td>NaN</td>\n",
       "      <td>NaN</td>\n",
       "      <td>NaN</td>\n",
       "      <td>NaN</td>\n",
       "    </tr>\n",
       "    <tr>\n",
       "      <th>260</th>\n",
       "      <td>261</td>\n",
       "      <td>xx</td>\n",
       "      <td>World</td>\n",
       "      <td>NaN</td>\n",
       "      <td>NaN</td>\n",
       "      <td>NaN</td>\n",
       "      <td>7.256490e+09</td>\n",
       "      <td>1.08</td>\n",
       "      <td>18.60</td>\n",
       "      <td>7.80</td>\n",
       "      <td>NaN</td>\n",
       "    </tr>\n",
       "  </tbody>\n",
       "</table>\n",
       "<p>261 rows × 11 columns</p>\n",
       "</div>"
      ],
      "text/plain": [
       "      id code            name       area  area_land  area_water    population  \\\n",
       "0      1   af     Afghanistan   652230.0   652230.0         0.0  3.256434e+07   \n",
       "1      2   al         Albania    28748.0    27398.0      1350.0  3.029278e+06   \n",
       "2      3   ag         Algeria  2381741.0  2381741.0         0.0  3.954217e+07   \n",
       "3      4   an         Andorra      468.0      468.0         0.0  8.558000e+04   \n",
       "4      5   ao          Angola  1246700.0  1246700.0         0.0  1.962535e+07   \n",
       "..   ...  ...             ...        ...        ...         ...           ...   \n",
       "256  257   zh  Atlantic Ocean        NaN        NaN         NaN           NaN   \n",
       "257  258   xo    Indian Ocean        NaN        NaN         NaN           NaN   \n",
       "258  259   zn   Pacific Ocean        NaN        NaN         NaN           NaN   \n",
       "259  260   oo  Southern Ocean        NaN        NaN         NaN           NaN   \n",
       "260  261   xx           World        NaN        NaN         NaN  7.256490e+09   \n",
       "\n",
       "     population_growth  birth_rate  death_rate  migration_rate  \n",
       "0                 2.32       38.57       13.89            1.51  \n",
       "1                 0.30       12.92        6.58            3.30  \n",
       "2                 1.84       23.67        4.31            0.92  \n",
       "3                 0.12        8.13        6.96            0.00  \n",
       "4                 2.78       38.78       11.49            0.46  \n",
       "..                 ...         ...         ...             ...  \n",
       "256                NaN         NaN         NaN             NaN  \n",
       "257                NaN         NaN         NaN             NaN  \n",
       "258                NaN         NaN         NaN             NaN  \n",
       "259                NaN         NaN         NaN             NaN  \n",
       "260               1.08       18.60        7.80             NaN  \n",
       "\n",
       "[261 rows x 11 columns]"
      ]
     },
     "execution_count": 6,
     "metadata": {},
     "output_type": "execute_result"
    }
   ],
   "source": [
    "pd.read_sql(\"\"\"\n",
    "\n",
    "SELECT *\n",
    "FROM facts;\n",
    "\n",
    "\"\"\", connection)"
   ]
  },
  {
   "cell_type": "markdown",
   "metadata": {},
   "source": [
    "# 5. What are tables and fields\n",
    "- The data in RDBMS is stored in database objects called tables. A table is a collection of related data entries and it consists of columns and rows.\n",
    "- Every table is broken up into smaller entities called fields. The fields in the facts table consist of id, code, name, area, area_land, area_water, population, population_growth, birth_rate, death_rate, and migration_rate. \n",
    "- A field is a column in a table that is designed to maintain specific information about every record in the table. The table has 11 fields\n",
    "\n",
    "- A record, also called a row, is each individual entry that exists in a table. For example, there are 261 records in the above facts table. A record is a horizontal entity in a table.\n",
    "\n",
    "- A column is a vertical entity in a table that contains all information associated with a specific field in a table.\n",
    "\n",
    "Now lets us view the \"*cities*\" table"
   ]
  },
  {
   "cell_type": "code",
   "execution_count": 7,
   "metadata": {
    "execution": {
     "iopub.execute_input": "2021-07-18T17:48:33.089958Z",
     "iopub.status.busy": "2021-07-18T17:48:33.089581Z",
     "iopub.status.idle": "2021-07-18T17:48:33.11793Z",
     "shell.execute_reply": "2021-07-18T17:48:33.116776Z",
     "shell.execute_reply.started": "2021-07-18T17:48:33.089922Z"
    }
   },
   "outputs": [
    {
     "data": {
      "text/html": [
       "<div>\n",
       "<style scoped>\n",
       "    .dataframe tbody tr th:only-of-type {\n",
       "        vertical-align: middle;\n",
       "    }\n",
       "\n",
       "    .dataframe tbody tr th {\n",
       "        vertical-align: top;\n",
       "    }\n",
       "\n",
       "    .dataframe thead th {\n",
       "        text-align: right;\n",
       "    }\n",
       "</style>\n",
       "<table border=\"1\" class=\"dataframe\">\n",
       "  <thead>\n",
       "    <tr style=\"text-align: right;\">\n",
       "      <th></th>\n",
       "      <th>id</th>\n",
       "      <th>name</th>\n",
       "      <th>population</th>\n",
       "      <th>capital</th>\n",
       "      <th>facts_id</th>\n",
       "    </tr>\n",
       "  </thead>\n",
       "  <tbody>\n",
       "    <tr>\n",
       "      <th>0</th>\n",
       "      <td>1</td>\n",
       "      <td>Oranjestad</td>\n",
       "      <td>37000</td>\n",
       "      <td>1</td>\n",
       "      <td>216</td>\n",
       "    </tr>\n",
       "    <tr>\n",
       "      <th>1</th>\n",
       "      <td>2</td>\n",
       "      <td>Saint John'S</td>\n",
       "      <td>27000</td>\n",
       "      <td>1</td>\n",
       "      <td>6</td>\n",
       "    </tr>\n",
       "    <tr>\n",
       "      <th>2</th>\n",
       "      <td>3</td>\n",
       "      <td>Abu Dhabi</td>\n",
       "      <td>942000</td>\n",
       "      <td>1</td>\n",
       "      <td>184</td>\n",
       "    </tr>\n",
       "    <tr>\n",
       "      <th>3</th>\n",
       "      <td>4</td>\n",
       "      <td>Dubai</td>\n",
       "      <td>1978000</td>\n",
       "      <td>0</td>\n",
       "      <td>184</td>\n",
       "    </tr>\n",
       "    <tr>\n",
       "      <th>4</th>\n",
       "      <td>5</td>\n",
       "      <td>Sharjah</td>\n",
       "      <td>983000</td>\n",
       "      <td>0</td>\n",
       "      <td>184</td>\n",
       "    </tr>\n",
       "    <tr>\n",
       "      <th>...</th>\n",
       "      <td>...</td>\n",
       "      <td>...</td>\n",
       "      <td>...</td>\n",
       "      <td>...</td>\n",
       "      <td>...</td>\n",
       "    </tr>\n",
       "    <tr>\n",
       "      <th>392</th>\n",
       "      <td>393</td>\n",
       "      <td>Mbabane</td>\n",
       "      <td>66000</td>\n",
       "      <td>1</td>\n",
       "      <td>167</td>\n",
       "    </tr>\n",
       "    <tr>\n",
       "      <th>393</th>\n",
       "      <td>394</td>\n",
       "      <td>Sanaa</td>\n",
       "      <td>2419000</td>\n",
       "      <td>1</td>\n",
       "      <td>193</td>\n",
       "    </tr>\n",
       "    <tr>\n",
       "      <th>394</th>\n",
       "      <td>395</td>\n",
       "      <td>Aden</td>\n",
       "      <td>784000</td>\n",
       "      <td>0</td>\n",
       "      <td>193</td>\n",
       "    </tr>\n",
       "    <tr>\n",
       "      <th>395</th>\n",
       "      <td>396</td>\n",
       "      <td>Lusaka</td>\n",
       "      <td>1802000</td>\n",
       "      <td>1</td>\n",
       "      <td>194</td>\n",
       "    </tr>\n",
       "    <tr>\n",
       "      <th>396</th>\n",
       "      <td>397</td>\n",
       "      <td>Harare</td>\n",
       "      <td>1542000</td>\n",
       "      <td>1</td>\n",
       "      <td>195</td>\n",
       "    </tr>\n",
       "  </tbody>\n",
       "</table>\n",
       "<p>397 rows × 5 columns</p>\n",
       "</div>"
      ],
      "text/plain": [
       "      id          name  population  capital facts_id\n",
       "0      1    Oranjestad       37000        1      216\n",
       "1      2  Saint John'S       27000        1        6\n",
       "2      3     Abu Dhabi      942000        1      184\n",
       "3      4         Dubai     1978000        0      184\n",
       "4      5       Sharjah      983000        0      184\n",
       "..   ...           ...         ...      ...      ...\n",
       "392  393       Mbabane       66000        1      167\n",
       "393  394         Sanaa     2419000        1      193\n",
       "394  395          Aden      784000        0      193\n",
       "395  396        Lusaka     1802000        1      194\n",
       "396  397        Harare     1542000        1      195\n",
       "\n",
       "[397 rows x 5 columns]"
      ]
     },
     "execution_count": 7,
     "metadata": {},
     "output_type": "execute_result"
    }
   ],
   "source": [
    "pd.read_sql(\"\"\"\n",
    "\n",
    "SELECT *\n",
    "FROM cities;\n",
    "\n",
    "\"\"\", connection)"
   ]
  },
  {
   "cell_type": "markdown",
   "metadata": {},
   "source": [
    "### Above we can tell that:\n",
    "1. there are 11 fields for *facts* tables and \n",
    "2. there are 5 fields for *cities* table"
   ]
  },
  {
   "cell_type": "markdown",
   "metadata": {},
   "source": [
    "# 6. What is a Primary Key\n",
    "A primary key is a column or a set of columns in a table whose values uniquely identify a row in the table. "
   ]
  },
  {
   "cell_type": "code",
   "execution_count": 8,
   "metadata": {
    "execution": {
     "iopub.execute_input": "2021-07-18T17:48:37.120027Z",
     "iopub.status.busy": "2021-07-18T17:48:37.119672Z",
     "iopub.status.idle": "2021-07-18T17:48:37.133573Z",
     "shell.execute_reply": "2021-07-18T17:48:37.132089Z",
     "shell.execute_reply.started": "2021-07-18T17:48:37.119998Z"
    }
   },
   "outputs": [
    {
     "data": {
      "text/plain": [
       "0               CREATE TABLE sqlite_sequence(name,seq)\n",
       "1    CREATE TABLE \"facts\" (\"id\" INTEGER PRIMARY KEY...\n",
       "2    CREATE TABLE cities (\\n        id integer prim...\n",
       "Name: sql, dtype: object"
      ]
     },
     "execution_count": 8,
     "metadata": {},
     "output_type": "execute_result"
    }
   ],
   "source": [
    "tables = pd.read_sql(\"\"\"\n",
    "\n",
    "SELECT *\n",
    "FROM sqlite_master\n",
    "WHERE type = 'table';\n",
    "\n",
    "\"\"\", connection)\n",
    "\n",
    "tables['sql']"
   ]
  },
  {
   "cell_type": "markdown",
   "metadata": {},
   "source": [
    "### From the above we can see that for both tables \"facts\" and \"cities\", the primary key is \"id\". And there are no two record with the same id."
   ]
  },
  {
   "cell_type": "markdown",
   "metadata": {},
   "source": [
    "# 7. What is a unique key?\n",
    "A unique key is a set of one or more than one fields/columns of a table that uniquely identify a record in a database table. One can say that it is little like primary key but it can accept only one null value and it cannot have duplicate values.\n",
    "\n",
    "Here we set the email Address as the unique key:"
   ]
  },
  {
   "cell_type": "code",
   "execution_count": 9,
   "metadata": {
    "execution": {
     "iopub.execute_input": "2021-07-18T17:48:41.089852Z",
     "iopub.status.busy": "2021-07-18T17:48:41.089488Z",
     "iopub.status.idle": "2021-07-18T17:48:41.096209Z",
     "shell.execute_reply": "2021-07-18T17:48:41.095072Z",
     "shell.execute_reply.started": "2021-07-18T17:48:41.089819Z"
    }
   },
   "outputs": [],
   "source": [
    "## Creating a database to store our tables\n",
    "## Defining a function that helps us communicate without our database without having to call everytime\n",
    "data_path2 = 'womentechsters.db'\n",
    "conn = sqlite3.connect(data_path2)\n",
    "def execute_sql(conn, query):\n",
    "    cursor = conn.cursor()\n",
    "    try:\n",
    "        cursor.execute(query)\n",
    "        conn.commit()\n",
    "        print(\"SQL Executed Successfully\")\n",
    "    except Error as e:\n",
    "        print (f\"The error '{e}' occurred\")"
   ]
  },
  {
   "cell_type": "code",
   "execution_count": 10,
   "metadata": {
    "execution": {
     "iopub.execute_input": "2021-07-18T17:48:42.760013Z",
     "iopub.status.busy": "2021-07-18T17:48:42.759426Z",
     "iopub.status.idle": "2021-07-18T17:48:42.779779Z",
     "shell.execute_reply": "2021-07-18T17:48:42.778641Z",
     "shell.execute_reply.started": "2021-07-18T17:48:42.759965Z"
    }
   },
   "outputs": [
    {
     "name": "stdout",
     "output_type": "stream",
     "text": [
      "The error 'table Fellows already exists' occurred\n"
     ]
    }
   ],
   "source": [
    "create_table = \"\"\"\n",
    "CREATE TABLE Fellows(\n",
    "    id integer PRIMARY KEY, \n",
    "    fName text, \n",
    "    lName text, \n",
    "    learningTrack text, \n",
    "    employmentStat text, \n",
    "    instructorName text, \n",
    "    emailAdd text not null unique, \n",
    "    orientationAttend text\n",
    "    );\n",
    "\n",
    "\"\"\"\n",
    "execute_sql(conn, create_table)"
   ]
  },
  {
   "cell_type": "code",
   "execution_count": 11,
   "metadata": {
    "execution": {
     "iopub.execute_input": "2021-07-18T17:48:44.165092Z",
     "iopub.status.busy": "2021-07-18T17:48:44.164545Z",
     "iopub.status.idle": "2021-07-18T17:48:44.259858Z",
     "shell.execute_reply": "2021-07-18T17:48:44.259136Z",
     "shell.execute_reply.started": "2021-07-18T17:48:44.165052Z"
    }
   },
   "outputs": [
    {
     "name": "stdout",
     "output_type": "stream",
     "text": [
      "Connected to SQLite\n",
      "Failed to insert Python variable into sqlite table UNIQUE constraint failed: Fellows.id\n",
      "The SQLite connection is closed\n",
      "Connected to SQLite\n",
      "Failed to insert Python variable into sqlite table UNIQUE constraint failed: Fellows.id\n",
      "The SQLite connection is closed\n",
      "Connected to SQLite\n",
      "Failed to insert Python variable into sqlite table UNIQUE constraint failed: Fellows.id\n",
      "The SQLite connection is closed\n",
      "Connected to SQLite\n",
      "Failed to insert Python variable into sqlite table UNIQUE constraint failed: Fellows.id\n",
      "The SQLite connection is closed\n",
      "Connected to SQLite\n",
      "Failed to insert Python variable into sqlite table UNIQUE constraint failed: Fellows.id\n",
      "The SQLite connection is closed\n",
      "Connected to SQLite\n",
      "Failed to insert Python variable into sqlite table UNIQUE constraint failed: Fellows.id\n",
      "The SQLite connection is closed\n",
      "Connected to SQLite\n",
      "Failed to insert Python variable into sqlite table UNIQUE constraint failed: Fellows.id\n",
      "The SQLite connection is closed\n"
     ]
    }
   ],
   "source": [
    "def insertIntoTable(id,fName,lName,learningTrack,employmentStat,instructorName,emailAdd,orientationAttend):\n",
    "    try:\n",
    "        conn = sqlite3.connect('womentechsters.db')\n",
    "        cursor = conn.cursor()\n",
    "        print(\"Connected to SQLite\")\n",
    "\n",
    "        sqlite_insert = \"\"\"INSERT INTO Fellows\n",
    "                          (id,fName,lName,learningTrack,employmentStat,instructorName,emailAdd,orientationAttend) \n",
    "                          VALUES (?,?,?,?,?,?,?,?);\"\"\"\n",
    "\n",
    "        data_tuple = (id,fName,lName,learningTrack,employmentStat,instructorName,emailAdd,orientationAttend)\n",
    "        cursor.execute(sqlite_insert, data_tuple)\n",
    "        conn.commit()\n",
    "        print(\"Python Variables inserted successfully into Fellows table\")\n",
    "\n",
    "        cursor.close()\n",
    "\n",
    "    except sqlite3.Error as error:\n",
    "        print(\"Failed to insert Python variable into sqlite table\", error)\n",
    "    finally:\n",
    "        if conn:\n",
    "            conn.close()\n",
    "            print(\"The SQLite connection is closed\")\n",
    "\n",
    "\n",
    "insertIntoTable(1,'Anita','Mburu','Data Science', 'Employed', 'Winner Emeto', 'anita.mburu@wtf.org', 'Yes')\n",
    "insertIntoTable(2,'Chinenye','James','Data Science', 'Self Employed', 'Winner Emeto', 'chi.james@wtf.org', 'Yes')\n",
    "insertIntoTable(3,'Rukayat','Fagbola','Software Engineering','Self Employed','Naomi Praise', 'rukky.fags@wtf.org', 'No')\n",
    "insertIntoTable(4,'Chioma','Obi','Cybersecurity', 'Unemployed','Adams Onoms', 'chi.obi@wtf.org', 'Yes')\n",
    "insertIntoTable(5,'Angelica','Dairo','Product Management', 'Employed','Salima Wartz', 'ang.dairo@wtf.org', 'Yes')\n",
    "insertIntoTable(6,'Joy','Kareko','Data Science', 'Self Employed','Winner Emeto', 'joy.kare@wtf.org', 'No')\n",
    "insertIntoTable(7,'Choice','Iruh','Data Science', 'Employed', 'Winner Emeto','choic.iruh@wtf.org', 'No')"
   ]
  },
  {
   "cell_type": "code",
   "execution_count": 12,
   "metadata": {
    "execution": {
     "iopub.execute_input": "2021-07-18T17:48:45.670031Z",
     "iopub.status.busy": "2021-07-18T17:48:45.669453Z",
     "iopub.status.idle": "2021-07-18T17:48:45.68703Z",
     "shell.execute_reply": "2021-07-18T17:48:45.686007Z",
     "shell.execute_reply.started": "2021-07-18T17:48:45.669986Z"
    }
   },
   "outputs": [
    {
     "data": {
      "text/html": [
       "<div>\n",
       "<style scoped>\n",
       "    .dataframe tbody tr th:only-of-type {\n",
       "        vertical-align: middle;\n",
       "    }\n",
       "\n",
       "    .dataframe tbody tr th {\n",
       "        vertical-align: top;\n",
       "    }\n",
       "\n",
       "    .dataframe thead th {\n",
       "        text-align: right;\n",
       "    }\n",
       "</style>\n",
       "<table border=\"1\" class=\"dataframe\">\n",
       "  <thead>\n",
       "    <tr style=\"text-align: right;\">\n",
       "      <th></th>\n",
       "      <th>id</th>\n",
       "      <th>fName</th>\n",
       "      <th>lName</th>\n",
       "      <th>learningTrack</th>\n",
       "      <th>employmentStat</th>\n",
       "      <th>instructorName</th>\n",
       "      <th>emailAdd</th>\n",
       "      <th>orientationAttend</th>\n",
       "    </tr>\n",
       "  </thead>\n",
       "  <tbody>\n",
       "    <tr>\n",
       "      <th>0</th>\n",
       "      <td>1</td>\n",
       "      <td>Anita</td>\n",
       "      <td>Mburu</td>\n",
       "      <td>Data Science</td>\n",
       "      <td>Employed</td>\n",
       "      <td>Winner Emeto</td>\n",
       "      <td>anita.mburu@wtf.org</td>\n",
       "      <td>Yes</td>\n",
       "    </tr>\n",
       "    <tr>\n",
       "      <th>1</th>\n",
       "      <td>2</td>\n",
       "      <td>Chinenye</td>\n",
       "      <td>James</td>\n",
       "      <td>Data Science</td>\n",
       "      <td>Self Employed</td>\n",
       "      <td>Winner Emeto</td>\n",
       "      <td>chi.james@wtf.org</td>\n",
       "      <td>Yes</td>\n",
       "    </tr>\n",
       "    <tr>\n",
       "      <th>2</th>\n",
       "      <td>3</td>\n",
       "      <td>Rukayat</td>\n",
       "      <td>Fagbola</td>\n",
       "      <td>Software Engineering</td>\n",
       "      <td>Self Employed</td>\n",
       "      <td>Naomi Praise</td>\n",
       "      <td>rukky.fags@wtf.org</td>\n",
       "      <td>No</td>\n",
       "    </tr>\n",
       "    <tr>\n",
       "      <th>3</th>\n",
       "      <td>4</td>\n",
       "      <td>Chioma</td>\n",
       "      <td>Obi</td>\n",
       "      <td>Cybersecurity</td>\n",
       "      <td>Unemployed</td>\n",
       "      <td>Adams Onoms</td>\n",
       "      <td>chi.obi@wtf.org</td>\n",
       "      <td>Yes</td>\n",
       "    </tr>\n",
       "    <tr>\n",
       "      <th>4</th>\n",
       "      <td>5</td>\n",
       "      <td>Angelica</td>\n",
       "      <td>Dairo</td>\n",
       "      <td>Product Management</td>\n",
       "      <td>Employed</td>\n",
       "      <td>Salima Wartz</td>\n",
       "      <td>ang.dairo@wtf.org</td>\n",
       "      <td>Yes</td>\n",
       "    </tr>\n",
       "    <tr>\n",
       "      <th>5</th>\n",
       "      <td>6</td>\n",
       "      <td>Joy</td>\n",
       "      <td>Kareko</td>\n",
       "      <td>Data Science</td>\n",
       "      <td>Self Employed</td>\n",
       "      <td>Winner Emeto</td>\n",
       "      <td>joy.kare@wtf.org</td>\n",
       "      <td>No</td>\n",
       "    </tr>\n",
       "    <tr>\n",
       "      <th>6</th>\n",
       "      <td>7</td>\n",
       "      <td>Choice</td>\n",
       "      <td>Iruh</td>\n",
       "      <td>Data Science</td>\n",
       "      <td>Employed</td>\n",
       "      <td>Winner Emeto</td>\n",
       "      <td>choic.iruh@wtf.org</td>\n",
       "      <td>No</td>\n",
       "    </tr>\n",
       "  </tbody>\n",
       "</table>\n",
       "</div>"
      ],
      "text/plain": [
       "   id     fName    lName         learningTrack employmentStat instructorName  \\\n",
       "0   1     Anita    Mburu          Data Science       Employed   Winner Emeto   \n",
       "1   2  Chinenye    James          Data Science  Self Employed   Winner Emeto   \n",
       "2   3   Rukayat  Fagbola  Software Engineering  Self Employed   Naomi Praise   \n",
       "3   4    Chioma      Obi         Cybersecurity     Unemployed    Adams Onoms   \n",
       "4   5  Angelica    Dairo    Product Management       Employed   Salima Wartz   \n",
       "5   6       Joy   Kareko          Data Science  Self Employed   Winner Emeto   \n",
       "6   7    Choice     Iruh          Data Science       Employed   Winner Emeto   \n",
       "\n",
       "              emailAdd orientationAttend  \n",
       "0  anita.mburu@wtf.org               Yes  \n",
       "1    chi.james@wtf.org               Yes  \n",
       "2   rukky.fags@wtf.org                No  \n",
       "3      chi.obi@wtf.org               Yes  \n",
       "4    ang.dairo@wtf.org               Yes  \n",
       "5     joy.kare@wtf.org                No  \n",
       "6   choic.iruh@wtf.org                No  "
      ]
     },
     "execution_count": 12,
     "metadata": {},
     "output_type": "execute_result"
    }
   ],
   "source": [
    "fellows = pd.read_sql(\"\"\"SELECT *\n",
    "                        FROM Fellows;\"\"\", conn)\n",
    "fellows"
   ]
  },
  {
   "cell_type": "markdown",
   "metadata": {},
   "source": [
    "# 8. What is a foreign key\n",
    "A foreign key is a column or group of columns in a relational database table that provides a link between data in two tables. It acts as a cross-reference between tables because it references the primary key of another table, thereby establishing a link between them.\n",
    "\n",
    "Below we will see that the foreign key in table datascience is the FellowID. "
   ]
  },
  {
   "cell_type": "code",
   "execution_count": 13,
   "metadata": {
    "execution": {
     "iopub.execute_input": "2021-07-18T17:48:49.439728Z",
     "iopub.status.busy": "2021-07-18T17:48:49.439387Z",
     "iopub.status.idle": "2021-07-18T17:48:49.444613Z",
     "shell.execute_reply": "2021-07-18T17:48:49.443505Z",
     "shell.execute_reply.started": "2021-07-18T17:48:49.439699Z"
    }
   },
   "outputs": [],
   "source": [
    "create_table2 = \"\"\"\n",
    "CREATE TABLE studentrack(\n",
    "    id text PRIMARY KEY, \n",
    "    fName text, \n",
    "    lName text, \n",
    "    learningTrack text\n",
    "    );\n",
    "\"\"\""
   ]
  },
  {
   "cell_type": "code",
   "execution_count": 14,
   "metadata": {
    "execution": {
     "iopub.execute_input": "2021-07-18T17:48:52.309569Z",
     "iopub.status.busy": "2021-07-18T17:48:52.30914Z",
     "iopub.status.idle": "2021-07-18T17:48:52.329501Z",
     "shell.execute_reply": "2021-07-18T17:48:52.328428Z",
     "shell.execute_reply.started": "2021-07-18T17:48:52.309526Z"
    }
   },
   "outputs": [
    {
     "name": "stdout",
     "output_type": "stream",
     "text": [
      "The error 'table studentrack already exists' occurred\n"
     ]
    }
   ],
   "source": [
    "execute_sql(conn, create_table2)"
   ]
  },
  {
   "cell_type": "code",
   "execution_count": 15,
   "metadata": {
    "execution": {
     "iopub.execute_input": "2021-07-18T17:48:53.644748Z",
     "iopub.status.busy": "2021-07-18T17:48:53.644383Z",
     "iopub.status.idle": "2021-07-18T17:48:53.727372Z",
     "shell.execute_reply": "2021-07-18T17:48:53.726504Z",
     "shell.execute_reply.started": "2021-07-18T17:48:53.644711Z"
    }
   },
   "outputs": [
    {
     "name": "stdout",
     "output_type": "stream",
     "text": [
      "Connected to SQLite\n",
      "Failed to insert Python variable into sqlite table UNIQUE constraint failed: studentrack.id\n",
      "The SQLite connection is closed\n",
      "Connected to SQLite\n",
      "Failed to insert Python variable into sqlite table UNIQUE constraint failed: studentrack.id\n",
      "The SQLite connection is closed\n",
      "Connected to SQLite\n",
      "Failed to insert Python variable into sqlite table UNIQUE constraint failed: studentrack.id\n",
      "The SQLite connection is closed\n",
      "Connected to SQLite\n",
      "Failed to insert Python variable into sqlite table UNIQUE constraint failed: studentrack.id\n",
      "The SQLite connection is closed\n",
      "Connected to SQLite\n",
      "Failed to insert Python variable into sqlite table UNIQUE constraint failed: studentrack.id\n",
      "The SQLite connection is closed\n",
      "Connected to SQLite\n",
      "Failed to insert Python variable into sqlite table UNIQUE constraint failed: studentrack.id\n",
      "The SQLite connection is closed\n",
      "Connected to SQLite\n",
      "Failed to insert Python variable into sqlite table UNIQUE constraint failed: studentrack.id\n",
      "The SQLite connection is closed\n"
     ]
    }
   ],
   "source": [
    "def insertIntoTable2(id,fName,lName,learningTrack):\n",
    "    try:\n",
    "        conn = sqlite3.connect('womentechsters.db')\n",
    "        cursor = conn.cursor()\n",
    "        print(\"Connected to SQLite\")\n",
    "\n",
    "        sqlite_insert = \"\"\"INSERT INTO studentrack(id,fName,lName,learningTrack)\n",
    "                          VALUES (?,?,?,?);\"\"\"\n",
    "\n",
    "        data_tuple = (id,fName,lName,learningTrack)\n",
    "        cursor.execute(sqlite_insert, data_tuple)\n",
    "        conn.commit()\n",
    "        print(\"Python Variables inserted successfully into studentrack table\")\n",
    "\n",
    "        cursor.close()\n",
    "\n",
    "    except sqlite3.Error as error:\n",
    "        print(\"Failed to insert Python variable into sqlite table\", error)\n",
    "    finally:\n",
    "        if conn:\n",
    "            conn.close()\n",
    "            print(\"The SQLite connection is closed\")\n",
    "\n",
    "\n",
    "insertIntoTable2('WT/21/022','Anita','Mburu','Data Science')\n",
    "insertIntoTable2('WT/21/049','Chinenye','James','Data Science'),\n",
    "insertIntoTable2('WT/21/001','Rukayat','Fagbola','Software Engineering'),\n",
    "insertIntoTable2('WT/21/056','Chioma','Obi','Cybersecurity'),\n",
    "insertIntoTable2('WT/21/010','Angelica','Dairo','Product Management'),\n",
    "insertIntoTable2('WT/21/118','Joy','Kareko','Data Science'),\n",
    "insertIntoTable2('WT/21/051','Choice','Iruh','Data Science')"
   ]
  },
  {
   "cell_type": "code",
   "execution_count": 16,
   "metadata": {
    "execution": {
     "iopub.execute_input": "2021-07-18T17:48:55.085062Z",
     "iopub.status.busy": "2021-07-18T17:48:55.08445Z",
     "iopub.status.idle": "2021-07-18T17:48:55.099993Z",
     "shell.execute_reply": "2021-07-18T17:48:55.098849Z",
     "shell.execute_reply.started": "2021-07-18T17:48:55.085019Z"
    }
   },
   "outputs": [
    {
     "data": {
      "text/html": [
       "<div>\n",
       "<style scoped>\n",
       "    .dataframe tbody tr th:only-of-type {\n",
       "        vertical-align: middle;\n",
       "    }\n",
       "\n",
       "    .dataframe tbody tr th {\n",
       "        vertical-align: top;\n",
       "    }\n",
       "\n",
       "    .dataframe thead th {\n",
       "        text-align: right;\n",
       "    }\n",
       "</style>\n",
       "<table border=\"1\" class=\"dataframe\">\n",
       "  <thead>\n",
       "    <tr style=\"text-align: right;\">\n",
       "      <th></th>\n",
       "      <th>id</th>\n",
       "      <th>fName</th>\n",
       "      <th>lName</th>\n",
       "      <th>learningTrack</th>\n",
       "    </tr>\n",
       "  </thead>\n",
       "  <tbody>\n",
       "    <tr>\n",
       "      <th>0</th>\n",
       "      <td>WT/21/022</td>\n",
       "      <td>Anita</td>\n",
       "      <td>Mburu</td>\n",
       "      <td>Data Science</td>\n",
       "    </tr>\n",
       "    <tr>\n",
       "      <th>1</th>\n",
       "      <td>WT/21/049</td>\n",
       "      <td>Chinenye</td>\n",
       "      <td>James</td>\n",
       "      <td>Data Science</td>\n",
       "    </tr>\n",
       "    <tr>\n",
       "      <th>2</th>\n",
       "      <td>WT/21/001</td>\n",
       "      <td>Rukayat</td>\n",
       "      <td>Fagbola</td>\n",
       "      <td>Software Engineering</td>\n",
       "    </tr>\n",
       "    <tr>\n",
       "      <th>3</th>\n",
       "      <td>WT/21/056</td>\n",
       "      <td>Chioma</td>\n",
       "      <td>Obi</td>\n",
       "      <td>Cybersecurity</td>\n",
       "    </tr>\n",
       "    <tr>\n",
       "      <th>4</th>\n",
       "      <td>WT/21/010</td>\n",
       "      <td>Angelica</td>\n",
       "      <td>Dairo</td>\n",
       "      <td>Product Management</td>\n",
       "    </tr>\n",
       "    <tr>\n",
       "      <th>5</th>\n",
       "      <td>WT/21/118</td>\n",
       "      <td>Joy</td>\n",
       "      <td>Kareko</td>\n",
       "      <td>Data Science</td>\n",
       "    </tr>\n",
       "    <tr>\n",
       "      <th>6</th>\n",
       "      <td>WT/21/051</td>\n",
       "      <td>Choice</td>\n",
       "      <td>Iruh</td>\n",
       "      <td>Data Science</td>\n",
       "    </tr>\n",
       "  </tbody>\n",
       "</table>\n",
       "</div>"
      ],
      "text/plain": [
       "          id     fName    lName         learningTrack\n",
       "0  WT/21/022     Anita    Mburu          Data Science\n",
       "1  WT/21/049  Chinenye    James          Data Science\n",
       "2  WT/21/001   Rukayat  Fagbola  Software Engineering\n",
       "3  WT/21/056    Chioma      Obi         Cybersecurity\n",
       "4  WT/21/010  Angelica    Dairo    Product Management\n",
       "5  WT/21/118       Joy   Kareko          Data Science\n",
       "6  WT/21/051    Choice     Iruh          Data Science"
      ]
     },
     "execution_count": 16,
     "metadata": {},
     "output_type": "execute_result"
    }
   ],
   "source": [
    "stdtrck = pd.read_sql(\"\"\"SELECT *\n",
    "                        FROM studentrack;\"\"\", conn)\n",
    "stdtrck"
   ]
  },
  {
   "cell_type": "code",
   "execution_count": 17,
   "metadata": {
    "execution": {
     "iopub.execute_input": "2021-07-18T17:48:56.764886Z",
     "iopub.status.busy": "2021-07-18T17:48:56.764279Z",
     "iopub.status.idle": "2021-07-18T17:48:56.769382Z",
     "shell.execute_reply": "2021-07-18T17:48:56.768451Z",
     "shell.execute_reply.started": "2021-07-18T17:48:56.764836Z"
    }
   },
   "outputs": [],
   "source": [
    "## Create another table within the database womentecster.db\n",
    "create_table3 = \"\"\"\n",
    "CREATE TABLE track(\n",
    "    id text PRIMARY KEY, \n",
    "    learningTrack text,  \n",
    "    FOREIGN KEY(id) REFERENCES track_fellows(id)\n",
    "    );\n",
    "    \n",
    "\"\"\"\n"
   ]
  },
  {
   "cell_type": "code",
   "execution_count": 18,
   "metadata": {
    "execution": {
     "iopub.execute_input": "2021-07-18T17:48:59.320154Z",
     "iopub.status.busy": "2021-07-18T17:48:59.319584Z",
     "iopub.status.idle": "2021-07-18T17:48:59.344011Z",
     "shell.execute_reply": "2021-07-18T17:48:59.343161Z",
     "shell.execute_reply.started": "2021-07-18T17:48:59.320115Z"
    }
   },
   "outputs": [
    {
     "name": "stdout",
     "output_type": "stream",
     "text": [
      "The error 'table track already exists' occurred\n"
     ]
    }
   ],
   "source": [
    "execute_sql(conn, create_table3)"
   ]
  },
  {
   "cell_type": "code",
   "execution_count": 19,
   "metadata": {
    "execution": {
     "iopub.execute_input": "2021-07-18T17:49:00.660292Z",
     "iopub.status.busy": "2021-07-18T17:49:00.659901Z",
     "iopub.status.idle": "2021-07-18T17:49:00.745845Z",
     "shell.execute_reply": "2021-07-18T17:49:00.744447Z",
     "shell.execute_reply.started": "2021-07-18T17:49:00.66026Z"
    }
   },
   "outputs": [
    {
     "name": "stdout",
     "output_type": "stream",
     "text": [
      "Connected to SQLite\n",
      "Failed to insert Python variable into sqlite table UNIQUE constraint failed: track.id\n",
      "The SQLite connection is closed\n",
      "Connected to SQLite\n",
      "Failed to insert Python variable into sqlite table UNIQUE constraint failed: track.id\n",
      "The SQLite connection is closed\n",
      "Connected to SQLite\n",
      "Failed to insert Python variable into sqlite table UNIQUE constraint failed: track.id\n",
      "The SQLite connection is closed\n",
      "Connected to SQLite\n",
      "Failed to insert Python variable into sqlite table UNIQUE constraint failed: track.id\n",
      "The SQLite connection is closed\n",
      "Connected to SQLite\n",
      "Failed to insert Python variable into sqlite table UNIQUE constraint failed: track.id\n",
      "The SQLite connection is closed\n",
      "Connected to SQLite\n",
      "Failed to insert Python variable into sqlite table UNIQUE constraint failed: track.id\n",
      "The SQLite connection is closed\n",
      "Connected to SQLite\n",
      "Failed to insert Python variable into sqlite table UNIQUE constraint failed: track.id\n",
      "The SQLite connection is closed\n"
     ]
    }
   ],
   "source": [
    "def insertIntoTable3(id,learningTrack):\n",
    "    try:\n",
    "        conn = sqlite3.connect('womentechsters.db')\n",
    "        cursor = conn.cursor()\n",
    "        print(\"Connected to SQLite\")\n",
    "\n",
    "        sqlite_insert = \"\"\"INSERT INTO track(id,learningTrack)\n",
    "                          VALUES (?,?);\"\"\"\n",
    "\n",
    "        data_tuple = (id,learningTrack)\n",
    "        cursor.execute(sqlite_insert, data_tuple)\n",
    "        conn.commit()\n",
    "        print(\"Python Variables inserted successfully into studentrack table\")\n",
    "\n",
    "        cursor.close()\n",
    "\n",
    "    except sqlite3.Error as error:\n",
    "        print(\"Failed to insert Python variable into sqlite table\", error)\n",
    "    finally:\n",
    "        if conn:\n",
    "            conn.close()\n",
    "            print(\"The SQLite connection is closed\")\n",
    "\n",
    "\n",
    "insertIntoTable3('WT/21/022', 'Data Science')\n",
    "insertIntoTable3('WT/21/049', 'Data Science')\n",
    "insertIntoTable3('WT/21/001', 'Software Engineering')\n",
    "insertIntoTable3('WT/21/056', 'Cybersecurity')\n",
    "insertIntoTable3('WT/21/010', 'Product Management')\n",
    "insertIntoTable3('WT/21/118', 'Data Science')\n",
    "insertIntoTable3('WT/21/051', 'Data Science')"
   ]
  },
  {
   "cell_type": "code",
   "execution_count": 20,
   "metadata": {
    "execution": {
     "iopub.execute_input": "2021-07-18T17:49:02.339972Z",
     "iopub.status.busy": "2021-07-18T17:49:02.339543Z",
     "iopub.status.idle": "2021-07-18T17:49:02.353741Z",
     "shell.execute_reply": "2021-07-18T17:49:02.352576Z",
     "shell.execute_reply.started": "2021-07-18T17:49:02.339934Z"
    }
   },
   "outputs": [
    {
     "data": {
      "text/html": [
       "<div>\n",
       "<style scoped>\n",
       "    .dataframe tbody tr th:only-of-type {\n",
       "        vertical-align: middle;\n",
       "    }\n",
       "\n",
       "    .dataframe tbody tr th {\n",
       "        vertical-align: top;\n",
       "    }\n",
       "\n",
       "    .dataframe thead th {\n",
       "        text-align: right;\n",
       "    }\n",
       "</style>\n",
       "<table border=\"1\" class=\"dataframe\">\n",
       "  <thead>\n",
       "    <tr style=\"text-align: right;\">\n",
       "      <th></th>\n",
       "      <th>id</th>\n",
       "      <th>learningTrack</th>\n",
       "    </tr>\n",
       "  </thead>\n",
       "  <tbody>\n",
       "    <tr>\n",
       "      <th>0</th>\n",
       "      <td>WT/21/022</td>\n",
       "      <td>Data Science</td>\n",
       "    </tr>\n",
       "    <tr>\n",
       "      <th>1</th>\n",
       "      <td>WT/21/049</td>\n",
       "      <td>Data Science</td>\n",
       "    </tr>\n",
       "    <tr>\n",
       "      <th>2</th>\n",
       "      <td>WT/21/001</td>\n",
       "      <td>Software Engineering</td>\n",
       "    </tr>\n",
       "    <tr>\n",
       "      <th>3</th>\n",
       "      <td>WT/21/056</td>\n",
       "      <td>Cybersecurity</td>\n",
       "    </tr>\n",
       "    <tr>\n",
       "      <th>4</th>\n",
       "      <td>WT/21/010</td>\n",
       "      <td>Product Management</td>\n",
       "    </tr>\n",
       "    <tr>\n",
       "      <th>5</th>\n",
       "      <td>WT/21/118</td>\n",
       "      <td>Data Science</td>\n",
       "    </tr>\n",
       "    <tr>\n",
       "      <th>6</th>\n",
       "      <td>WT/21/051</td>\n",
       "      <td>Data Science</td>\n",
       "    </tr>\n",
       "  </tbody>\n",
       "</table>\n",
       "</div>"
      ],
      "text/plain": [
       "          id         learningTrack\n",
       "0  WT/21/022          Data Science\n",
       "1  WT/21/049          Data Science\n",
       "2  WT/21/001  Software Engineering\n",
       "3  WT/21/056         Cybersecurity\n",
       "4  WT/21/010    Product Management\n",
       "5  WT/21/118          Data Science\n",
       "6  WT/21/051          Data Science"
      ]
     },
     "execution_count": 20,
     "metadata": {},
     "output_type": "execute_result"
    }
   ],
   "source": [
    "trck = pd.read_sql(\"\"\"SELECT *\n",
    "                        FROM track;\"\"\", conn)\n",
    "trck"
   ]
  },
  {
   "cell_type": "markdown",
   "metadata": {},
   "source": [
    "# 9. What is Join?\n",
    "JOIN is used when you want to connect two tables to each other. It works when you have a common key in each of them. Understanding the concept of Keys is crucial for connecting (joining) between data set (tables). A key is uniquely identifies each record (row) in a table. It can consinst of one value (cell) - usually ID, or from a combination of values that are unique in the table.\n",
    "\n",
    "When joinin between different tables, you must:\n",
    "\n",
    "- Decide what type of join to use."
   ]
  },
  {
   "cell_type": "code",
   "execution_count": 21,
   "metadata": {
    "execution": {
     "iopub.execute_input": "2021-07-18T17:49:05.319879Z",
     "iopub.status.busy": "2021-07-18T17:49:05.319515Z",
     "iopub.status.idle": "2021-07-18T17:49:05.368775Z",
     "shell.execute_reply": "2021-07-18T17:49:05.367563Z",
     "shell.execute_reply.started": "2021-07-18T17:49:05.319844Z"
    }
   },
   "outputs": [
    {
     "data": {
      "text/html": [
       "<div>\n",
       "<style scoped>\n",
       "    .dataframe tbody tr th:only-of-type {\n",
       "        vertical-align: middle;\n",
       "    }\n",
       "\n",
       "    .dataframe tbody tr th {\n",
       "        vertical-align: top;\n",
       "    }\n",
       "\n",
       "    .dataframe thead th {\n",
       "        text-align: right;\n",
       "    }\n",
       "</style>\n",
       "<table border=\"1\" class=\"dataframe\">\n",
       "  <thead>\n",
       "    <tr style=\"text-align: right;\">\n",
       "      <th></th>\n",
       "      <th>id</th>\n",
       "      <th>code</th>\n",
       "      <th>name</th>\n",
       "      <th>area</th>\n",
       "      <th>area_land</th>\n",
       "      <th>area_water</th>\n",
       "      <th>population</th>\n",
       "      <th>population_growth</th>\n",
       "      <th>birth_rate</th>\n",
       "      <th>death_rate</th>\n",
       "      <th>migration_rate</th>\n",
       "      <th>id</th>\n",
       "      <th>name</th>\n",
       "      <th>population</th>\n",
       "      <th>capital</th>\n",
       "      <th>facts_id</th>\n",
       "    </tr>\n",
       "  </thead>\n",
       "  <tbody>\n",
       "    <tr>\n",
       "      <th>0</th>\n",
       "      <td>1</td>\n",
       "      <td>af</td>\n",
       "      <td>Afghanistan</td>\n",
       "      <td>652230.0</td>\n",
       "      <td>652230.0</td>\n",
       "      <td>0.0</td>\n",
       "      <td>3.256434e+07</td>\n",
       "      <td>2.32</td>\n",
       "      <td>38.57</td>\n",
       "      <td>13.89</td>\n",
       "      <td>1.51</td>\n",
       "      <td>1</td>\n",
       "      <td>Oranjestad</td>\n",
       "      <td>37000</td>\n",
       "      <td>1</td>\n",
       "      <td>216</td>\n",
       "    </tr>\n",
       "    <tr>\n",
       "      <th>1</th>\n",
       "      <td>2</td>\n",
       "      <td>al</td>\n",
       "      <td>Albania</td>\n",
       "      <td>28748.0</td>\n",
       "      <td>27398.0</td>\n",
       "      <td>1350.0</td>\n",
       "      <td>3.029278e+06</td>\n",
       "      <td>0.30</td>\n",
       "      <td>12.92</td>\n",
       "      <td>6.58</td>\n",
       "      <td>3.30</td>\n",
       "      <td>2</td>\n",
       "      <td>Saint John'S</td>\n",
       "      <td>27000</td>\n",
       "      <td>1</td>\n",
       "      <td>6</td>\n",
       "    </tr>\n",
       "    <tr>\n",
       "      <th>2</th>\n",
       "      <td>3</td>\n",
       "      <td>ag</td>\n",
       "      <td>Algeria</td>\n",
       "      <td>2381741.0</td>\n",
       "      <td>2381741.0</td>\n",
       "      <td>0.0</td>\n",
       "      <td>3.954217e+07</td>\n",
       "      <td>1.84</td>\n",
       "      <td>23.67</td>\n",
       "      <td>4.31</td>\n",
       "      <td>0.92</td>\n",
       "      <td>3</td>\n",
       "      <td>Abu Dhabi</td>\n",
       "      <td>942000</td>\n",
       "      <td>1</td>\n",
       "      <td>184</td>\n",
       "    </tr>\n",
       "    <tr>\n",
       "      <th>3</th>\n",
       "      <td>4</td>\n",
       "      <td>an</td>\n",
       "      <td>Andorra</td>\n",
       "      <td>468.0</td>\n",
       "      <td>468.0</td>\n",
       "      <td>0.0</td>\n",
       "      <td>8.558000e+04</td>\n",
       "      <td>0.12</td>\n",
       "      <td>8.13</td>\n",
       "      <td>6.96</td>\n",
       "      <td>0.00</td>\n",
       "      <td>4</td>\n",
       "      <td>Dubai</td>\n",
       "      <td>1978000</td>\n",
       "      <td>0</td>\n",
       "      <td>184</td>\n",
       "    </tr>\n",
       "    <tr>\n",
       "      <th>4</th>\n",
       "      <td>5</td>\n",
       "      <td>ao</td>\n",
       "      <td>Angola</td>\n",
       "      <td>1246700.0</td>\n",
       "      <td>1246700.0</td>\n",
       "      <td>0.0</td>\n",
       "      <td>1.962535e+07</td>\n",
       "      <td>2.78</td>\n",
       "      <td>38.78</td>\n",
       "      <td>11.49</td>\n",
       "      <td>0.46</td>\n",
       "      <td>5</td>\n",
       "      <td>Sharjah</td>\n",
       "      <td>983000</td>\n",
       "      <td>0</td>\n",
       "      <td>184</td>\n",
       "    </tr>\n",
       "    <tr>\n",
       "      <th>...</th>\n",
       "      <td>...</td>\n",
       "      <td>...</td>\n",
       "      <td>...</td>\n",
       "      <td>...</td>\n",
       "      <td>...</td>\n",
       "      <td>...</td>\n",
       "      <td>...</td>\n",
       "      <td>...</td>\n",
       "      <td>...</td>\n",
       "      <td>...</td>\n",
       "      <td>...</td>\n",
       "      <td>...</td>\n",
       "      <td>...</td>\n",
       "      <td>...</td>\n",
       "      <td>...</td>\n",
       "      <td>...</td>\n",
       "    </tr>\n",
       "    <tr>\n",
       "      <th>256</th>\n",
       "      <td>257</td>\n",
       "      <td>zh</td>\n",
       "      <td>Atlantic Ocean</td>\n",
       "      <td>NaN</td>\n",
       "      <td>NaN</td>\n",
       "      <td>NaN</td>\n",
       "      <td>NaN</td>\n",
       "      <td>NaN</td>\n",
       "      <td>NaN</td>\n",
       "      <td>NaN</td>\n",
       "      <td>NaN</td>\n",
       "      <td>257</td>\n",
       "      <td>Abuja</td>\n",
       "      <td>2153000</td>\n",
       "      <td>1</td>\n",
       "      <td>129</td>\n",
       "    </tr>\n",
       "    <tr>\n",
       "      <th>257</th>\n",
       "      <td>258</td>\n",
       "      <td>xo</td>\n",
       "      <td>Indian Ocean</td>\n",
       "      <td>NaN</td>\n",
       "      <td>NaN</td>\n",
       "      <td>NaN</td>\n",
       "      <td>NaN</td>\n",
       "      <td>NaN</td>\n",
       "      <td>NaN</td>\n",
       "      <td>NaN</td>\n",
       "      <td>NaN</td>\n",
       "      <td>258</td>\n",
       "      <td>Port Harcourt</td>\n",
       "      <td>1894000</td>\n",
       "      <td>0</td>\n",
       "      <td>129</td>\n",
       "    </tr>\n",
       "    <tr>\n",
       "      <th>258</th>\n",
       "      <td>259</td>\n",
       "      <td>zn</td>\n",
       "      <td>Pacific Ocean</td>\n",
       "      <td>NaN</td>\n",
       "      <td>NaN</td>\n",
       "      <td>NaN</td>\n",
       "      <td>NaN</td>\n",
       "      <td>NaN</td>\n",
       "      <td>NaN</td>\n",
       "      <td>NaN</td>\n",
       "      <td>NaN</td>\n",
       "      <td>259</td>\n",
       "      <td>Kaduna</td>\n",
       "      <td>1524000</td>\n",
       "      <td>0</td>\n",
       "      <td>129</td>\n",
       "    </tr>\n",
       "    <tr>\n",
       "      <th>259</th>\n",
       "      <td>260</td>\n",
       "      <td>oo</td>\n",
       "      <td>Southern Ocean</td>\n",
       "      <td>NaN</td>\n",
       "      <td>NaN</td>\n",
       "      <td>NaN</td>\n",
       "      <td>NaN</td>\n",
       "      <td>NaN</td>\n",
       "      <td>NaN</td>\n",
       "      <td>NaN</td>\n",
       "      <td>NaN</td>\n",
       "      <td>260</td>\n",
       "      <td>Amsterdam</td>\n",
       "      <td>1056000</td>\n",
       "      <td>1</td>\n",
       "      <td>125</td>\n",
       "    </tr>\n",
       "    <tr>\n",
       "      <th>260</th>\n",
       "      <td>261</td>\n",
       "      <td>xx</td>\n",
       "      <td>World</td>\n",
       "      <td>NaN</td>\n",
       "      <td>NaN</td>\n",
       "      <td>NaN</td>\n",
       "      <td>7.256490e+09</td>\n",
       "      <td>1.08</td>\n",
       "      <td>18.60</td>\n",
       "      <td>7.80</td>\n",
       "      <td>NaN</td>\n",
       "      <td>261</td>\n",
       "      <td>Rotterdam</td>\n",
       "      <td>1014000</td>\n",
       "      <td>0</td>\n",
       "      <td>125</td>\n",
       "    </tr>\n",
       "  </tbody>\n",
       "</table>\n",
       "<p>261 rows × 16 columns</p>\n",
       "</div>"
      ],
      "text/plain": [
       "      id code            name       area  area_land  area_water    population  \\\n",
       "0      1   af     Afghanistan   652230.0   652230.0         0.0  3.256434e+07   \n",
       "1      2   al         Albania    28748.0    27398.0      1350.0  3.029278e+06   \n",
       "2      3   ag         Algeria  2381741.0  2381741.0         0.0  3.954217e+07   \n",
       "3      4   an         Andorra      468.0      468.0         0.0  8.558000e+04   \n",
       "4      5   ao          Angola  1246700.0  1246700.0         0.0  1.962535e+07   \n",
       "..   ...  ...             ...        ...        ...         ...           ...   \n",
       "256  257   zh  Atlantic Ocean        NaN        NaN         NaN           NaN   \n",
       "257  258   xo    Indian Ocean        NaN        NaN         NaN           NaN   \n",
       "258  259   zn   Pacific Ocean        NaN        NaN         NaN           NaN   \n",
       "259  260   oo  Southern Ocean        NaN        NaN         NaN           NaN   \n",
       "260  261   xx           World        NaN        NaN         NaN  7.256490e+09   \n",
       "\n",
       "     population_growth  birth_rate  death_rate  migration_rate   id  \\\n",
       "0                 2.32       38.57       13.89            1.51    1   \n",
       "1                 0.30       12.92        6.58            3.30    2   \n",
       "2                 1.84       23.67        4.31            0.92    3   \n",
       "3                 0.12        8.13        6.96            0.00    4   \n",
       "4                 2.78       38.78       11.49            0.46    5   \n",
       "..                 ...         ...         ...             ...  ...   \n",
       "256                NaN         NaN         NaN             NaN  257   \n",
       "257                NaN         NaN         NaN             NaN  258   \n",
       "258                NaN         NaN         NaN             NaN  259   \n",
       "259                NaN         NaN         NaN             NaN  260   \n",
       "260               1.08       18.60        7.80             NaN  261   \n",
       "\n",
       "              name  population  capital facts_id  \n",
       "0       Oranjestad       37000        1      216  \n",
       "1     Saint John'S       27000        1        6  \n",
       "2        Abu Dhabi      942000        1      184  \n",
       "3            Dubai     1978000        0      184  \n",
       "4          Sharjah      983000        0      184  \n",
       "..             ...         ...      ...      ...  \n",
       "256          Abuja     2153000        1      129  \n",
       "257  Port Harcourt     1894000        0      129  \n",
       "258         Kaduna     1524000        0      129  \n",
       "259      Amsterdam     1056000        1      125  \n",
       "260      Rotterdam     1014000        0      125  \n",
       "\n",
       "[261 rows x 16 columns]"
      ]
     },
     "execution_count": 21,
     "metadata": {},
     "output_type": "execute_result"
    }
   ],
   "source": [
    "join_tables = \"\"\"\n",
    "SELECT * \n",
    "FROM facts\n",
    "JOIN cities \n",
    "ON cities.id = facts.id;\n",
    "\n",
    "\"\"\"\n",
    "join_result = pd.read_sql(join_tables, connection)\n",
    "join_result"
   ]
  },
  {
   "cell_type": "markdown",
   "metadata": {},
   "source": [
    "# 10. What are the types of join and explain each.\n",
    " The most common are:\n",
    "- (INNER) JOIN - keep only records that match the condition (after the ON) in both the tables, and records in both tables that do not match wouldn't appear in the output\n",
    "- LEFT (OUTER) JOIN - keep all the values from the first (left) table - in conjunction with the matching rows from the right table. The columns from the right table, that don't have matching value in the left, would have NULL values.\n",
    "- RIGHT (OUTER) JOIN - this returns all records from the right table, and matched records from the left table\n",
    "- FULL (OUTER) JOIN - returns all records/rows when there is a match in either left or right table.\n",
    "- CROSS JOIN - this produces a table that merges each row from the first table with each second table row. It is also not required to include the CROSS JOIN query when using this query language.\n",
    "- SELF JOIN - This creates a table by joining itself and temporarily names at least one table in an SQL Statement"
   ]
  },
  {
   "cell_type": "code",
   "execution_count": 22,
   "metadata": {
    "execution": {
     "iopub.execute_input": "2021-07-18T17:49:09.019725Z",
     "iopub.status.busy": "2021-07-18T17:49:09.019361Z",
     "iopub.status.idle": "2021-07-18T17:49:09.024606Z",
     "shell.execute_reply": "2021-07-18T17:49:09.023257Z",
     "shell.execute_reply.started": "2021-07-18T17:49:09.019691Z"
    }
   },
   "outputs": [],
   "source": [
    "students = \"\"\"\n",
    "CREATE TABLE Student(id integer PRIMARY KEY, name text, age integer, class_s text);\n",
    "   \"\"\""
   ]
  },
  {
   "cell_type": "code",
   "execution_count": 23,
   "metadata": {
    "execution": {
     "iopub.execute_input": "2021-07-18T17:49:12.959916Z",
     "iopub.status.busy": "2021-07-18T17:49:12.959552Z",
     "iopub.status.idle": "2021-07-18T17:49:12.979834Z",
     "shell.execute_reply": "2021-07-18T17:49:12.978786Z",
     "shell.execute_reply.started": "2021-07-18T17:49:12.959883Z"
    }
   },
   "outputs": [
    {
     "name": "stdout",
     "output_type": "stream",
     "text": [
      "The error 'table Student already exists' occurred\n"
     ]
    }
   ],
   "source": [
    "#execute_sql(conn, students_table)\n",
    "execute_sql(conn, students)"
   ]
  },
  {
   "cell_type": "code",
   "execution_count": 24,
   "metadata": {
    "execution": {
     "iopub.execute_input": "2021-07-18T17:49:14.920349Z",
     "iopub.status.busy": "2021-07-18T17:49:14.919917Z",
     "iopub.status.idle": "2021-07-18T17:49:14.976186Z",
     "shell.execute_reply": "2021-07-18T17:49:14.974969Z",
     "shell.execute_reply.started": "2021-07-18T17:49:14.920296Z"
    }
   },
   "outputs": [
    {
     "name": "stdout",
     "output_type": "stream",
     "text": [
      "Connected to SQLite\n",
      "Failed to insert Python variable into sqlite table UNIQUE constraint failed: Student.id\n",
      "The SQLite connection is closed\n",
      "Connected to SQLite\n",
      "Failed to insert Python variable into sqlite table UNIQUE constraint failed: Student.id\n",
      "The SQLite connection is closed\n",
      "Connected to SQLite\n",
      "Failed to insert Python variable into sqlite table UNIQUE constraint failed: Student.id\n",
      "The SQLite connection is closed\n",
      "Connected to SQLite\n",
      "Failed to insert Python variable into sqlite table UNIQUE constraint failed: Student.id\n",
      "The SQLite connection is closed\n"
     ]
    }
   ],
   "source": [
    "def insertIntoTable4(id,name,age,class_s):\n",
    "    try:\n",
    "        conn = sqlite3.connect('womentechsters.db')\n",
    "        cursor = conn.cursor()\n",
    "        print(\"Connected to SQLite\")\n",
    "\n",
    "        sqlite_insert = \"\"\"INSERT INTO Student(id,name,age,class_s)\n",
    "                          VALUES (?,?,?,?);\"\"\"\n",
    "\n",
    "        data_tuple = (id,name,age,class_s)\n",
    "        cursor.execute(sqlite_insert, data_tuple)\n",
    "        conn.commit()\n",
    "        print(\"Python Variables inserted successfully into student table\")\n",
    "\n",
    "        cursor.close()\n",
    "\n",
    "    except sqlite3.Error as error:\n",
    "        print(\"Failed to insert Python variable into sqlite table\", error)\n",
    "    finally:\n",
    "        if conn:\n",
    "            conn.close()\n",
    "            print(\"The SQLite connection is closed\")\n",
    "\n",
    "\n",
    "insertIntoTable4(1,'Amara Iloh',10, 'SS1')\n",
    "insertIntoTable4(2,'Chinenye James', 11, 'SS2')\n",
    "insertIntoTable4(3,'Rukayat Fagbola', 14, 'SS3')\n",
    "insertIntoTable4(4,'Chioma Obi', 12, 'SS1')\n"
   ]
  },
  {
   "cell_type": "code",
   "execution_count": 25,
   "metadata": {
    "execution": {
     "iopub.execute_input": "2021-07-18T17:49:17.979697Z",
     "iopub.status.busy": "2021-07-18T17:49:17.979253Z",
     "iopub.status.idle": "2021-07-18T17:49:17.993945Z",
     "shell.execute_reply": "2021-07-18T17:49:17.992747Z",
     "shell.execute_reply.started": "2021-07-18T17:49:17.97966Z"
    }
   },
   "outputs": [
    {
     "data": {
      "text/html": [
       "<div>\n",
       "<style scoped>\n",
       "    .dataframe tbody tr th:only-of-type {\n",
       "        vertical-align: middle;\n",
       "    }\n",
       "\n",
       "    .dataframe tbody tr th {\n",
       "        vertical-align: top;\n",
       "    }\n",
       "\n",
       "    .dataframe thead th {\n",
       "        text-align: right;\n",
       "    }\n",
       "</style>\n",
       "<table border=\"1\" class=\"dataframe\">\n",
       "  <thead>\n",
       "    <tr style=\"text-align: right;\">\n",
       "      <th></th>\n",
       "      <th>id</th>\n",
       "      <th>name</th>\n",
       "      <th>age</th>\n",
       "      <th>class_s</th>\n",
       "    </tr>\n",
       "  </thead>\n",
       "  <tbody>\n",
       "    <tr>\n",
       "      <th>0</th>\n",
       "      <td>1</td>\n",
       "      <td>Amara Iloh</td>\n",
       "      <td>10</td>\n",
       "      <td>SS1</td>\n",
       "    </tr>\n",
       "    <tr>\n",
       "      <th>1</th>\n",
       "      <td>2</td>\n",
       "      <td>Chinenye James</td>\n",
       "      <td>11</td>\n",
       "      <td>SS2</td>\n",
       "    </tr>\n",
       "    <tr>\n",
       "      <th>2</th>\n",
       "      <td>3</td>\n",
       "      <td>Rukayat Fagbola</td>\n",
       "      <td>14</td>\n",
       "      <td>SS3</td>\n",
       "    </tr>\n",
       "    <tr>\n",
       "      <th>3</th>\n",
       "      <td>4</td>\n",
       "      <td>Chioma Obi</td>\n",
       "      <td>12</td>\n",
       "      <td>SS1</td>\n",
       "    </tr>\n",
       "  </tbody>\n",
       "</table>\n",
       "</div>"
      ],
      "text/plain": [
       "   id             name  age class_s\n",
       "0   1       Amara Iloh   10     SS1\n",
       "1   2   Chinenye James   11     SS2\n",
       "2   3  Rukayat Fagbola   14     SS3\n",
       "3   4       Chioma Obi   12     SS1"
      ]
     },
     "execution_count": 25,
     "metadata": {},
     "output_type": "execute_result"
    }
   ],
   "source": [
    "stds = pd.read_sql(\"\"\"SELECT *\n",
    "                        FROM Student;\"\"\", conn)\n",
    "stds"
   ]
  },
  {
   "cell_type": "code",
   "execution_count": 26,
   "metadata": {
    "execution": {
     "iopub.execute_input": "2021-07-18T17:49:26.520632Z",
     "iopub.status.busy": "2021-07-18T17:49:26.520261Z",
     "iopub.status.idle": "2021-07-18T17:49:26.525201Z",
     "shell.execute_reply": "2021-07-18T17:49:26.523765Z",
     "shell.execute_reply.started": "2021-07-18T17:49:26.5206Z"
    }
   },
   "outputs": [],
   "source": [
    "students_table2 = \"\"\"\n",
    "CREATE TABLE Studentdetails(\n",
    "    reg_id integer PRIMARY KEY, \n",
    "    class_type text,\n",
    "    serial_no interger,\n",
    "    fees_amount integer\n",
    "    );\n",
    "\n",
    "\"\"\""
   ]
  },
  {
   "cell_type": "code",
   "execution_count": 27,
   "metadata": {
    "execution": {
     "iopub.execute_input": "2021-07-18T17:49:29.340777Z",
     "iopub.status.busy": "2021-07-18T17:49:29.340217Z",
     "iopub.status.idle": "2021-07-18T17:49:29.36178Z",
     "shell.execute_reply": "2021-07-18T17:49:29.360272Z",
     "shell.execute_reply.started": "2021-07-18T17:49:29.340731Z"
    }
   },
   "outputs": [
    {
     "name": "stdout",
     "output_type": "stream",
     "text": [
      "The error 'table Studentdetails already exists' occurred\n"
     ]
    }
   ],
   "source": [
    "execute_sql(conn, students_table2)"
   ]
  },
  {
   "cell_type": "code",
   "execution_count": 28,
   "metadata": {
    "execution": {
     "iopub.execute_input": "2021-07-18T17:49:31.005085Z",
     "iopub.status.busy": "2021-07-18T17:49:31.00471Z",
     "iopub.status.idle": "2021-07-18T17:49:31.057073Z",
     "shell.execute_reply": "2021-07-18T17:49:31.056368Z",
     "shell.execute_reply.started": "2021-07-18T17:49:31.005051Z"
    }
   },
   "outputs": [
    {
     "name": "stdout",
     "output_type": "stream",
     "text": [
      "Connected to SQLite\n",
      "Failed to insert Python variable into sqlite table UNIQUE constraint failed: Studentdetails.reg_id\n",
      "The SQLite connection is closed\n",
      "Connected to SQLite\n",
      "Failed to insert Python variable into sqlite table UNIQUE constraint failed: Studentdetails.reg_id\n",
      "The SQLite connection is closed\n",
      "Connected to SQLite\n",
      "Failed to insert Python variable into sqlite table UNIQUE constraint failed: Studentdetails.reg_id\n",
      "The SQLite connection is closed\n",
      "Connected to SQLite\n",
      "Failed to insert Python variable into sqlite table UNIQUE constraint failed: Studentdetails.reg_id\n",
      "The SQLite connection is closed\n"
     ]
    }
   ],
   "source": [
    "def insertIntoTable5(reg_id,class_type,serial_no,fees_amount):\n",
    "    try:\n",
    "        conn = sqlite3.connect('womentechsters.db')\n",
    "        cursor = conn.cursor()\n",
    "        print(\"Connected to SQLite\")\n",
    "\n",
    "        sqlite_insert = \"\"\"INSERT INTO Studentdetails(reg_id,class_type,serial_no,fees_amount)\n",
    "                          VALUES (?,?,?,?);\"\"\"\n",
    "\n",
    "        data_tuple = (reg_id,class_type,serial_no,fees_amount)\n",
    "        cursor.execute(sqlite_insert, data_tuple)\n",
    "        conn.commit()\n",
    "        print(\"Python Variables inserted successfully into studentdetails table\")\n",
    "\n",
    "        cursor.close()\n",
    "\n",
    "    except sqlite3.Error as error:\n",
    "        print(\"Failed to insert Python variable into sqlite table\", error)\n",
    "    finally:\n",
    "        if conn:\n",
    "            conn.close()\n",
    "            print(\"The SQLite connection is closed\")\n",
    "\n",
    "\n",
    "insertIntoTable5(1,'Science', 1, 120000),\n",
    "insertIntoTable5(2,'Commercial', 2, 130000),\n",
    "insertIntoTable5(3,'Commercial', 2, 140000),\n",
    "insertIntoTable5(4,'Art',3, 80000)\n"
   ]
  },
  {
   "cell_type": "code",
   "execution_count": 29,
   "metadata": {
    "execution": {
     "iopub.execute_input": "2021-07-18T17:49:34.785128Z",
     "iopub.status.busy": "2021-07-18T17:49:34.784741Z",
     "iopub.status.idle": "2021-07-18T17:49:34.798878Z",
     "shell.execute_reply": "2021-07-18T17:49:34.797841Z",
     "shell.execute_reply.started": "2021-07-18T17:49:34.785094Z"
    }
   },
   "outputs": [
    {
     "data": {
      "text/html": [
       "<div>\n",
       "<style scoped>\n",
       "    .dataframe tbody tr th:only-of-type {\n",
       "        vertical-align: middle;\n",
       "    }\n",
       "\n",
       "    .dataframe tbody tr th {\n",
       "        vertical-align: top;\n",
       "    }\n",
       "\n",
       "    .dataframe thead th {\n",
       "        text-align: right;\n",
       "    }\n",
       "</style>\n",
       "<table border=\"1\" class=\"dataframe\">\n",
       "  <thead>\n",
       "    <tr style=\"text-align: right;\">\n",
       "      <th></th>\n",
       "      <th>reg_id</th>\n",
       "      <th>class_type</th>\n",
       "      <th>serial_no</th>\n",
       "      <th>fees_amount</th>\n",
       "    </tr>\n",
       "  </thead>\n",
       "  <tbody>\n",
       "    <tr>\n",
       "      <th>0</th>\n",
       "      <td>1</td>\n",
       "      <td>Science</td>\n",
       "      <td>1</td>\n",
       "      <td>120000</td>\n",
       "    </tr>\n",
       "    <tr>\n",
       "      <th>1</th>\n",
       "      <td>2</td>\n",
       "      <td>Commercial</td>\n",
       "      <td>2</td>\n",
       "      <td>130000</td>\n",
       "    </tr>\n",
       "    <tr>\n",
       "      <th>2</th>\n",
       "      <td>3</td>\n",
       "      <td>Commercial</td>\n",
       "      <td>2</td>\n",
       "      <td>140000</td>\n",
       "    </tr>\n",
       "    <tr>\n",
       "      <th>3</th>\n",
       "      <td>4</td>\n",
       "      <td>Art</td>\n",
       "      <td>3</td>\n",
       "      <td>80000</td>\n",
       "    </tr>\n",
       "  </tbody>\n",
       "</table>\n",
       "</div>"
      ],
      "text/plain": [
       "   reg_id  class_type  serial_no  fees_amount\n",
       "0       1     Science          1       120000\n",
       "1       2  Commercial          2       130000\n",
       "2       3  Commercial          2       140000\n",
       "3       4         Art          3        80000"
      ]
     },
     "execution_count": 29,
     "metadata": {},
     "output_type": "execute_result"
    }
   ],
   "source": [
    "stdetails = pd.read_sql(\"\"\"SELECT *\n",
    "                        FROM Studentdetails;\"\"\", conn)\n",
    "stdetails"
   ]
  },
  {
   "cell_type": "markdown",
   "metadata": {},
   "source": [
    "### LEFT (OUTER) JOIN"
   ]
  },
  {
   "cell_type": "code",
   "execution_count": 30,
   "metadata": {
    "execution": {
     "iopub.execute_input": "2021-07-18T17:49:37.469816Z",
     "iopub.status.busy": "2021-07-18T17:49:37.469457Z",
     "iopub.status.idle": "2021-07-18T17:49:37.484689Z",
     "shell.execute_reply": "2021-07-18T17:49:37.483649Z",
     "shell.execute_reply.started": "2021-07-18T17:49:37.469786Z"
    }
   },
   "outputs": [
    {
     "data": {
      "text/html": [
       "<div>\n",
       "<style scoped>\n",
       "    .dataframe tbody tr th:only-of-type {\n",
       "        vertical-align: middle;\n",
       "    }\n",
       "\n",
       "    .dataframe tbody tr th {\n",
       "        vertical-align: top;\n",
       "    }\n",
       "\n",
       "    .dataframe thead th {\n",
       "        text-align: right;\n",
       "    }\n",
       "</style>\n",
       "<table border=\"1\" class=\"dataframe\">\n",
       "  <thead>\n",
       "    <tr style=\"text-align: right;\">\n",
       "      <th></th>\n",
       "      <th>id</th>\n",
       "      <th>name</th>\n",
       "      <th>fees_amount</th>\n",
       "      <th>class_type</th>\n",
       "    </tr>\n",
       "  </thead>\n",
       "  <tbody>\n",
       "    <tr>\n",
       "      <th>0</th>\n",
       "      <td>1</td>\n",
       "      <td>Amara Iloh</td>\n",
       "      <td>120000.0</td>\n",
       "      <td>Science</td>\n",
       "    </tr>\n",
       "    <tr>\n",
       "      <th>1</th>\n",
       "      <td>2</td>\n",
       "      <td>Chinenye James</td>\n",
       "      <td>130000.0</td>\n",
       "      <td>Commercial</td>\n",
       "    </tr>\n",
       "    <tr>\n",
       "      <th>2</th>\n",
       "      <td>2</td>\n",
       "      <td>Chinenye James</td>\n",
       "      <td>140000.0</td>\n",
       "      <td>Commercial</td>\n",
       "    </tr>\n",
       "    <tr>\n",
       "      <th>3</th>\n",
       "      <td>3</td>\n",
       "      <td>Rukayat Fagbola</td>\n",
       "      <td>80000.0</td>\n",
       "      <td>Art</td>\n",
       "    </tr>\n",
       "    <tr>\n",
       "      <th>4</th>\n",
       "      <td>4</td>\n",
       "      <td>Chioma Obi</td>\n",
       "      <td>NaN</td>\n",
       "      <td>None</td>\n",
       "    </tr>\n",
       "  </tbody>\n",
       "</table>\n",
       "</div>"
      ],
      "text/plain": [
       "   id             name  fees_amount  class_type\n",
       "0   1       Amara Iloh     120000.0     Science\n",
       "1   2   Chinenye James     130000.0  Commercial\n",
       "2   2   Chinenye James     140000.0  Commercial\n",
       "3   3  Rukayat Fagbola      80000.0         Art\n",
       "4   4       Chioma Obi          NaN        None"
      ]
     },
     "execution_count": 30,
     "metadata": {},
     "output_type": "execute_result"
    }
   ],
   "source": [
    "left_join = \"\"\"\n",
    "SELECT id,name,fees_amount,class_type \n",
    "FROM Student\n",
    "LEFT JOIN Studentdetails \n",
    "ON Student.id=Studentdetails.serial_no;\n",
    "\n",
    "\"\"\"\n",
    "left_join_result = pd.read_sql(left_join, conn)\n",
    "left_join_result"
   ]
  },
  {
   "cell_type": "markdown",
   "metadata": {},
   "source": [
    "## RIGHT JOIN"
   ]
  },
  {
   "cell_type": "code",
   "execution_count": 31,
   "metadata": {
    "execution": {
     "iopub.execute_input": "2021-07-18T17:49:43.590807Z",
     "iopub.status.busy": "2021-07-18T17:49:43.590457Z",
     "iopub.status.idle": "2021-07-18T17:49:43.667294Z",
     "shell.execute_reply": "2021-07-18T17:49:43.665664Z",
     "shell.execute_reply.started": "2021-07-18T17:49:43.590779Z"
    }
   },
   "outputs": [
    {
     "ename": "DatabaseError",
     "evalue": "Execution failed on sql '\nSELECT id,name,fees_amount,class_type \nFROM Student\nRIGHT JOIN Studentdetails \nON Student.id=Studentdetails.serial_no;\n\n': RIGHT and FULL OUTER JOINs are not currently supported",
     "output_type": "error",
     "traceback": [
      "\u001b[0;31m---------------------------------------------------------------------------\u001b[0m",
      "\u001b[0;31mOperationalError\u001b[0m                          Traceback (most recent call last)",
      "\u001b[0;32m/opt/anaconda3/lib/python3.8/site-packages/pandas/io/sql.py\u001b[0m in \u001b[0;36mexecute\u001b[0;34m(self, *args, **kwargs)\u001b[0m\n\u001b[1;32m   1724\u001b[0m         \u001b[0;32mtry\u001b[0m\u001b[0;34m:\u001b[0m\u001b[0;34m\u001b[0m\u001b[0;34m\u001b[0m\u001b[0m\n\u001b[0;32m-> 1725\u001b[0;31m             \u001b[0mcur\u001b[0m\u001b[0;34m.\u001b[0m\u001b[0mexecute\u001b[0m\u001b[0;34m(\u001b[0m\u001b[0;34m*\u001b[0m\u001b[0margs\u001b[0m\u001b[0;34m,\u001b[0m \u001b[0;34m**\u001b[0m\u001b[0mkwargs\u001b[0m\u001b[0;34m)\u001b[0m\u001b[0;34m\u001b[0m\u001b[0;34m\u001b[0m\u001b[0m\n\u001b[0m\u001b[1;32m   1726\u001b[0m             \u001b[0;32mreturn\u001b[0m \u001b[0mcur\u001b[0m\u001b[0;34m\u001b[0m\u001b[0;34m\u001b[0m\u001b[0m\n",
      "\u001b[0;31mOperationalError\u001b[0m: RIGHT and FULL OUTER JOINs are not currently supported",
      "\nThe above exception was the direct cause of the following exception:\n",
      "\u001b[0;31mDatabaseError\u001b[0m                             Traceback (most recent call last)",
      "\u001b[0;32m<ipython-input-31-e92482029db8>\u001b[0m in \u001b[0;36m<module>\u001b[0;34m\u001b[0m\n\u001b[1;32m      6\u001b[0m \u001b[0;34m\u001b[0m\u001b[0m\n\u001b[1;32m      7\u001b[0m \"\"\"\n\u001b[0;32m----> 8\u001b[0;31m \u001b[0mright_join_result\u001b[0m \u001b[0;34m=\u001b[0m \u001b[0mpd\u001b[0m\u001b[0;34m.\u001b[0m\u001b[0mread_sql\u001b[0m\u001b[0;34m(\u001b[0m\u001b[0mright_join\u001b[0m\u001b[0;34m,\u001b[0m \u001b[0mconn\u001b[0m\u001b[0;34m)\u001b[0m\u001b[0;34m\u001b[0m\u001b[0;34m\u001b[0m\u001b[0m\n\u001b[0m\u001b[1;32m      9\u001b[0m \u001b[0mright_join_result\u001b[0m\u001b[0;34m\u001b[0m\u001b[0;34m\u001b[0m\u001b[0m\n",
      "\u001b[0;32m/opt/anaconda3/lib/python3.8/site-packages/pandas/io/sql.py\u001b[0m in \u001b[0;36mread_sql\u001b[0;34m(sql, con, index_col, coerce_float, params, parse_dates, columns, chunksize)\u001b[0m\n\u001b[1;32m    493\u001b[0m \u001b[0;34m\u001b[0m\u001b[0m\n\u001b[1;32m    494\u001b[0m     \u001b[0;32mif\u001b[0m \u001b[0misinstance\u001b[0m\u001b[0;34m(\u001b[0m\u001b[0mpandas_sql\u001b[0m\u001b[0;34m,\u001b[0m \u001b[0mSQLiteDatabase\u001b[0m\u001b[0;34m)\u001b[0m\u001b[0;34m:\u001b[0m\u001b[0;34m\u001b[0m\u001b[0;34m\u001b[0m\u001b[0m\n\u001b[0;32m--> 495\u001b[0;31m         return pandas_sql.read_query(\n\u001b[0m\u001b[1;32m    496\u001b[0m             \u001b[0msql\u001b[0m\u001b[0;34m,\u001b[0m\u001b[0;34m\u001b[0m\u001b[0;34m\u001b[0m\u001b[0m\n\u001b[1;32m    497\u001b[0m             \u001b[0mindex_col\u001b[0m\u001b[0;34m=\u001b[0m\u001b[0mindex_col\u001b[0m\u001b[0;34m,\u001b[0m\u001b[0;34m\u001b[0m\u001b[0;34m\u001b[0m\u001b[0m\n",
      "\u001b[0;32m/opt/anaconda3/lib/python3.8/site-packages/pandas/io/sql.py\u001b[0m in \u001b[0;36mread_query\u001b[0;34m(self, sql, index_col, coerce_float, params, parse_dates, chunksize)\u001b[0m\n\u001b[1;32m   1769\u001b[0m \u001b[0;34m\u001b[0m\u001b[0m\n\u001b[1;32m   1770\u001b[0m         \u001b[0margs\u001b[0m \u001b[0;34m=\u001b[0m \u001b[0m_convert_params\u001b[0m\u001b[0;34m(\u001b[0m\u001b[0msql\u001b[0m\u001b[0;34m,\u001b[0m \u001b[0mparams\u001b[0m\u001b[0;34m)\u001b[0m\u001b[0;34m\u001b[0m\u001b[0;34m\u001b[0m\u001b[0m\n\u001b[0;32m-> 1771\u001b[0;31m         \u001b[0mcursor\u001b[0m \u001b[0;34m=\u001b[0m \u001b[0mself\u001b[0m\u001b[0;34m.\u001b[0m\u001b[0mexecute\u001b[0m\u001b[0;34m(\u001b[0m\u001b[0;34m*\u001b[0m\u001b[0margs\u001b[0m\u001b[0;34m)\u001b[0m\u001b[0;34m\u001b[0m\u001b[0;34m\u001b[0m\u001b[0m\n\u001b[0m\u001b[1;32m   1772\u001b[0m         \u001b[0mcolumns\u001b[0m \u001b[0;34m=\u001b[0m \u001b[0;34m[\u001b[0m\u001b[0mcol_desc\u001b[0m\u001b[0;34m[\u001b[0m\u001b[0;36m0\u001b[0m\u001b[0;34m]\u001b[0m \u001b[0;32mfor\u001b[0m \u001b[0mcol_desc\u001b[0m \u001b[0;32min\u001b[0m \u001b[0mcursor\u001b[0m\u001b[0;34m.\u001b[0m\u001b[0mdescription\u001b[0m\u001b[0;34m]\u001b[0m\u001b[0;34m\u001b[0m\u001b[0;34m\u001b[0m\u001b[0m\n\u001b[1;32m   1773\u001b[0m \u001b[0;34m\u001b[0m\u001b[0m\n",
      "\u001b[0;32m/opt/anaconda3/lib/python3.8/site-packages/pandas/io/sql.py\u001b[0m in \u001b[0;36mexecute\u001b[0;34m(self, *args, **kwargs)\u001b[0m\n\u001b[1;32m   1735\u001b[0m \u001b[0;34m\u001b[0m\u001b[0m\n\u001b[1;32m   1736\u001b[0m             \u001b[0mex\u001b[0m \u001b[0;34m=\u001b[0m \u001b[0mDatabaseError\u001b[0m\u001b[0;34m(\u001b[0m\u001b[0;34mf\"Execution failed on sql '{args[0]}': {exc}\"\u001b[0m\u001b[0;34m)\u001b[0m\u001b[0;34m\u001b[0m\u001b[0;34m\u001b[0m\u001b[0m\n\u001b[0;32m-> 1737\u001b[0;31m             \u001b[0;32mraise\u001b[0m \u001b[0mex\u001b[0m \u001b[0;32mfrom\u001b[0m \u001b[0mexc\u001b[0m\u001b[0;34m\u001b[0m\u001b[0;34m\u001b[0m\u001b[0m\n\u001b[0m\u001b[1;32m   1738\u001b[0m \u001b[0;34m\u001b[0m\u001b[0m\n\u001b[1;32m   1739\u001b[0m     \u001b[0;34m@\u001b[0m\u001b[0mstaticmethod\u001b[0m\u001b[0;34m\u001b[0m\u001b[0;34m\u001b[0m\u001b[0m\n",
      "\u001b[0;31mDatabaseError\u001b[0m: Execution failed on sql '\nSELECT id,name,fees_amount,class_type \nFROM Student\nRIGHT JOIN Studentdetails \nON Student.id=Studentdetails.serial_no;\n\n': RIGHT and FULL OUTER JOINs are not currently supported"
     ]
    }
   ],
   "source": [
    "right_join = \"\"\"\n",
    "SELECT id,name,fees_amount,class_type \n",
    "FROM Student\n",
    "RIGHT JOIN Studentdetails \n",
    "ON Student.id=Studentdetails.serial_no;\n",
    "\n",
    "\"\"\"\n",
    "right_join_result = pd.read_sql(right_join, conn)\n",
    "right_join_result"
   ]
  },
  {
   "cell_type": "markdown",
   "metadata": {},
   "source": [
    "### FULL JOIN"
   ]
  },
  {
   "cell_type": "code",
   "execution_count": 32,
   "metadata": {
    "execution": {
     "iopub.execute_input": "2021-07-18T17:49:50.460978Z",
     "iopub.status.busy": "2021-07-18T17:49:50.460613Z",
     "iopub.status.idle": "2021-07-18T17:49:50.480647Z",
     "shell.execute_reply": "2021-07-18T17:49:50.479279Z",
     "shell.execute_reply.started": "2021-07-18T17:49:50.460946Z"
    }
   },
   "outputs": [
    {
     "ename": "DatabaseError",
     "evalue": "Execution failed on sql '\n\nSELECT * \nFROM Student\nFULL OUTER JOIN Studentdetails \nON Student.id=Studentdetails.serial_no;\n\n': RIGHT and FULL OUTER JOINs are not currently supported",
     "output_type": "error",
     "traceback": [
      "\u001b[0;31m---------------------------------------------------------------------------\u001b[0m",
      "\u001b[0;31mOperationalError\u001b[0m                          Traceback (most recent call last)",
      "\u001b[0;32m/opt/anaconda3/lib/python3.8/site-packages/pandas/io/sql.py\u001b[0m in \u001b[0;36mexecute\u001b[0;34m(self, *args, **kwargs)\u001b[0m\n\u001b[1;32m   1724\u001b[0m         \u001b[0;32mtry\u001b[0m\u001b[0;34m:\u001b[0m\u001b[0;34m\u001b[0m\u001b[0;34m\u001b[0m\u001b[0m\n\u001b[0;32m-> 1725\u001b[0;31m             \u001b[0mcur\u001b[0m\u001b[0;34m.\u001b[0m\u001b[0mexecute\u001b[0m\u001b[0;34m(\u001b[0m\u001b[0;34m*\u001b[0m\u001b[0margs\u001b[0m\u001b[0;34m,\u001b[0m \u001b[0;34m**\u001b[0m\u001b[0mkwargs\u001b[0m\u001b[0;34m)\u001b[0m\u001b[0;34m\u001b[0m\u001b[0;34m\u001b[0m\u001b[0m\n\u001b[0m\u001b[1;32m   1726\u001b[0m             \u001b[0;32mreturn\u001b[0m \u001b[0mcur\u001b[0m\u001b[0;34m\u001b[0m\u001b[0;34m\u001b[0m\u001b[0m\n",
      "\u001b[0;31mOperationalError\u001b[0m: RIGHT and FULL OUTER JOINs are not currently supported",
      "\nThe above exception was the direct cause of the following exception:\n",
      "\u001b[0;31mDatabaseError\u001b[0m                             Traceback (most recent call last)",
      "\u001b[0;32m<ipython-input-32-d6e7c008b91c>\u001b[0m in \u001b[0;36m<module>\u001b[0;34m\u001b[0m\n\u001b[1;32m      7\u001b[0m \u001b[0;34m\u001b[0m\u001b[0m\n\u001b[1;32m      8\u001b[0m \"\"\"\n\u001b[0;32m----> 9\u001b[0;31m \u001b[0mfull_join_result\u001b[0m \u001b[0;34m=\u001b[0m \u001b[0mpd\u001b[0m\u001b[0;34m.\u001b[0m\u001b[0mread_sql\u001b[0m\u001b[0;34m(\u001b[0m\u001b[0mfull_join\u001b[0m\u001b[0;34m,\u001b[0m \u001b[0mconn\u001b[0m\u001b[0;34m)\u001b[0m\u001b[0;34m\u001b[0m\u001b[0;34m\u001b[0m\u001b[0m\n\u001b[0m\u001b[1;32m     10\u001b[0m \u001b[0mfull_join_result\u001b[0m\u001b[0;34m\u001b[0m\u001b[0;34m\u001b[0m\u001b[0m\n",
      "\u001b[0;32m/opt/anaconda3/lib/python3.8/site-packages/pandas/io/sql.py\u001b[0m in \u001b[0;36mread_sql\u001b[0;34m(sql, con, index_col, coerce_float, params, parse_dates, columns, chunksize)\u001b[0m\n\u001b[1;32m    493\u001b[0m \u001b[0;34m\u001b[0m\u001b[0m\n\u001b[1;32m    494\u001b[0m     \u001b[0;32mif\u001b[0m \u001b[0misinstance\u001b[0m\u001b[0;34m(\u001b[0m\u001b[0mpandas_sql\u001b[0m\u001b[0;34m,\u001b[0m \u001b[0mSQLiteDatabase\u001b[0m\u001b[0;34m)\u001b[0m\u001b[0;34m:\u001b[0m\u001b[0;34m\u001b[0m\u001b[0;34m\u001b[0m\u001b[0m\n\u001b[0;32m--> 495\u001b[0;31m         return pandas_sql.read_query(\n\u001b[0m\u001b[1;32m    496\u001b[0m             \u001b[0msql\u001b[0m\u001b[0;34m,\u001b[0m\u001b[0;34m\u001b[0m\u001b[0;34m\u001b[0m\u001b[0m\n\u001b[1;32m    497\u001b[0m             \u001b[0mindex_col\u001b[0m\u001b[0;34m=\u001b[0m\u001b[0mindex_col\u001b[0m\u001b[0;34m,\u001b[0m\u001b[0;34m\u001b[0m\u001b[0;34m\u001b[0m\u001b[0m\n",
      "\u001b[0;32m/opt/anaconda3/lib/python3.8/site-packages/pandas/io/sql.py\u001b[0m in \u001b[0;36mread_query\u001b[0;34m(self, sql, index_col, coerce_float, params, parse_dates, chunksize)\u001b[0m\n\u001b[1;32m   1769\u001b[0m \u001b[0;34m\u001b[0m\u001b[0m\n\u001b[1;32m   1770\u001b[0m         \u001b[0margs\u001b[0m \u001b[0;34m=\u001b[0m \u001b[0m_convert_params\u001b[0m\u001b[0;34m(\u001b[0m\u001b[0msql\u001b[0m\u001b[0;34m,\u001b[0m \u001b[0mparams\u001b[0m\u001b[0;34m)\u001b[0m\u001b[0;34m\u001b[0m\u001b[0;34m\u001b[0m\u001b[0m\n\u001b[0;32m-> 1771\u001b[0;31m         \u001b[0mcursor\u001b[0m \u001b[0;34m=\u001b[0m \u001b[0mself\u001b[0m\u001b[0;34m.\u001b[0m\u001b[0mexecute\u001b[0m\u001b[0;34m(\u001b[0m\u001b[0;34m*\u001b[0m\u001b[0margs\u001b[0m\u001b[0;34m)\u001b[0m\u001b[0;34m\u001b[0m\u001b[0;34m\u001b[0m\u001b[0m\n\u001b[0m\u001b[1;32m   1772\u001b[0m         \u001b[0mcolumns\u001b[0m \u001b[0;34m=\u001b[0m \u001b[0;34m[\u001b[0m\u001b[0mcol_desc\u001b[0m\u001b[0;34m[\u001b[0m\u001b[0;36m0\u001b[0m\u001b[0;34m]\u001b[0m \u001b[0;32mfor\u001b[0m \u001b[0mcol_desc\u001b[0m \u001b[0;32min\u001b[0m \u001b[0mcursor\u001b[0m\u001b[0;34m.\u001b[0m\u001b[0mdescription\u001b[0m\u001b[0;34m]\u001b[0m\u001b[0;34m\u001b[0m\u001b[0;34m\u001b[0m\u001b[0m\n\u001b[1;32m   1773\u001b[0m \u001b[0;34m\u001b[0m\u001b[0m\n",
      "\u001b[0;32m/opt/anaconda3/lib/python3.8/site-packages/pandas/io/sql.py\u001b[0m in \u001b[0;36mexecute\u001b[0;34m(self, *args, **kwargs)\u001b[0m\n\u001b[1;32m   1735\u001b[0m \u001b[0;34m\u001b[0m\u001b[0m\n\u001b[1;32m   1736\u001b[0m             \u001b[0mex\u001b[0m \u001b[0;34m=\u001b[0m \u001b[0mDatabaseError\u001b[0m\u001b[0;34m(\u001b[0m\u001b[0;34mf\"Execution failed on sql '{args[0]}': {exc}\"\u001b[0m\u001b[0;34m)\u001b[0m\u001b[0;34m\u001b[0m\u001b[0;34m\u001b[0m\u001b[0m\n\u001b[0;32m-> 1737\u001b[0;31m             \u001b[0;32mraise\u001b[0m \u001b[0mex\u001b[0m \u001b[0;32mfrom\u001b[0m \u001b[0mexc\u001b[0m\u001b[0;34m\u001b[0m\u001b[0;34m\u001b[0m\u001b[0m\n\u001b[0m\u001b[1;32m   1738\u001b[0m \u001b[0;34m\u001b[0m\u001b[0m\n\u001b[1;32m   1739\u001b[0m     \u001b[0;34m@\u001b[0m\u001b[0mstaticmethod\u001b[0m\u001b[0;34m\u001b[0m\u001b[0;34m\u001b[0m\u001b[0m\n",
      "\u001b[0;31mDatabaseError\u001b[0m: Execution failed on sql '\n\nSELECT * \nFROM Student\nFULL OUTER JOIN Studentdetails \nON Student.id=Studentdetails.serial_no;\n\n': RIGHT and FULL OUTER JOINs are not currently supported"
     ]
    }
   ],
   "source": [
    "full_join = \"\"\"\n",
    "\n",
    "SELECT * \n",
    "FROM Student\n",
    "FULL OUTER JOIN Studentdetails \n",
    "ON Student.id=Studentdetails.serial_no;\n",
    "\n",
    "\"\"\"\n",
    "full_join_result = pd.read_sql(full_join, conn)\n",
    "full_join_result"
   ]
  },
  {
   "cell_type": "markdown",
   "metadata": {},
   "source": [
    "### 32. CROSS JOIN"
   ]
  },
  {
   "cell_type": "code",
   "execution_count": 33,
   "metadata": {
    "execution": {
     "iopub.execute_input": "2021-07-18T17:49:55.519788Z",
     "iopub.status.busy": "2021-07-18T17:49:55.519265Z",
     "iopub.status.idle": "2021-07-18T17:49:55.540105Z",
     "shell.execute_reply": "2021-07-18T17:49:55.538887Z",
     "shell.execute_reply.started": "2021-07-18T17:49:55.519754Z"
    }
   },
   "outputs": [
    {
     "data": {
      "text/html": [
       "<div>\n",
       "<style scoped>\n",
       "    .dataframe tbody tr th:only-of-type {\n",
       "        vertical-align: middle;\n",
       "    }\n",
       "\n",
       "    .dataframe tbody tr th {\n",
       "        vertical-align: top;\n",
       "    }\n",
       "\n",
       "    .dataframe thead th {\n",
       "        text-align: right;\n",
       "    }\n",
       "</style>\n",
       "<table border=\"1\" class=\"dataframe\">\n",
       "  <thead>\n",
       "    <tr style=\"text-align: right;\">\n",
       "      <th></th>\n",
       "      <th>id</th>\n",
       "      <th>name</th>\n",
       "      <th>age</th>\n",
       "      <th>class_s</th>\n",
       "      <th>reg_id</th>\n",
       "      <th>class_type</th>\n",
       "      <th>serial_no</th>\n",
       "      <th>fees_amount</th>\n",
       "    </tr>\n",
       "  </thead>\n",
       "  <tbody>\n",
       "    <tr>\n",
       "      <th>0</th>\n",
       "      <td>1</td>\n",
       "      <td>Amara Iloh</td>\n",
       "      <td>10</td>\n",
       "      <td>SS1</td>\n",
       "      <td>1</td>\n",
       "      <td>Science</td>\n",
       "      <td>1</td>\n",
       "      <td>120000</td>\n",
       "    </tr>\n",
       "    <tr>\n",
       "      <th>1</th>\n",
       "      <td>1</td>\n",
       "      <td>Amara Iloh</td>\n",
       "      <td>10</td>\n",
       "      <td>SS1</td>\n",
       "      <td>2</td>\n",
       "      <td>Commercial</td>\n",
       "      <td>2</td>\n",
       "      <td>130000</td>\n",
       "    </tr>\n",
       "    <tr>\n",
       "      <th>2</th>\n",
       "      <td>1</td>\n",
       "      <td>Amara Iloh</td>\n",
       "      <td>10</td>\n",
       "      <td>SS1</td>\n",
       "      <td>3</td>\n",
       "      <td>Commercial</td>\n",
       "      <td>2</td>\n",
       "      <td>140000</td>\n",
       "    </tr>\n",
       "    <tr>\n",
       "      <th>3</th>\n",
       "      <td>1</td>\n",
       "      <td>Amara Iloh</td>\n",
       "      <td>10</td>\n",
       "      <td>SS1</td>\n",
       "      <td>4</td>\n",
       "      <td>Art</td>\n",
       "      <td>3</td>\n",
       "      <td>80000</td>\n",
       "    </tr>\n",
       "    <tr>\n",
       "      <th>4</th>\n",
       "      <td>2</td>\n",
       "      <td>Chinenye James</td>\n",
       "      <td>11</td>\n",
       "      <td>SS2</td>\n",
       "      <td>1</td>\n",
       "      <td>Science</td>\n",
       "      <td>1</td>\n",
       "      <td>120000</td>\n",
       "    </tr>\n",
       "    <tr>\n",
       "      <th>5</th>\n",
       "      <td>2</td>\n",
       "      <td>Chinenye James</td>\n",
       "      <td>11</td>\n",
       "      <td>SS2</td>\n",
       "      <td>2</td>\n",
       "      <td>Commercial</td>\n",
       "      <td>2</td>\n",
       "      <td>130000</td>\n",
       "    </tr>\n",
       "    <tr>\n",
       "      <th>6</th>\n",
       "      <td>2</td>\n",
       "      <td>Chinenye James</td>\n",
       "      <td>11</td>\n",
       "      <td>SS2</td>\n",
       "      <td>3</td>\n",
       "      <td>Commercial</td>\n",
       "      <td>2</td>\n",
       "      <td>140000</td>\n",
       "    </tr>\n",
       "    <tr>\n",
       "      <th>7</th>\n",
       "      <td>2</td>\n",
       "      <td>Chinenye James</td>\n",
       "      <td>11</td>\n",
       "      <td>SS2</td>\n",
       "      <td>4</td>\n",
       "      <td>Art</td>\n",
       "      <td>3</td>\n",
       "      <td>80000</td>\n",
       "    </tr>\n",
       "    <tr>\n",
       "      <th>8</th>\n",
       "      <td>3</td>\n",
       "      <td>Rukayat Fagbola</td>\n",
       "      <td>14</td>\n",
       "      <td>SS3</td>\n",
       "      <td>1</td>\n",
       "      <td>Science</td>\n",
       "      <td>1</td>\n",
       "      <td>120000</td>\n",
       "    </tr>\n",
       "    <tr>\n",
       "      <th>9</th>\n",
       "      <td>3</td>\n",
       "      <td>Rukayat Fagbola</td>\n",
       "      <td>14</td>\n",
       "      <td>SS3</td>\n",
       "      <td>2</td>\n",
       "      <td>Commercial</td>\n",
       "      <td>2</td>\n",
       "      <td>130000</td>\n",
       "    </tr>\n",
       "    <tr>\n",
       "      <th>10</th>\n",
       "      <td>3</td>\n",
       "      <td>Rukayat Fagbola</td>\n",
       "      <td>14</td>\n",
       "      <td>SS3</td>\n",
       "      <td>3</td>\n",
       "      <td>Commercial</td>\n",
       "      <td>2</td>\n",
       "      <td>140000</td>\n",
       "    </tr>\n",
       "    <tr>\n",
       "      <th>11</th>\n",
       "      <td>3</td>\n",
       "      <td>Rukayat Fagbola</td>\n",
       "      <td>14</td>\n",
       "      <td>SS3</td>\n",
       "      <td>4</td>\n",
       "      <td>Art</td>\n",
       "      <td>3</td>\n",
       "      <td>80000</td>\n",
       "    </tr>\n",
       "    <tr>\n",
       "      <th>12</th>\n",
       "      <td>4</td>\n",
       "      <td>Chioma Obi</td>\n",
       "      <td>12</td>\n",
       "      <td>SS1</td>\n",
       "      <td>1</td>\n",
       "      <td>Science</td>\n",
       "      <td>1</td>\n",
       "      <td>120000</td>\n",
       "    </tr>\n",
       "    <tr>\n",
       "      <th>13</th>\n",
       "      <td>4</td>\n",
       "      <td>Chioma Obi</td>\n",
       "      <td>12</td>\n",
       "      <td>SS1</td>\n",
       "      <td>2</td>\n",
       "      <td>Commercial</td>\n",
       "      <td>2</td>\n",
       "      <td>130000</td>\n",
       "    </tr>\n",
       "    <tr>\n",
       "      <th>14</th>\n",
       "      <td>4</td>\n",
       "      <td>Chioma Obi</td>\n",
       "      <td>12</td>\n",
       "      <td>SS1</td>\n",
       "      <td>3</td>\n",
       "      <td>Commercial</td>\n",
       "      <td>2</td>\n",
       "      <td>140000</td>\n",
       "    </tr>\n",
       "    <tr>\n",
       "      <th>15</th>\n",
       "      <td>4</td>\n",
       "      <td>Chioma Obi</td>\n",
       "      <td>12</td>\n",
       "      <td>SS1</td>\n",
       "      <td>4</td>\n",
       "      <td>Art</td>\n",
       "      <td>3</td>\n",
       "      <td>80000</td>\n",
       "    </tr>\n",
       "  </tbody>\n",
       "</table>\n",
       "</div>"
      ],
      "text/plain": [
       "    id             name  age class_s  reg_id  class_type  serial_no  \\\n",
       "0    1       Amara Iloh   10     SS1       1     Science          1   \n",
       "1    1       Amara Iloh   10     SS1       2  Commercial          2   \n",
       "2    1       Amara Iloh   10     SS1       3  Commercial          2   \n",
       "3    1       Amara Iloh   10     SS1       4         Art          3   \n",
       "4    2   Chinenye James   11     SS2       1     Science          1   \n",
       "5    2   Chinenye James   11     SS2       2  Commercial          2   \n",
       "6    2   Chinenye James   11     SS2       3  Commercial          2   \n",
       "7    2   Chinenye James   11     SS2       4         Art          3   \n",
       "8    3  Rukayat Fagbola   14     SS3       1     Science          1   \n",
       "9    3  Rukayat Fagbola   14     SS3       2  Commercial          2   \n",
       "10   3  Rukayat Fagbola   14     SS3       3  Commercial          2   \n",
       "11   3  Rukayat Fagbola   14     SS3       4         Art          3   \n",
       "12   4       Chioma Obi   12     SS1       1     Science          1   \n",
       "13   4       Chioma Obi   12     SS1       2  Commercial          2   \n",
       "14   4       Chioma Obi   12     SS1       3  Commercial          2   \n",
       "15   4       Chioma Obi   12     SS1       4         Art          3   \n",
       "\n",
       "    fees_amount  \n",
       "0        120000  \n",
       "1        130000  \n",
       "2        140000  \n",
       "3         80000  \n",
       "4        120000  \n",
       "5        130000  \n",
       "6        140000  \n",
       "7         80000  \n",
       "8        120000  \n",
       "9        130000  \n",
       "10       140000  \n",
       "11        80000  \n",
       "12       120000  \n",
       "13       130000  \n",
       "14       140000  \n",
       "15        80000  "
      ]
     },
     "execution_count": 33,
     "metadata": {},
     "output_type": "execute_result"
    }
   ],
   "source": [
    "cross_join = \"\"\"\n",
    "SELECT * \n",
    "FROM Student\n",
    "CROSS JOIN Studentdetails;\n",
    "\n",
    "\"\"\"\n",
    "cross_join_result = pd.read_sql(cross_join, conn)\n",
    "cross_join_result"
   ]
  },
  {
   "cell_type": "markdown",
   "metadata": {},
   "source": [
    "### 31. SELF JOIN"
   ]
  },
  {
   "cell_type": "code",
   "execution_count": 34,
   "metadata": {
    "execution": {
     "iopub.execute_input": "2021-07-18T17:50:00.389585Z",
     "iopub.status.busy": "2021-07-18T17:50:00.389202Z",
     "iopub.status.idle": "2021-07-18T17:50:00.543881Z",
     "shell.execute_reply": "2021-07-18T17:50:00.542862Z",
     "shell.execute_reply.started": "2021-07-18T17:50:00.389552Z"
    }
   },
   "outputs": [
    {
     "data": {
      "text/html": [
       "<div>\n",
       "<style scoped>\n",
       "    .dataframe tbody tr th:only-of-type {\n",
       "        vertical-align: middle;\n",
       "    }\n",
       "\n",
       "    .dataframe tbody tr th {\n",
       "        vertical-align: top;\n",
       "    }\n",
       "\n",
       "    .dataframe thead th {\n",
       "        text-align: right;\n",
       "    }\n",
       "</style>\n",
       "<table border=\"1\" class=\"dataframe\">\n",
       "  <thead>\n",
       "    <tr style=\"text-align: right;\">\n",
       "      <th></th>\n",
       "      <th>id</th>\n",
       "      <th>name</th>\n",
       "    </tr>\n",
       "  </thead>\n",
       "  <tbody>\n",
       "    <tr>\n",
       "      <th>0</th>\n",
       "      <td>1</td>\n",
       "      <td>Afghanistan</td>\n",
       "    </tr>\n",
       "    <tr>\n",
       "      <th>1</th>\n",
       "      <td>1</td>\n",
       "      <td>Afghanistan</td>\n",
       "    </tr>\n",
       "    <tr>\n",
       "      <th>2</th>\n",
       "      <td>1</td>\n",
       "      <td>Afghanistan</td>\n",
       "    </tr>\n",
       "    <tr>\n",
       "      <th>3</th>\n",
       "      <td>1</td>\n",
       "      <td>Afghanistan</td>\n",
       "    </tr>\n",
       "    <tr>\n",
       "      <th>4</th>\n",
       "      <td>1</td>\n",
       "      <td>Afghanistan</td>\n",
       "    </tr>\n",
       "    <tr>\n",
       "      <th>...</th>\n",
       "      <td>...</td>\n",
       "      <td>...</td>\n",
       "    </tr>\n",
       "    <tr>\n",
       "      <th>62282</th>\n",
       "      <td>261</td>\n",
       "      <td>World</td>\n",
       "    </tr>\n",
       "    <tr>\n",
       "      <th>62283</th>\n",
       "      <td>261</td>\n",
       "      <td>World</td>\n",
       "    </tr>\n",
       "    <tr>\n",
       "      <th>62284</th>\n",
       "      <td>261</td>\n",
       "      <td>World</td>\n",
       "    </tr>\n",
       "    <tr>\n",
       "      <th>62285</th>\n",
       "      <td>261</td>\n",
       "      <td>World</td>\n",
       "    </tr>\n",
       "    <tr>\n",
       "      <th>62286</th>\n",
       "      <td>261</td>\n",
       "      <td>World</td>\n",
       "    </tr>\n",
       "  </tbody>\n",
       "</table>\n",
       "<p>62287 rows × 2 columns</p>\n",
       "</div>"
      ],
      "text/plain": [
       "        id         name\n",
       "0        1  Afghanistan\n",
       "1        1  Afghanistan\n",
       "2        1  Afghanistan\n",
       "3        1  Afghanistan\n",
       "4        1  Afghanistan\n",
       "...    ...          ...\n",
       "62282  261        World\n",
       "62283  261        World\n",
       "62284  261        World\n",
       "62285  261        World\n",
       "62286  261        World\n",
       "\n",
       "[62287 rows x 2 columns]"
      ]
     },
     "execution_count": 34,
     "metadata": {},
     "output_type": "execute_result"
    }
   ],
   "source": [
    "self_join = \"\"\"\n",
    "SELECT facts.id,facts.name\n",
    "FROM facts, cities\n",
    "WHERE cities.population < facts.population;\n",
    "\n",
    "\"\"\"\n",
    "self_join_result = pd.read_sql(self_join, connection)\n",
    "self_join_result"
   ]
  },
  {
   "cell_type": "markdown",
   "metadata": {},
   "source": [
    "# 11. What is normalization?\n",
    "Normalization involves the reducing of redundancy of data in a table to improve the integrity of the datasets. It is required to normalize our datasets because we are likely to faces issues such as:\n",
    "- insertion anomaly: this occurs when we cannot insert data to a table without the presence of another attribute\n",
    "- update anomaly: inconsistencies in data that result from data redundancy and a partial update of data\n",
    "- deletion anomaly: happens when some attributes are lost because we deleted other attributes."
   ]
  },
  {
   "cell_type": "markdown",
   "metadata": {},
   "source": [
    "# 12. What is denormalization?\n",
    "Denormalization is the process of adding redundant data to an otherwise normalized relational database to improve read performance of the database. It is also known as database optimization technique, where redundant data are added in the database to get rid of the complex join operations."
   ]
  },
  {
   "cell_type": "markdown",
   "metadata": {},
   "source": [
    "# 13A. What are the different normalization?\n",
    "- 1NF: 1st Normal Form\n",
    "- 2NF: 2nd Normal Form\n",
    "- 3NF: 3rd Normal Form\n",
    "- 4NF: 4th Normal Form\n",
    "- 5NF: 5th Normal Form\n",
    "\n",
    "NB:\n",
    "- BCNF: Boyce-Codd Normal Form"
   ]
  },
  {
   "cell_type": "markdown",
   "metadata": {},
   "source": [
    "# 13B. The normal forms are divided into five(5), explain:\n",
    "### 1NF:\n",
    "This prevents the problem of atomicity, which implies that values in a table should not be further divided. That is: a single cell should not hold multiple values. If a cell contains multiple values then the 1NF has been voilated.\n",
    "\n",
    "### Second Normal Form (2NF):.\n",
    "Meeting all requirements of the first normal form. Placing the subsets of data in separate tables and Creation of relationships between the tables using primary keys.\n",
    "\n",
    "### Third Normal Form (3NF):.\n",
    "This should meet all requirements of 2NF. Removing the columns which are not dependent on primary key constraints.\n",
    "\n",
    "### Fourth Normal Form (4NF):.\n",
    "Meeting all the requirements of third normal form and it should not have multi- valued dependencies.\n"
   ]
  },
  {
   "cell_type": "markdown",
   "metadata": {},
   "source": [
    "# 14. What is a view?\n",
    "A database view is a subset of a database and is based on a query that runs on one or more database tables. Database views are saved in the database as named queries and can be used to save frequently used, complex queries. There are two types of database views: \n",
    "- dynamic views, and \n",
    "- static views."
   ]
  },
  {
   "cell_type": "code",
   "execution_count": 35,
   "metadata": {
    "execution": {
     "iopub.execute_input": "2021-07-18T17:50:10.700149Z",
     "iopub.status.busy": "2021-07-18T17:50:10.699559Z",
     "iopub.status.idle": "2021-07-18T17:50:10.722308Z",
     "shell.execute_reply": "2021-07-18T17:50:10.720079Z",
     "shell.execute_reply.started": "2021-07-18T17:50:10.700108Z"
    }
   },
   "outputs": [
    {
     "ename": "TypeError",
     "evalue": "'NoneType' object is not iterable",
     "output_type": "error",
     "traceback": [
      "\u001b[0;31m---------------------------------------------------------------------------\u001b[0m",
      "\u001b[0;31mTypeError\u001b[0m                                 Traceback (most recent call last)",
      "\u001b[0;32m<ipython-input-35-18085c2b15a1>\u001b[0m in \u001b[0;36m<module>\u001b[0;34m\u001b[0m\n\u001b[1;32m      7\u001b[0m \u001b[0;34m\u001b[0m\u001b[0m\n\u001b[1;32m      8\u001b[0m \"\"\"\n\u001b[0;32m----> 9\u001b[0;31m \u001b[0mdisplay_view\u001b[0m \u001b[0;34m=\u001b[0m \u001b[0mpd\u001b[0m\u001b[0;34m.\u001b[0m\u001b[0mread_sql\u001b[0m\u001b[0;34m(\u001b[0m\u001b[0mview_example\u001b[0m\u001b[0;34m,\u001b[0m \u001b[0mconnection\u001b[0m\u001b[0;34m)\u001b[0m\u001b[0;34m\u001b[0m\u001b[0;34m\u001b[0m\u001b[0m\n\u001b[0m\u001b[1;32m     10\u001b[0m \u001b[0mdisplay_view\u001b[0m\u001b[0;34m\u001b[0m\u001b[0;34m\u001b[0m\u001b[0m\n",
      "\u001b[0;32m/opt/anaconda3/lib/python3.8/site-packages/pandas/io/sql.py\u001b[0m in \u001b[0;36mread_sql\u001b[0;34m(sql, con, index_col, coerce_float, params, parse_dates, columns, chunksize)\u001b[0m\n\u001b[1;32m    493\u001b[0m \u001b[0;34m\u001b[0m\u001b[0m\n\u001b[1;32m    494\u001b[0m     \u001b[0;32mif\u001b[0m \u001b[0misinstance\u001b[0m\u001b[0;34m(\u001b[0m\u001b[0mpandas_sql\u001b[0m\u001b[0;34m,\u001b[0m \u001b[0mSQLiteDatabase\u001b[0m\u001b[0;34m)\u001b[0m\u001b[0;34m:\u001b[0m\u001b[0;34m\u001b[0m\u001b[0;34m\u001b[0m\u001b[0m\n\u001b[0;32m--> 495\u001b[0;31m         return pandas_sql.read_query(\n\u001b[0m\u001b[1;32m    496\u001b[0m             \u001b[0msql\u001b[0m\u001b[0;34m,\u001b[0m\u001b[0;34m\u001b[0m\u001b[0;34m\u001b[0m\u001b[0m\n\u001b[1;32m    497\u001b[0m             \u001b[0mindex_col\u001b[0m\u001b[0;34m=\u001b[0m\u001b[0mindex_col\u001b[0m\u001b[0;34m,\u001b[0m\u001b[0;34m\u001b[0m\u001b[0;34m\u001b[0m\u001b[0m\n",
      "\u001b[0;32m/opt/anaconda3/lib/python3.8/site-packages/pandas/io/sql.py\u001b[0m in \u001b[0;36mread_query\u001b[0;34m(self, sql, index_col, coerce_float, params, parse_dates, chunksize)\u001b[0m\n\u001b[1;32m   1770\u001b[0m         \u001b[0margs\u001b[0m \u001b[0;34m=\u001b[0m \u001b[0m_convert_params\u001b[0m\u001b[0;34m(\u001b[0m\u001b[0msql\u001b[0m\u001b[0;34m,\u001b[0m \u001b[0mparams\u001b[0m\u001b[0;34m)\u001b[0m\u001b[0;34m\u001b[0m\u001b[0;34m\u001b[0m\u001b[0m\n\u001b[1;32m   1771\u001b[0m         \u001b[0mcursor\u001b[0m \u001b[0;34m=\u001b[0m \u001b[0mself\u001b[0m\u001b[0;34m.\u001b[0m\u001b[0mexecute\u001b[0m\u001b[0;34m(\u001b[0m\u001b[0;34m*\u001b[0m\u001b[0margs\u001b[0m\u001b[0;34m)\u001b[0m\u001b[0;34m\u001b[0m\u001b[0;34m\u001b[0m\u001b[0m\n\u001b[0;32m-> 1772\u001b[0;31m         \u001b[0mcolumns\u001b[0m \u001b[0;34m=\u001b[0m \u001b[0;34m[\u001b[0m\u001b[0mcol_desc\u001b[0m\u001b[0;34m[\u001b[0m\u001b[0;36m0\u001b[0m\u001b[0;34m]\u001b[0m \u001b[0;32mfor\u001b[0m \u001b[0mcol_desc\u001b[0m \u001b[0;32min\u001b[0m \u001b[0mcursor\u001b[0m\u001b[0;34m.\u001b[0m\u001b[0mdescription\u001b[0m\u001b[0;34m]\u001b[0m\u001b[0;34m\u001b[0m\u001b[0;34m\u001b[0m\u001b[0m\n\u001b[0m\u001b[1;32m   1773\u001b[0m \u001b[0;34m\u001b[0m\u001b[0m\n\u001b[1;32m   1774\u001b[0m         \u001b[0;32mif\u001b[0m \u001b[0mchunksize\u001b[0m \u001b[0;32mis\u001b[0m \u001b[0;32mnot\u001b[0m \u001b[0;32mNone\u001b[0m\u001b[0;34m:\u001b[0m\u001b[0;34m\u001b[0m\u001b[0;34m\u001b[0m\u001b[0m\n",
      "\u001b[0;31mTypeError\u001b[0m: 'NoneType' object is not iterable"
     ]
    }
   ],
   "source": [
    "#Using the cities table from facts.db, we will try to view all capitals with 1.\n",
    "view_example = \"\"\"\n",
    "CREATE VIEW [Positive Capital] AS\n",
    "SELECT name, fees_amount\n",
    "FROM Studentdetails\n",
    "WHERE fees_amount < 100000;\n",
    "\n",
    "\"\"\"\n",
    "display_view = pd.read_sql(view_example, connection)\n",
    "display_view"
   ]
  },
  {
   "cell_type": "markdown",
   "metadata": {},
   "source": [
    "# 15. What is an index?\n",
    "An Index is a small table having only two columns. The first column comprises a copy of the primary or candidate key of a table. Its second column contains a set of pointers for holding the address of the disk block where that specific key value stored. Indexing is a data structure technique which allows you to quickly retrieve records from a database file."
   ]
  },
  {
   "cell_type": "code",
   "execution_count": 36,
   "metadata": {
    "execution": {
     "iopub.execute_input": "2021-07-18T17:50:46.580459Z",
     "iopub.status.busy": "2021-07-18T17:50:46.580067Z",
     "iopub.status.idle": "2021-07-18T17:50:46.601838Z",
     "shell.execute_reply": "2021-07-18T17:50:46.600172Z",
     "shell.execute_reply.started": "2021-07-18T17:50:46.580424Z"
    }
   },
   "outputs": [
    {
     "ename": "DatabaseError",
     "evalue": "Execution failed on sql '\nCREATE INDEX checker \nON cities\n\n': incomplete input",
     "output_type": "error",
     "traceback": [
      "\u001b[0;31m---------------------------------------------------------------------------\u001b[0m",
      "\u001b[0;31mOperationalError\u001b[0m                          Traceback (most recent call last)",
      "\u001b[0;32m/opt/anaconda3/lib/python3.8/site-packages/pandas/io/sql.py\u001b[0m in \u001b[0;36mexecute\u001b[0;34m(self, *args, **kwargs)\u001b[0m\n\u001b[1;32m   1724\u001b[0m         \u001b[0;32mtry\u001b[0m\u001b[0;34m:\u001b[0m\u001b[0;34m\u001b[0m\u001b[0;34m\u001b[0m\u001b[0m\n\u001b[0;32m-> 1725\u001b[0;31m             \u001b[0mcur\u001b[0m\u001b[0;34m.\u001b[0m\u001b[0mexecute\u001b[0m\u001b[0;34m(\u001b[0m\u001b[0;34m*\u001b[0m\u001b[0margs\u001b[0m\u001b[0;34m,\u001b[0m \u001b[0;34m**\u001b[0m\u001b[0mkwargs\u001b[0m\u001b[0;34m)\u001b[0m\u001b[0;34m\u001b[0m\u001b[0;34m\u001b[0m\u001b[0m\n\u001b[0m\u001b[1;32m   1726\u001b[0m             \u001b[0;32mreturn\u001b[0m \u001b[0mcur\u001b[0m\u001b[0;34m\u001b[0m\u001b[0;34m\u001b[0m\u001b[0m\n",
      "\u001b[0;31mOperationalError\u001b[0m: incomplete input",
      "\nThe above exception was the direct cause of the following exception:\n",
      "\u001b[0;31mDatabaseError\u001b[0m                             Traceback (most recent call last)",
      "\u001b[0;32m<ipython-input-36-b41252e37175>\u001b[0m in \u001b[0;36m<module>\u001b[0;34m\u001b[0m\n\u001b[1;32m      4\u001b[0m \u001b[0;34m\u001b[0m\u001b[0m\n\u001b[1;32m      5\u001b[0m \"\"\"\n\u001b[0;32m----> 6\u001b[0;31m \u001b[0mview_tab\u001b[0m \u001b[0;34m=\u001b[0m \u001b[0mpd\u001b[0m\u001b[0;34m.\u001b[0m\u001b[0mread_sql\u001b[0m\u001b[0;34m(\u001b[0m\u001b[0mcreate_index\u001b[0m\u001b[0;34m,\u001b[0m \u001b[0mconnection\u001b[0m\u001b[0;34m)\u001b[0m\u001b[0;34m\u001b[0m\u001b[0;34m\u001b[0m\u001b[0m\n\u001b[0m\u001b[1;32m      7\u001b[0m \u001b[0mview_tab\u001b[0m\u001b[0;34m\u001b[0m\u001b[0;34m\u001b[0m\u001b[0m\n",
      "\u001b[0;32m/opt/anaconda3/lib/python3.8/site-packages/pandas/io/sql.py\u001b[0m in \u001b[0;36mread_sql\u001b[0;34m(sql, con, index_col, coerce_float, params, parse_dates, columns, chunksize)\u001b[0m\n\u001b[1;32m    493\u001b[0m \u001b[0;34m\u001b[0m\u001b[0m\n\u001b[1;32m    494\u001b[0m     \u001b[0;32mif\u001b[0m \u001b[0misinstance\u001b[0m\u001b[0;34m(\u001b[0m\u001b[0mpandas_sql\u001b[0m\u001b[0;34m,\u001b[0m \u001b[0mSQLiteDatabase\u001b[0m\u001b[0;34m)\u001b[0m\u001b[0;34m:\u001b[0m\u001b[0;34m\u001b[0m\u001b[0;34m\u001b[0m\u001b[0m\n\u001b[0;32m--> 495\u001b[0;31m         return pandas_sql.read_query(\n\u001b[0m\u001b[1;32m    496\u001b[0m             \u001b[0msql\u001b[0m\u001b[0;34m,\u001b[0m\u001b[0;34m\u001b[0m\u001b[0;34m\u001b[0m\u001b[0m\n\u001b[1;32m    497\u001b[0m             \u001b[0mindex_col\u001b[0m\u001b[0;34m=\u001b[0m\u001b[0mindex_col\u001b[0m\u001b[0;34m,\u001b[0m\u001b[0;34m\u001b[0m\u001b[0;34m\u001b[0m\u001b[0m\n",
      "\u001b[0;32m/opt/anaconda3/lib/python3.8/site-packages/pandas/io/sql.py\u001b[0m in \u001b[0;36mread_query\u001b[0;34m(self, sql, index_col, coerce_float, params, parse_dates, chunksize)\u001b[0m\n\u001b[1;32m   1769\u001b[0m \u001b[0;34m\u001b[0m\u001b[0m\n\u001b[1;32m   1770\u001b[0m         \u001b[0margs\u001b[0m \u001b[0;34m=\u001b[0m \u001b[0m_convert_params\u001b[0m\u001b[0;34m(\u001b[0m\u001b[0msql\u001b[0m\u001b[0;34m,\u001b[0m \u001b[0mparams\u001b[0m\u001b[0;34m)\u001b[0m\u001b[0;34m\u001b[0m\u001b[0;34m\u001b[0m\u001b[0m\n\u001b[0;32m-> 1771\u001b[0;31m         \u001b[0mcursor\u001b[0m \u001b[0;34m=\u001b[0m \u001b[0mself\u001b[0m\u001b[0;34m.\u001b[0m\u001b[0mexecute\u001b[0m\u001b[0;34m(\u001b[0m\u001b[0;34m*\u001b[0m\u001b[0margs\u001b[0m\u001b[0;34m)\u001b[0m\u001b[0;34m\u001b[0m\u001b[0;34m\u001b[0m\u001b[0m\n\u001b[0m\u001b[1;32m   1772\u001b[0m         \u001b[0mcolumns\u001b[0m \u001b[0;34m=\u001b[0m \u001b[0;34m[\u001b[0m\u001b[0mcol_desc\u001b[0m\u001b[0;34m[\u001b[0m\u001b[0;36m0\u001b[0m\u001b[0;34m]\u001b[0m \u001b[0;32mfor\u001b[0m \u001b[0mcol_desc\u001b[0m \u001b[0;32min\u001b[0m \u001b[0mcursor\u001b[0m\u001b[0;34m.\u001b[0m\u001b[0mdescription\u001b[0m\u001b[0;34m]\u001b[0m\u001b[0;34m\u001b[0m\u001b[0;34m\u001b[0m\u001b[0m\n\u001b[1;32m   1773\u001b[0m \u001b[0;34m\u001b[0m\u001b[0m\n",
      "\u001b[0;32m/opt/anaconda3/lib/python3.8/site-packages/pandas/io/sql.py\u001b[0m in \u001b[0;36mexecute\u001b[0;34m(self, *args, **kwargs)\u001b[0m\n\u001b[1;32m   1735\u001b[0m \u001b[0;34m\u001b[0m\u001b[0m\n\u001b[1;32m   1736\u001b[0m             \u001b[0mex\u001b[0m \u001b[0;34m=\u001b[0m \u001b[0mDatabaseError\u001b[0m\u001b[0;34m(\u001b[0m\u001b[0;34mf\"Execution failed on sql '{args[0]}': {exc}\"\u001b[0m\u001b[0;34m)\u001b[0m\u001b[0;34m\u001b[0m\u001b[0;34m\u001b[0m\u001b[0m\n\u001b[0;32m-> 1737\u001b[0;31m             \u001b[0;32mraise\u001b[0m \u001b[0mex\u001b[0m \u001b[0;32mfrom\u001b[0m \u001b[0mexc\u001b[0m\u001b[0;34m\u001b[0m\u001b[0;34m\u001b[0m\u001b[0m\n\u001b[0m\u001b[1;32m   1738\u001b[0m \u001b[0;34m\u001b[0m\u001b[0m\n\u001b[1;32m   1739\u001b[0m     \u001b[0;34m@\u001b[0m\u001b[0mstaticmethod\u001b[0m\u001b[0;34m\u001b[0m\u001b[0;34m\u001b[0m\u001b[0m\n",
      "\u001b[0;31mDatabaseError\u001b[0m: Execution failed on sql '\nCREATE INDEX checker \nON cities\n\n': incomplete input"
     ]
    }
   ],
   "source": [
    "create_index = \"\"\"\n",
    "CREATE INDEX checker \n",
    "ON cities\n",
    "\n",
    "\"\"\"\n",
    "view_tab = pd.read_sql(create_index, connection)\n",
    "view_tab"
   ]
  },
  {
   "cell_type": "markdown",
   "metadata": {},
   "source": [
    "# 16A. What are the different types of index?\n",
    "1. Single-column Indexes: are created based on only one table column\n",
    "2. Unique Indexes: are used not only for performances but also for data integrity. A unique index does not allow any duplicates to be inserted into the table.\n",
    "3. Composite Indexes: This is an index that is on two or more columns of the table\n",
    "4. Implicit Indexes: these are indexes that are automatically created by the database server when an object is created for unique or primary key constraints."
   ]
  },
  {
   "cell_type": "markdown",
   "metadata": {},
   "source": [
    "# 16B. There are three types of indexes - List and explain\n",
    "1. Clustering Index: In a clustered index, records themselves are stored in the Index and not pointers. Sometimes the Index is created on non-primary key columns which might not be unique for each record. In such a situation, you can group two or more columns to get the unique values and create an index which is called clustered Index. This also helps you to identify the record faster.\n",
    "2. Primary Index: Primary Index is an ordered file which is fixed length size with two fields. The first field is the same a primary key and second, filed is pointed to that specific data block. In the primary Index, there is always one to one relationship between the entries in the index table.\n",
    "3. Secondary Index: The secondary Index in DBMS can be generated by a field which has a unique value for each record, and it should be a candidate key. It is also known as a non-clustering index. This two-level database indexing technique is used to reduce the mapping size of the first level. For the first level, a large range of numbers is selected because of this; the mapping size always remains small."
   ]
  },
  {
   "cell_type": "markdown",
   "metadata": {},
   "source": [
    "# 17. What is a cursor?\n",
    "A cursor can be viewed as a pointer to one row in a set of rows. The cursor can only reference one row at a time, but can move to other rows of the result set as needed.\n",
    "\n",
    "To work with cursors you must use the following SQL statements:\n",
    "- DECLARE CURSOR\n",
    "- OPEN\n",
    "- FETCH\n",
    "- CLOSE\n",
    "For instance: with the sqlite3 cursor we can execute, update rows in our database. Examples can be found above."
   ]
  },
  {
   "cell_type": "markdown",
   "metadata": {},
   "source": [
    "# 18. What is a relationship, and what are they?\n",
    "A relationship is established between two database tables when one table uses a foreign key that references the primary key of another table. \n",
    "## For example: The studentrack and track table below, in the next line of code[](http://):\n",
    "\n",
    "## Types of relationships:\n",
    "- ONE-TO-ONE: This type of relationship allows only one record on each side of the relationship. The primary key relates to only one record (or none) in another table. For example, in a marriage, each spouse has only one other spouse. This kind of relationship can be implemented in a single table and therefore does not use a foreign key.\n",
    "\n",
    "- ONE-TO-MANY: A one-to-many relationship allows a single record in one table to be related to multiple records in another table. Consider a business with a database that has Customers and Orders tables. A single customer can purchase multiple orders, but a single order could not be linked to multiple customers. Therefore the Orders table would contain a foreign key that matched the primary key of the Customers table, while the Customers table would have no foreign key pointing to the Orders table.\n",
    "\n",
    "- MANY-TO-MANY: This is a complex relationship in which many records in a table can link to many records in another table. For example, our business probably needs Customers and Orders tables, and likely also needs a Products table."
   ]
  },
  {
   "cell_type": "code",
   "execution_count": 37,
   "metadata": {
    "execution": {
     "iopub.execute_input": "2021-07-18T17:51:07.690178Z",
     "iopub.status.busy": "2021-07-18T17:51:07.689791Z",
     "iopub.status.idle": "2021-07-18T17:51:07.703168Z",
     "shell.execute_reply": "2021-07-18T17:51:07.702035Z",
     "shell.execute_reply.started": "2021-07-18T17:51:07.690136Z"
    }
   },
   "outputs": [
    {
     "data": {
      "text/html": [
       "<div>\n",
       "<style scoped>\n",
       "    .dataframe tbody tr th:only-of-type {\n",
       "        vertical-align: middle;\n",
       "    }\n",
       "\n",
       "    .dataframe tbody tr th {\n",
       "        vertical-align: top;\n",
       "    }\n",
       "\n",
       "    .dataframe thead th {\n",
       "        text-align: right;\n",
       "    }\n",
       "</style>\n",
       "<table border=\"1\" class=\"dataframe\">\n",
       "  <thead>\n",
       "    <tr style=\"text-align: right;\">\n",
       "      <th></th>\n",
       "      <th>id</th>\n",
       "      <th>learningTrack</th>\n",
       "    </tr>\n",
       "  </thead>\n",
       "  <tbody>\n",
       "    <tr>\n",
       "      <th>0</th>\n",
       "      <td>WT/21/022</td>\n",
       "      <td>Data Science</td>\n",
       "    </tr>\n",
       "    <tr>\n",
       "      <th>1</th>\n",
       "      <td>WT/21/049</td>\n",
       "      <td>Data Science</td>\n",
       "    </tr>\n",
       "    <tr>\n",
       "      <th>2</th>\n",
       "      <td>WT/21/001</td>\n",
       "      <td>Software Engineering</td>\n",
       "    </tr>\n",
       "    <tr>\n",
       "      <th>3</th>\n",
       "      <td>WT/21/056</td>\n",
       "      <td>Cybersecurity</td>\n",
       "    </tr>\n",
       "    <tr>\n",
       "      <th>4</th>\n",
       "      <td>WT/21/010</td>\n",
       "      <td>Product Management</td>\n",
       "    </tr>\n",
       "    <tr>\n",
       "      <th>5</th>\n",
       "      <td>WT/21/118</td>\n",
       "      <td>Data Science</td>\n",
       "    </tr>\n",
       "    <tr>\n",
       "      <th>6</th>\n",
       "      <td>WT/21/051</td>\n",
       "      <td>Data Science</td>\n",
       "    </tr>\n",
       "  </tbody>\n",
       "</table>\n",
       "</div>"
      ],
      "text/plain": [
       "          id         learningTrack\n",
       "0  WT/21/022          Data Science\n",
       "1  WT/21/049          Data Science\n",
       "2  WT/21/001  Software Engineering\n",
       "3  WT/21/056         Cybersecurity\n",
       "4  WT/21/010    Product Management\n",
       "5  WT/21/118          Data Science\n",
       "6  WT/21/051          Data Science"
      ]
     },
     "execution_count": 37,
     "metadata": {},
     "output_type": "execute_result"
    }
   ],
   "source": [
    "trck"
   ]
  },
  {
   "cell_type": "code",
   "execution_count": 38,
   "metadata": {
    "execution": {
     "iopub.execute_input": "2021-07-18T17:51:09.100025Z",
     "iopub.status.busy": "2021-07-18T17:51:09.099513Z",
     "iopub.status.idle": "2021-07-18T17:51:09.112717Z",
     "shell.execute_reply": "2021-07-18T17:51:09.111976Z",
     "shell.execute_reply.started": "2021-07-18T17:51:09.099991Z"
    }
   },
   "outputs": [
    {
     "data": {
      "text/html": [
       "<div>\n",
       "<style scoped>\n",
       "    .dataframe tbody tr th:only-of-type {\n",
       "        vertical-align: middle;\n",
       "    }\n",
       "\n",
       "    .dataframe tbody tr th {\n",
       "        vertical-align: top;\n",
       "    }\n",
       "\n",
       "    .dataframe thead th {\n",
       "        text-align: right;\n",
       "    }\n",
       "</style>\n",
       "<table border=\"1\" class=\"dataframe\">\n",
       "  <thead>\n",
       "    <tr style=\"text-align: right;\">\n",
       "      <th></th>\n",
       "      <th>id</th>\n",
       "      <th>fName</th>\n",
       "      <th>lName</th>\n",
       "      <th>learningTrack</th>\n",
       "    </tr>\n",
       "  </thead>\n",
       "  <tbody>\n",
       "    <tr>\n",
       "      <th>0</th>\n",
       "      <td>WT/21/022</td>\n",
       "      <td>Anita</td>\n",
       "      <td>Mburu</td>\n",
       "      <td>Data Science</td>\n",
       "    </tr>\n",
       "    <tr>\n",
       "      <th>1</th>\n",
       "      <td>WT/21/049</td>\n",
       "      <td>Chinenye</td>\n",
       "      <td>James</td>\n",
       "      <td>Data Science</td>\n",
       "    </tr>\n",
       "    <tr>\n",
       "      <th>2</th>\n",
       "      <td>WT/21/001</td>\n",
       "      <td>Rukayat</td>\n",
       "      <td>Fagbola</td>\n",
       "      <td>Software Engineering</td>\n",
       "    </tr>\n",
       "    <tr>\n",
       "      <th>3</th>\n",
       "      <td>WT/21/056</td>\n",
       "      <td>Chioma</td>\n",
       "      <td>Obi</td>\n",
       "      <td>Cybersecurity</td>\n",
       "    </tr>\n",
       "    <tr>\n",
       "      <th>4</th>\n",
       "      <td>WT/21/010</td>\n",
       "      <td>Angelica</td>\n",
       "      <td>Dairo</td>\n",
       "      <td>Product Management</td>\n",
       "    </tr>\n",
       "    <tr>\n",
       "      <th>5</th>\n",
       "      <td>WT/21/118</td>\n",
       "      <td>Joy</td>\n",
       "      <td>Kareko</td>\n",
       "      <td>Data Science</td>\n",
       "    </tr>\n",
       "    <tr>\n",
       "      <th>6</th>\n",
       "      <td>WT/21/051</td>\n",
       "      <td>Choice</td>\n",
       "      <td>Iruh</td>\n",
       "      <td>Data Science</td>\n",
       "    </tr>\n",
       "  </tbody>\n",
       "</table>\n",
       "</div>"
      ],
      "text/plain": [
       "          id     fName    lName         learningTrack\n",
       "0  WT/21/022     Anita    Mburu          Data Science\n",
       "1  WT/21/049  Chinenye    James          Data Science\n",
       "2  WT/21/001   Rukayat  Fagbola  Software Engineering\n",
       "3  WT/21/056    Chioma      Obi         Cybersecurity\n",
       "4  WT/21/010  Angelica    Dairo    Product Management\n",
       "5  WT/21/118       Joy   Kareko          Data Science\n",
       "6  WT/21/051    Choice     Iruh          Data Science"
      ]
     },
     "execution_count": 38,
     "metadata": {},
     "output_type": "execute_result"
    }
   ],
   "source": [
    "stdtrck"
   ]
  },
  {
   "cell_type": "markdown",
   "metadata": {},
   "source": [
    "# 19. What is a query?\n",
    "A database query is a request for data from a database. Usually the request is to retrieve data; however, data can also be manipulated using queries. The data can come from one or more tables, or even other queries. It is simply the language that SQL understands. Some queries include: \n"
   ]
  },
  {
   "cell_type": "code",
   "execution_count": 39,
   "metadata": {
    "execution": {
     "iopub.execute_input": "2021-07-18T17:51:11.560219Z",
     "iopub.status.busy": "2021-07-18T17:51:11.559629Z",
     "iopub.status.idle": "2021-07-18T17:51:11.5904Z",
     "shell.execute_reply": "2021-07-18T17:51:11.589664Z",
     "shell.execute_reply.started": "2021-07-18T17:51:11.560186Z"
    }
   },
   "outputs": [
    {
     "name": "stdout",
     "output_type": "stream",
     "text": [
      "Connected to SQLite\n",
      "Python Variables inserted successfully into student table\n",
      "The SQLite connection is closed\n"
     ]
    },
    {
     "data": {
      "text/html": [
       "<div>\n",
       "<style scoped>\n",
       "    .dataframe tbody tr th:only-of-type {\n",
       "        vertical-align: middle;\n",
       "    }\n",
       "\n",
       "    .dataframe tbody tr th {\n",
       "        vertical-align: top;\n",
       "    }\n",
       "\n",
       "    .dataframe thead th {\n",
       "        text-align: right;\n",
       "    }\n",
       "</style>\n",
       "<table border=\"1\" class=\"dataframe\">\n",
       "  <thead>\n",
       "    <tr style=\"text-align: right;\">\n",
       "      <th></th>\n",
       "      <th>id</th>\n",
       "      <th>name</th>\n",
       "      <th>age</th>\n",
       "      <th>class_s</th>\n",
       "    </tr>\n",
       "  </thead>\n",
       "  <tbody>\n",
       "    <tr>\n",
       "      <th>0</th>\n",
       "      <td>1</td>\n",
       "      <td>Amara Iloh</td>\n",
       "      <td>10</td>\n",
       "      <td>SS1</td>\n",
       "    </tr>\n",
       "    <tr>\n",
       "      <th>1</th>\n",
       "      <td>2</td>\n",
       "      <td>Chinenye James</td>\n",
       "      <td>11</td>\n",
       "      <td>SS2</td>\n",
       "    </tr>\n",
       "    <tr>\n",
       "      <th>2</th>\n",
       "      <td>3</td>\n",
       "      <td>Rukayat Fagbola</td>\n",
       "      <td>14</td>\n",
       "      <td>SS3</td>\n",
       "    </tr>\n",
       "    <tr>\n",
       "      <th>3</th>\n",
       "      <td>4</td>\n",
       "      <td>Chioma Obi</td>\n",
       "      <td>12</td>\n",
       "      <td>SS1</td>\n",
       "    </tr>\n",
       "    <tr>\n",
       "      <th>4</th>\n",
       "      <td>5</td>\n",
       "      <td>Uju Okoli</td>\n",
       "      <td>16</td>\n",
       "      <td>SS3</td>\n",
       "    </tr>\n",
       "  </tbody>\n",
       "</table>\n",
       "</div>"
      ],
      "text/plain": [
       "   id             name  age class_s\n",
       "0   1       Amara Iloh   10     SS1\n",
       "1   2   Chinenye James   11     SS2\n",
       "2   3  Rukayat Fagbola   14     SS3\n",
       "3   4       Chioma Obi   12     SS1\n",
       "4   5        Uju Okoli   16     SS3"
      ]
     },
     "execution_count": 39,
     "metadata": {},
     "output_type": "execute_result"
    }
   ],
   "source": [
    "insertIntoTable4(5,'Uju Okoli',16, 'SS3')\n",
    "\n",
    "view_new = pd.read_sql(\"\"\"SELECT *\n",
    "                        FROM Student;\"\"\", conn)\n",
    "\n",
    "view_new"
   ]
  },
  {
   "cell_type": "markdown",
   "metadata": {},
   "source": [
    "# 20. What is subquery?\n",
    "A subquery, or nested query, is a query placed within another SQL query. There are many different scenarios where you may want to include a query in the WHERE, FROM, or SELECT clauses of your main query. Subqueries is an essential tool in SQL, as it allows manipulating the data in very advanced ways without the need of any external scripts, and especially important when your tables stractured in such a way that you can't be joined directly.\n",
    "\n",
    "In our example, I'm trying to join between a table that holds cities basic details (id, name, population, capital, facts_id), to a table that holds more attributes (facts). The problem is that while the first table holds one row for each country, the key in the second table is id+fact_id, so if we do a regular join, the result would be a Cartesian product, and each country's basic details would appear as many times as the country appears in the attributes table. The problem with of course is that the average would be skewed towards country's that appear many times in the attribute table.\n",
    "\n",
    "The solution, is to use a subquery. We would need to group the attributes table, to a different key. "
   ]
  },
  {
   "cell_type": "code",
   "execution_count": 40,
   "metadata": {
    "execution": {
     "iopub.execute_input": "2021-07-18T17:51:17.550319Z",
     "iopub.status.busy": "2021-07-18T17:51:17.549814Z",
     "iopub.status.idle": "2021-07-18T17:51:17.557075Z",
     "shell.execute_reply": "2021-07-18T17:51:17.555833Z",
     "shell.execute_reply.started": "2021-07-18T17:51:17.550286Z"
    }
   },
   "outputs": [],
   "source": [
    "data_path3 = 'lastdatabase.db'\n",
    "connec = sqlite3.connect(data_path3)\n",
    "\n",
    "def execute_sql(connec, query):\n",
    "    cursor = connec.cursor()\n",
    "    try:\n",
    "        cursor.execute(query)\n",
    "        connec.commit()\n",
    "        print(\"SQL Executed Successfully\")\n",
    "    except Error as e:\n",
    "        print (f\"The error '{e}' occurred\")"
   ]
  },
  {
   "cell_type": "code",
   "execution_count": 41,
   "metadata": {
    "execution": {
     "iopub.execute_input": "2021-07-18T17:51:19.810795Z",
     "iopub.status.busy": "2021-07-18T17:51:19.810353Z",
     "iopub.status.idle": "2021-07-18T17:51:19.816682Z",
     "shell.execute_reply": "2021-07-18T17:51:19.815445Z",
     "shell.execute_reply.started": "2021-07-18T17:51:19.810758Z"
    }
   },
   "outputs": [],
   "source": [
    "gallery_table = \"\"\"\n",
    "CREATE TABLE galleries(\n",
    "    id integer PRIMARY KEY, \n",
    "    city text \n",
    "    );\n",
    "\n",
    "\"\"\"\n",
    "paintings_table = \"\"\"\n",
    "CREATE TABLE paintings(\n",
    "    id integer PRIMARY KEY, \n",
    "    name text, \n",
    "    gallery_id integer, \n",
    "    price integer \n",
    "    );\n",
    "\n",
    "\"\"\"\n",
    "\n",
    "agents_table = \"\"\"\n",
    "CREATE TABLE sales_agents(\n",
    "    id integer PRIMARY KEY, \n",
    "    lName text, \n",
    "    fName text, \n",
    "    gallery_id integer, \n",
    "    agency_fee integer\n",
    "    );\n",
    "\n",
    "\"\"\"\n",
    "\n",
    "managers_table = \"\"\"\n",
    "CREATE TABLE managers(\n",
    "    id integer PRIMARY KEY, \n",
    "    gallery_id integer\n",
    "    );\n",
    "\n",
    "\"\"\""
   ]
  },
  {
   "cell_type": "code",
   "execution_count": 42,
   "metadata": {
    "execution": {
     "iopub.execute_input": "2021-07-18T17:51:21.019997Z",
     "iopub.status.busy": "2021-07-18T17:51:21.019441Z",
     "iopub.status.idle": "2021-07-18T17:51:21.07621Z",
     "shell.execute_reply": "2021-07-18T17:51:21.075214Z",
     "shell.execute_reply.started": "2021-07-18T17:51:21.019961Z"
    }
   },
   "outputs": [
    {
     "name": "stdout",
     "output_type": "stream",
     "text": [
      "SQL Executed Successfully\n",
      "SQL Executed Successfully\n",
      "SQL Executed Successfully\n",
      "SQL Executed Successfully\n"
     ]
    }
   ],
   "source": [
    "## Commit create tables\n",
    "execute_sql(connec, gallery_table)\n",
    "execute_sql(connec, paintings_table)\n",
    "execute_sql(connec, agents_table)\n",
    "execute_sql(connec, managers_table)"
   ]
  },
  {
   "cell_type": "code",
   "execution_count": 43,
   "metadata": {
    "execution": {
     "iopub.execute_input": "2021-07-18T17:51:25.264939Z",
     "iopub.status.busy": "2021-07-18T17:51:25.264414Z",
     "iopub.status.idle": "2021-07-18T17:51:25.30713Z",
     "shell.execute_reply": "2021-07-18T17:51:25.305737Z",
     "shell.execute_reply.started": "2021-07-18T17:51:25.264907Z"
    }
   },
   "outputs": [
    {
     "name": "stdout",
     "output_type": "stream",
     "text": [
      "Connected to SQLite\n",
      "Python Variables inserted successfully into gallery table\n",
      "The SQLite connection is closed\n",
      "Connected to SQLite\n",
      "Python Variables inserted successfully into gallery table\n",
      "The SQLite connection is closed\n",
      "Connected to SQLite\n",
      "Python Variables inserted successfully into gallery table\n",
      "The SQLite connection is closed\n"
     ]
    }
   ],
   "source": [
    "def insertIntoGallery(id,city):\n",
    "    try:\n",
    "        connec = sqlite3.connect('lastdatabase.db')\n",
    "        cursor = connec.cursor()\n",
    "        print(\"Connected to SQLite\")\n",
    "\n",
    "        sqlite_insert = \"\"\"INSERT INTO galleries(id,city) \n",
    "                          VALUES (?,?);\"\"\"\n",
    "\n",
    "        data_tuple = (id,city)\n",
    "        cursor.execute(sqlite_insert, data_tuple)\n",
    "        connec.commit()\n",
    "        print(\"Python Variables inserted successfully into gallery table\")\n",
    "\n",
    "        cursor.close()\n",
    "\n",
    "    except sqlite3.Error as error:\n",
    "         print(\"Failed to insert Python variable into sqlite table\", error)\n",
    "    finally:\n",
    "        if connec:\n",
    "            connec.close()\n",
    "            print(\"The SQLite connection is closed\")\n",
    "\n",
    "\n",
    "insertIntoGallery(1, 'Nigeria')\n",
    "insertIntoGallery(2, 'Kenya')\n",
    "insertIntoGallery(3, 'Ghana')\n",
    "\n"
   ]
  },
  {
   "cell_type": "code",
   "execution_count": 44,
   "metadata": {
    "execution": {
     "iopub.execute_input": "2021-07-18T17:51:27.250637Z",
     "iopub.status.busy": "2021-07-18T17:51:27.250245Z",
     "iopub.status.idle": "2021-07-18T17:51:27.320391Z",
     "shell.execute_reply": "2021-07-18T17:51:27.319248Z",
     "shell.execute_reply.started": "2021-07-18T17:51:27.250603Z"
    }
   },
   "outputs": [
    {
     "name": "stdout",
     "output_type": "stream",
     "text": [
      "Connected to SQLite\n",
      "Python Variables inserted successfully into paintings table\n",
      "The SQLite connection is closed\n",
      "Connected to SQLite\n",
      "Python Variables inserted successfully into paintings table\n",
      "The SQLite connection is closed\n",
      "Connected to SQLite\n",
      "Python Variables inserted successfully into paintings table\n",
      "The SQLite connection is closed\n",
      "Connected to SQLite\n",
      "Python Variables inserted successfully into paintings table\n",
      "The SQLite connection is closed\n",
      "Connected to SQLite\n",
      "Python Variables inserted successfully into paintings table\n",
      "The SQLite connection is closed\n"
     ]
    }
   ],
   "source": [
    "def insertIntoPaint(id,name,gallery_id,price):\n",
    "    try:\n",
    "        connec = sqlite3.connect('lastdatabase.db')\n",
    "        cursor = connec.cursor()\n",
    "        print(\"Connected to SQLite\")\n",
    "\n",
    "        sqlite_insert = \"\"\"INSERT INTO paintings(id,name,gallery_id,price) \n",
    "                          VALUES (?,?,?,?);\"\"\"\n",
    "\n",
    "        data_tuple = (id,name,gallery_id,price)\n",
    "        cursor.execute(sqlite_insert, data_tuple)\n",
    "        connec.commit()\n",
    "        print(\"Python Variables inserted successfully into paintings table\")\n",
    "\n",
    "        cursor.close()\n",
    "\n",
    "    except sqlite3.Error as error:\n",
    "        print(\"Failed to insert Python variable into sqlite table\", error)\n",
    "    finally:\n",
    "        if connec:\n",
    "            connec.close()\n",
    "            print(\"The SQLite connection is closed\")\n",
    "\n",
    "\n",
    "insertIntoPaint(1, 'Words On Walls', 3, 100000)\n",
    "insertIntoPaint(2, 'Oceans view', 1, 5000000)\n",
    "insertIntoPaint(3, 'Hiding Galaxies', 1, 750000)\n",
    "insertIntoPaint(4, 'Far From the Madding Crowd', 2, 2000000)\n",
    "insertIntoPaint(5, 'Accelerated Waves', 2, 350000)"
   ]
  },
  {
   "cell_type": "code",
   "execution_count": 45,
   "metadata": {
    "execution": {
     "iopub.execute_input": "2021-07-18T17:51:29.260382Z",
     "iopub.status.busy": "2021-07-18T17:51:29.26001Z",
     "iopub.status.idle": "2021-07-18T17:51:29.325802Z",
     "shell.execute_reply": "2021-07-18T17:51:29.324408Z",
     "shell.execute_reply.started": "2021-07-18T17:51:29.260326Z"
    }
   },
   "outputs": [
    {
     "name": "stdout",
     "output_type": "stream",
     "text": [
      "Connected to SQLite\n",
      "Python Variables inserted successfully into sales_agents table\n",
      "The SQLite connection is closed\n",
      "Connected to SQLite\n",
      "Python Variables inserted successfully into sales_agents table\n",
      "The SQLite connection is closed\n",
      "Connected to SQLite\n",
      "Python Variables inserted successfully into sales_agents table\n",
      "The SQLite connection is closed\n",
      "Connected to SQLite\n",
      "Python Variables inserted successfully into sales_agents table\n",
      "The SQLite connection is closed\n",
      "Connected to SQLite\n",
      "Python Variables inserted successfully into sales_agents table\n",
      "The SQLite connection is closed\n"
     ]
    }
   ],
   "source": [
    "def insertIntoAgent(id,lname,fname,gallery_id,agency_fee):\n",
    "    try:\n",
    "        connec = sqlite3.connect('lastdatabase.db')\n",
    "        cursor = connec.cursor()\n",
    "        print(\"Connected to SQLite\")\n",
    "\n",
    "        sqlite_insert = \"\"\"INSERT INTO sales_agents(id,lname,fname,gallery_id,agency_fee)  \n",
    "                          VALUES (?,?,?,?,?);\"\"\"\n",
    "\n",
    "        data_tuple = (id,lname,fname,gallery_id,agency_fee)\n",
    "        cursor.execute(sqlite_insert, data_tuple)\n",
    "        connec.commit()\n",
    "        print(\"Python Variables inserted successfully into sales_agents table\")\n",
    "\n",
    "        cursor.close()\n",
    "\n",
    "    except sqlite3.Error as error:\n",
    "        print(\"Failed to insert Python variable into sqlite table\", error)\n",
    "    finally:\n",
    "        if connec:\n",
    "            connec.close()\n",
    "            print(\"The SQLite connection is closed\")\n",
    "\n",
    "\n",
    "insertIntoAgent(1, 'Chinenye','James', 2, 5000)\n",
    "insertIntoAgent(2, 'Winner','Emeto', 3, 40000)\n",
    "insertIntoAgent(3, 'Hilda', 'Onuoha', 2, 20000)\n",
    "insertIntoAgent(4, 'Betty', 'Sharp', 1, 100000)\n",
    "insertIntoAgent(5, 'Doubting', 'Thomas', 3, 12000)"
   ]
  },
  {
   "cell_type": "code",
   "execution_count": 46,
   "metadata": {
    "execution": {
     "iopub.execute_input": "2021-07-18T17:51:32.360962Z",
     "iopub.status.busy": "2021-07-18T17:51:32.360577Z",
     "iopub.status.idle": "2021-07-18T17:51:32.4085Z",
     "shell.execute_reply": "2021-07-18T17:51:32.407352Z",
     "shell.execute_reply.started": "2021-07-18T17:51:32.360929Z"
    }
   },
   "outputs": [
    {
     "name": "stdout",
     "output_type": "stream",
     "text": [
      "Connected to SQLite\n",
      "Python Variables inserted successfully into managers table\n",
      "The SQLite connection is closed\n",
      "Connected to SQLite\n",
      "Python Variables inserted successfully into managers table\n",
      "The SQLite connection is closed\n",
      "Connected to SQLite\n",
      "Python Variables inserted successfully into managers table\n",
      "The SQLite connection is closed\n"
     ]
    }
   ],
   "source": [
    "\n",
    "def insertIntoManagers(id,gallery_id):\n",
    "    try:\n",
    "        connec = sqlite3.connect('lastdatabase.db')\n",
    "        cursor = connec.cursor()\n",
    "        print(\"Connected to SQLite\")\n",
    "\n",
    "        sqlite_insert = \"\"\"INSERT INTO managers(id,gallery_id) \n",
    "                          VALUES (?,?);\"\"\"\n",
    "\n",
    "        data_tuple = (id,gallery_id) \n",
    "        cursor.execute(sqlite_insert, data_tuple)\n",
    "        connec.commit()\n",
    "        print(\"Python Variables inserted successfully into managers table\")\n",
    "\n",
    "        cursor.close()\n",
    "\n",
    "    except sqlite3.Error as error:\n",
    "        print(\"Failed to insert Python variable into sqlite table\", error)\n",
    "    finally:\n",
    "        if connec:\n",
    "            connec.close()\n",
    "            print(\"The SQLite connection is closed\")\n",
    "\n",
    "\n",
    "insertIntoManagers(1, 2)\n",
    "insertIntoManagers(2, 3)\n",
    "insertIntoManagers(4, 1)"
   ]
  },
  {
   "cell_type": "code",
   "execution_count": 47,
   "metadata": {
    "execution": {
     "iopub.execute_input": "2021-07-18T17:51:35.28057Z",
     "iopub.status.busy": "2021-07-18T17:51:35.280159Z",
     "iopub.status.idle": "2021-07-18T17:51:35.293393Z",
     "shell.execute_reply": "2021-07-18T17:51:35.292089Z",
     "shell.execute_reply.started": "2021-07-18T17:51:35.280537Z"
    }
   },
   "outputs": [
    {
     "data": {
      "text/html": [
       "<div>\n",
       "<style scoped>\n",
       "    .dataframe tbody tr th:only-of-type {\n",
       "        vertical-align: middle;\n",
       "    }\n",
       "\n",
       "    .dataframe tbody tr th {\n",
       "        vertical-align: top;\n",
       "    }\n",
       "\n",
       "    .dataframe thead th {\n",
       "        text-align: right;\n",
       "    }\n",
       "</style>\n",
       "<table border=\"1\" class=\"dataframe\">\n",
       "  <thead>\n",
       "    <tr style=\"text-align: right;\">\n",
       "      <th></th>\n",
       "      <th>id</th>\n",
       "      <th>city</th>\n",
       "    </tr>\n",
       "  </thead>\n",
       "  <tbody>\n",
       "    <tr>\n",
       "      <th>0</th>\n",
       "      <td>1</td>\n",
       "      <td>Nigeria</td>\n",
       "    </tr>\n",
       "    <tr>\n",
       "      <th>1</th>\n",
       "      <td>2</td>\n",
       "      <td>Kenya</td>\n",
       "    </tr>\n",
       "    <tr>\n",
       "      <th>2</th>\n",
       "      <td>3</td>\n",
       "      <td>Ghana</td>\n",
       "    </tr>\n",
       "  </tbody>\n",
       "</table>\n",
       "</div>"
      ],
      "text/plain": [
       "   id     city\n",
       "0   1  Nigeria\n",
       "1   2    Kenya\n",
       "2   3    Ghana"
      ]
     },
     "execution_count": 47,
     "metadata": {},
     "output_type": "execute_result"
    }
   ],
   "source": [
    "view_gallery = pd.read_sql(\"\"\"SELECT *\n",
    "                        FROM galleries;\"\"\", connec)\n",
    "view_gallery"
   ]
  },
  {
   "cell_type": "code",
   "execution_count": 48,
   "metadata": {
    "execution": {
     "iopub.execute_input": "2021-07-18T17:51:36.839832Z",
     "iopub.status.busy": "2021-07-18T17:51:36.839435Z",
     "iopub.status.idle": "2021-07-18T17:51:36.854761Z",
     "shell.execute_reply": "2021-07-18T17:51:36.853418Z",
     "shell.execute_reply.started": "2021-07-18T17:51:36.839799Z"
    }
   },
   "outputs": [
    {
     "data": {
      "text/html": [
       "<div>\n",
       "<style scoped>\n",
       "    .dataframe tbody tr th:only-of-type {\n",
       "        vertical-align: middle;\n",
       "    }\n",
       "\n",
       "    .dataframe tbody tr th {\n",
       "        vertical-align: top;\n",
       "    }\n",
       "\n",
       "    .dataframe thead th {\n",
       "        text-align: right;\n",
       "    }\n",
       "</style>\n",
       "<table border=\"1\" class=\"dataframe\">\n",
       "  <thead>\n",
       "    <tr style=\"text-align: right;\">\n",
       "      <th></th>\n",
       "      <th>id</th>\n",
       "      <th>name</th>\n",
       "      <th>gallery_id</th>\n",
       "      <th>price</th>\n",
       "    </tr>\n",
       "  </thead>\n",
       "  <tbody>\n",
       "    <tr>\n",
       "      <th>0</th>\n",
       "      <td>1</td>\n",
       "      <td>Words On Walls</td>\n",
       "      <td>3</td>\n",
       "      <td>100000</td>\n",
       "    </tr>\n",
       "    <tr>\n",
       "      <th>1</th>\n",
       "      <td>2</td>\n",
       "      <td>Oceans view</td>\n",
       "      <td>1</td>\n",
       "      <td>5000000</td>\n",
       "    </tr>\n",
       "    <tr>\n",
       "      <th>2</th>\n",
       "      <td>3</td>\n",
       "      <td>Hiding Galaxies</td>\n",
       "      <td>1</td>\n",
       "      <td>750000</td>\n",
       "    </tr>\n",
       "    <tr>\n",
       "      <th>3</th>\n",
       "      <td>4</td>\n",
       "      <td>Far From the Madding Crowd</td>\n",
       "      <td>2</td>\n",
       "      <td>2000000</td>\n",
       "    </tr>\n",
       "    <tr>\n",
       "      <th>4</th>\n",
       "      <td>5</td>\n",
       "      <td>Accelerated Waves</td>\n",
       "      <td>2</td>\n",
       "      <td>350000</td>\n",
       "    </tr>\n",
       "  </tbody>\n",
       "</table>\n",
       "</div>"
      ],
      "text/plain": [
       "   id                        name  gallery_id    price\n",
       "0   1              Words On Walls           3   100000\n",
       "1   2                 Oceans view           1  5000000\n",
       "2   3             Hiding Galaxies           1   750000\n",
       "3   4  Far From the Madding Crowd           2  2000000\n",
       "4   5           Accelerated Waves           2   350000"
      ]
     },
     "execution_count": 48,
     "metadata": {},
     "output_type": "execute_result"
    }
   ],
   "source": [
    "view_paintings = pd.read_sql(\"\"\"SELECT *\n",
    "                        FROM paintings;\"\"\", connec)\n",
    "view_paintings\n"
   ]
  },
  {
   "cell_type": "code",
   "execution_count": 49,
   "metadata": {
    "execution": {
     "iopub.execute_input": "2021-07-18T17:51:40.219984Z",
     "iopub.status.busy": "2021-07-18T17:51:40.219602Z",
     "iopub.status.idle": "2021-07-18T17:51:40.237326Z",
     "shell.execute_reply": "2021-07-18T17:51:40.236229Z",
     "shell.execute_reply.started": "2021-07-18T17:51:40.219954Z"
    }
   },
   "outputs": [
    {
     "data": {
      "text/html": [
       "<div>\n",
       "<style scoped>\n",
       "    .dataframe tbody tr th:only-of-type {\n",
       "        vertical-align: middle;\n",
       "    }\n",
       "\n",
       "    .dataframe tbody tr th {\n",
       "        vertical-align: top;\n",
       "    }\n",
       "\n",
       "    .dataframe thead th {\n",
       "        text-align: right;\n",
       "    }\n",
       "</style>\n",
       "<table border=\"1\" class=\"dataframe\">\n",
       "  <thead>\n",
       "    <tr style=\"text-align: right;\">\n",
       "      <th></th>\n",
       "      <th>id</th>\n",
       "      <th>lName</th>\n",
       "      <th>fName</th>\n",
       "      <th>gallery_id</th>\n",
       "      <th>agency_fee</th>\n",
       "    </tr>\n",
       "  </thead>\n",
       "  <tbody>\n",
       "    <tr>\n",
       "      <th>0</th>\n",
       "      <td>1</td>\n",
       "      <td>Chinenye</td>\n",
       "      <td>James</td>\n",
       "      <td>2</td>\n",
       "      <td>5000</td>\n",
       "    </tr>\n",
       "    <tr>\n",
       "      <th>1</th>\n",
       "      <td>2</td>\n",
       "      <td>Winner</td>\n",
       "      <td>Emeto</td>\n",
       "      <td>3</td>\n",
       "      <td>40000</td>\n",
       "    </tr>\n",
       "    <tr>\n",
       "      <th>2</th>\n",
       "      <td>3</td>\n",
       "      <td>Hilda</td>\n",
       "      <td>Onuoha</td>\n",
       "      <td>2</td>\n",
       "      <td>20000</td>\n",
       "    </tr>\n",
       "    <tr>\n",
       "      <th>3</th>\n",
       "      <td>4</td>\n",
       "      <td>Betty</td>\n",
       "      <td>Sharp</td>\n",
       "      <td>1</td>\n",
       "      <td>100000</td>\n",
       "    </tr>\n",
       "    <tr>\n",
       "      <th>4</th>\n",
       "      <td>5</td>\n",
       "      <td>Doubting</td>\n",
       "      <td>Thomas</td>\n",
       "      <td>3</td>\n",
       "      <td>12000</td>\n",
       "    </tr>\n",
       "  </tbody>\n",
       "</table>\n",
       "</div>"
      ],
      "text/plain": [
       "   id     lName   fName  gallery_id  agency_fee\n",
       "0   1  Chinenye   James           2        5000\n",
       "1   2    Winner   Emeto           3       40000\n",
       "2   3     Hilda  Onuoha           2       20000\n",
       "3   4     Betty   Sharp           1      100000\n",
       "4   5  Doubting  Thomas           3       12000"
      ]
     },
     "execution_count": 49,
     "metadata": {},
     "output_type": "execute_result"
    }
   ],
   "source": [
    "\n",
    "\n",
    "view_agents = pd.read_sql(\"\"\"SELECT *\n",
    "                        FROM sales_agents;\"\"\", connec)\n",
    "view_agents"
   ]
  },
  {
   "cell_type": "code",
   "execution_count": 50,
   "metadata": {
    "execution": {
     "iopub.execute_input": "2021-07-18T17:51:41.880087Z",
     "iopub.status.busy": "2021-07-18T17:51:41.87971Z",
     "iopub.status.idle": "2021-07-18T17:51:41.892039Z",
     "shell.execute_reply": "2021-07-18T17:51:41.891141Z",
     "shell.execute_reply.started": "2021-07-18T17:51:41.880056Z"
    }
   },
   "outputs": [
    {
     "data": {
      "text/html": [
       "<div>\n",
       "<style scoped>\n",
       "    .dataframe tbody tr th:only-of-type {\n",
       "        vertical-align: middle;\n",
       "    }\n",
       "\n",
       "    .dataframe tbody tr th {\n",
       "        vertical-align: top;\n",
       "    }\n",
       "\n",
       "    .dataframe thead th {\n",
       "        text-align: right;\n",
       "    }\n",
       "</style>\n",
       "<table border=\"1\" class=\"dataframe\">\n",
       "  <thead>\n",
       "    <tr style=\"text-align: right;\">\n",
       "      <th></th>\n",
       "      <th>id</th>\n",
       "      <th>gallery_id</th>\n",
       "    </tr>\n",
       "  </thead>\n",
       "  <tbody>\n",
       "    <tr>\n",
       "      <th>0</th>\n",
       "      <td>1</td>\n",
       "      <td>2</td>\n",
       "    </tr>\n",
       "    <tr>\n",
       "      <th>1</th>\n",
       "      <td>2</td>\n",
       "      <td>3</td>\n",
       "    </tr>\n",
       "    <tr>\n",
       "      <th>2</th>\n",
       "      <td>4</td>\n",
       "      <td>1</td>\n",
       "    </tr>\n",
       "  </tbody>\n",
       "</table>\n",
       "</div>"
      ],
      "text/plain": [
       "   id  gallery_id\n",
       "0   1           2\n",
       "1   2           3\n",
       "2   4           1"
      ]
     },
     "execution_count": 50,
     "metadata": {},
     "output_type": "execute_result"
    }
   ],
   "source": [
    "view_managers = pd.read_sql(\"\"\"SELECT *\n",
    "                        FROM managers;\"\"\", connec)\n",
    "view_managers"
   ]
  },
  {
   "cell_type": "markdown",
   "metadata": {},
   "source": [
    "## One of the most straightforward subquery use cases is to include it in the WHERE clause to filter results. For example, if you wanted to see information about only those sales agents who received a higher-than-average agency fee last month, you could use the following SQL query:"
   ]
  },
  {
   "cell_type": "code",
   "execution_count": 51,
   "metadata": {
    "execution": {
     "iopub.execute_input": "2021-07-18T17:51:45.619495Z",
     "iopub.status.busy": "2021-07-18T17:51:45.619132Z",
     "iopub.status.idle": "2021-07-18T17:51:45.635123Z",
     "shell.execute_reply": "2021-07-18T17:51:45.633839Z",
     "shell.execute_reply.started": "2021-07-18T17:51:45.619463Z"
    }
   },
   "outputs": [
    {
     "data": {
      "text/html": [
       "<div>\n",
       "<style scoped>\n",
       "    .dataframe tbody tr th:only-of-type {\n",
       "        vertical-align: middle;\n",
       "    }\n",
       "\n",
       "    .dataframe tbody tr th {\n",
       "        vertical-align: top;\n",
       "    }\n",
       "\n",
       "    .dataframe thead th {\n",
       "        text-align: right;\n",
       "    }\n",
       "</style>\n",
       "<table border=\"1\" class=\"dataframe\">\n",
       "  <thead>\n",
       "    <tr style=\"text-align: right;\">\n",
       "      <th></th>\n",
       "      <th>id</th>\n",
       "      <th>lName</th>\n",
       "      <th>fName</th>\n",
       "      <th>gallery_id</th>\n",
       "      <th>agency_fee</th>\n",
       "    </tr>\n",
       "  </thead>\n",
       "  <tbody>\n",
       "    <tr>\n",
       "      <th>0</th>\n",
       "      <td>2</td>\n",
       "      <td>Winner</td>\n",
       "      <td>Emeto</td>\n",
       "      <td>3</td>\n",
       "      <td>40000</td>\n",
       "    </tr>\n",
       "    <tr>\n",
       "      <th>1</th>\n",
       "      <td>4</td>\n",
       "      <td>Betty</td>\n",
       "      <td>Sharp</td>\n",
       "      <td>1</td>\n",
       "      <td>100000</td>\n",
       "    </tr>\n",
       "  </tbody>\n",
       "</table>\n",
       "</div>"
      ],
      "text/plain": [
       "   id   lName  fName  gallery_id  agency_fee\n",
       "0   2  Winner  Emeto           3       40000\n",
       "1   4   Betty  Sharp           1      100000"
      ]
     },
     "execution_count": 51,
     "metadata": {},
     "output_type": "execute_result"
    }
   ],
   "source": [
    "sub_query = \"\"\"\n",
    "SELECT *\n",
    "FROM sales_agents\n",
    "WHERE agency_fee > \n",
    "(SELECT AVG(agency_fee)\n",
    "FROM sales_agents);\n",
    "\n",
    "\"\"\"\n",
    "view_suquery = pd.read_sql(sub_query, connec)\n",
    "view_suquery"
   ]
  },
  {
   "cell_type": "markdown",
   "metadata": {},
   "source": [
    "# 21. What are the types of subquery?\n",
    "## A. Scalar Subqueries\n",
    "When a subquery returns a single value, or exactly one row and exactly one column, we call it a scalar subquery. This type of subquery is frequently used in the WHERE clause to filter the results of the main query. The subquery in our previous example is a scalar subquery, as it returns a single value (i.e. the average agency fee).\n",
    "\n",
    "Scalar subqueries can also be used in the main query’s SELECT statement. For example, let’s say we want to see the average price of all our paintings next to the price of each painting."
   ]
  },
  {
   "cell_type": "code",
   "execution_count": 52,
   "metadata": {
    "execution": {
     "iopub.execute_input": "2021-07-18T17:51:49.845529Z",
     "iopub.status.busy": "2021-07-18T17:51:49.845168Z",
     "iopub.status.idle": "2021-07-18T17:51:49.860494Z",
     "shell.execute_reply": "2021-07-18T17:51:49.859446Z",
     "shell.execute_reply.started": "2021-07-18T17:51:49.845498Z"
    }
   },
   "outputs": [
    {
     "data": {
      "text/html": [
       "<div>\n",
       "<style scoped>\n",
       "    .dataframe tbody tr th:only-of-type {\n",
       "        vertical-align: middle;\n",
       "    }\n",
       "\n",
       "    .dataframe tbody tr th {\n",
       "        vertical-align: top;\n",
       "    }\n",
       "\n",
       "    .dataframe thead th {\n",
       "        text-align: right;\n",
       "    }\n",
       "</style>\n",
       "<table border=\"1\" class=\"dataframe\">\n",
       "  <thead>\n",
       "    <tr style=\"text-align: right;\">\n",
       "      <th></th>\n",
       "      <th>painting</th>\n",
       "      <th>price</th>\n",
       "      <th>avg_price</th>\n",
       "    </tr>\n",
       "  </thead>\n",
       "  <tbody>\n",
       "    <tr>\n",
       "      <th>0</th>\n",
       "      <td>Words On Walls</td>\n",
       "      <td>100000</td>\n",
       "      <td>1640000.0</td>\n",
       "    </tr>\n",
       "    <tr>\n",
       "      <th>1</th>\n",
       "      <td>Oceans view</td>\n",
       "      <td>5000000</td>\n",
       "      <td>1640000.0</td>\n",
       "    </tr>\n",
       "    <tr>\n",
       "      <th>2</th>\n",
       "      <td>Hiding Galaxies</td>\n",
       "      <td>750000</td>\n",
       "      <td>1640000.0</td>\n",
       "    </tr>\n",
       "    <tr>\n",
       "      <th>3</th>\n",
       "      <td>Far From the Madding Crowd</td>\n",
       "      <td>2000000</td>\n",
       "      <td>1640000.0</td>\n",
       "    </tr>\n",
       "    <tr>\n",
       "      <th>4</th>\n",
       "      <td>Accelerated Waves</td>\n",
       "      <td>350000</td>\n",
       "      <td>1640000.0</td>\n",
       "    </tr>\n",
       "  </tbody>\n",
       "</table>\n",
       "</div>"
      ],
      "text/plain": [
       "                     painting    price  avg_price\n",
       "0              Words On Walls   100000  1640000.0\n",
       "1                 Oceans view  5000000  1640000.0\n",
       "2             Hiding Galaxies   750000  1640000.0\n",
       "3  Far From the Madding Crowd  2000000  1640000.0\n",
       "4           Accelerated Waves   350000  1640000.0"
      ]
     },
     "execution_count": 52,
     "metadata": {},
     "output_type": "execute_result"
    }
   ],
   "source": [
    "scalar_type = \"\"\"\n",
    "SELECT name AS painting,price,\n",
    "(SELECT AVG(price)\n",
    "FROM paintings) \n",
    "AS avg_price\n",
    "FROM paintings;\n",
    "\n",
    "\"\"\"\n",
    "view_scalar = pd.read_sql(scalar_type, connec)\n",
    "view_scalar"
   ]
  },
  {
   "cell_type": "markdown",
   "metadata": {},
   "source": [
    "## B. Multiple-Row Subqueries\n",
    "If your subquery returns more than one row, it can be referred to as a multiple-row subquery. Note that this subquery type includes (1) subqueries that return one column with multiple rows (i.e. a list of values) and (2) subqueries that return multiple columns with multiple rows (i.e. tables)."
   ]
  },
  {
   "cell_type": "code",
   "execution_count": 53,
   "metadata": {
    "execution": {
     "iopub.execute_input": "2021-07-18T17:51:53.579779Z",
     "iopub.status.busy": "2021-07-18T17:51:53.579382Z",
     "iopub.status.idle": "2021-07-18T17:51:53.59546Z",
     "shell.execute_reply": "2021-07-18T17:51:53.59371Z",
     "shell.execute_reply.started": "2021-07-18T17:51:53.579745Z"
    }
   },
   "outputs": [
    {
     "data": {
      "text/html": [
       "<div>\n",
       "<style scoped>\n",
       "    .dataframe tbody tr th:only-of-type {\n",
       "        vertical-align: middle;\n",
       "    }\n",
       "\n",
       "    .dataframe tbody tr th {\n",
       "        vertical-align: top;\n",
       "    }\n",
       "\n",
       "    .dataframe thead th {\n",
       "        text-align: right;\n",
       "    }\n",
       "</style>\n",
       "<table border=\"1\" class=\"dataframe\">\n",
       "  <thead>\n",
       "    <tr style=\"text-align: right;\">\n",
       "      <th></th>\n",
       "      <th>AVG(agency_fee)</th>\n",
       "    </tr>\n",
       "  </thead>\n",
       "  <tbody>\n",
       "    <tr>\n",
       "      <th>0</th>\n",
       "      <td>16000.0</td>\n",
       "    </tr>\n",
       "  </tbody>\n",
       "</table>\n",
       "</div>"
      ],
      "text/plain": [
       "   AVG(agency_fee)\n",
       "0          16000.0"
      ]
     },
     "execution_count": 53,
     "metadata": {},
     "output_type": "execute_result"
    }
   ],
   "source": [
    "multiple_type = \"\"\"\n",
    "SELECT AVG(agency_fee)\n",
    "FROM sales_agents\n",
    "WHERE id NOT IN (SELECT id FROM managers);\n",
    "\n",
    "\"\"\"\n",
    "view_multiple = pd.read_sql(multiple_type, connec)\n",
    "view_multiple"
   ]
  },
  {
   "cell_type": "markdown",
   "metadata": {},
   "source": [
    "## C. Correlated Subqueries\n",
    "There are also SQL subqueries where the inner query relies on information obtained from the outer query. These are correlated subqueries. Because of the interdependence between the main query and the inner query, this type of subquery can be more challenging to understand. "
   ]
  },
  {
   "cell_type": "code",
   "execution_count": 54,
   "metadata": {
    "execution": {
     "iopub.execute_input": "2021-07-18T17:51:58.100145Z",
     "iopub.status.busy": "2021-07-18T17:51:58.099771Z",
     "iopub.status.idle": "2021-07-18T17:51:58.112076Z",
     "shell.execute_reply": "2021-07-18T17:51:58.110794Z",
     "shell.execute_reply.started": "2021-07-18T17:51:58.100113Z"
    }
   },
   "outputs": [
    {
     "data": {
      "text/html": [
       "<div>\n",
       "<style scoped>\n",
       "    .dataframe tbody tr th:only-of-type {\n",
       "        vertical-align: middle;\n",
       "    }\n",
       "\n",
       "    .dataframe tbody tr th {\n",
       "        vertical-align: top;\n",
       "    }\n",
       "\n",
       "    .dataframe thead th {\n",
       "        text-align: right;\n",
       "    }\n",
       "</style>\n",
       "<table border=\"1\" class=\"dataframe\">\n",
       "  <thead>\n",
       "    <tr style=\"text-align: right;\">\n",
       "      <th></th>\n",
       "      <th>city</th>\n",
       "      <th>total_paintings</th>\n",
       "    </tr>\n",
       "  </thead>\n",
       "  <tbody>\n",
       "    <tr>\n",
       "      <th>0</th>\n",
       "      <td>Nigeria</td>\n",
       "      <td>2</td>\n",
       "    </tr>\n",
       "    <tr>\n",
       "      <th>1</th>\n",
       "      <td>Kenya</td>\n",
       "      <td>2</td>\n",
       "    </tr>\n",
       "    <tr>\n",
       "      <th>2</th>\n",
       "      <td>Ghana</td>\n",
       "      <td>1</td>\n",
       "    </tr>\n",
       "  </tbody>\n",
       "</table>\n",
       "</div>"
      ],
      "text/plain": [
       "      city  total_paintings\n",
       "0  Nigeria                2\n",
       "1    Kenya                2\n",
       "2    Ghana                1"
      ]
     },
     "execution_count": 54,
     "metadata": {},
     "output_type": "execute_result"
    }
   ],
   "source": [
    "correlated_type = \"\"\"\n",
    "SELECT city, \n",
    "(SELECT count(*)\n",
    "FROM paintings p\n",
    "WHERE g.id = p.gallery_id) total_paintings\n",
    "FROM galleries g;\n",
    "\n",
    "\"\"\"\n",
    "view_correlated = pd.read_sql(correlated_type, connec)\n",
    "view_correlated"
   ]
  },
  {
   "cell_type": "markdown",
   "metadata": {},
   "source": [
    "### Finally, correlated subqueries can also be used in the WHERE statement. For instance, let’s say we want to get information about those sales agents whose agency fee was equal or higher than the average fee for their gallery. We can run the following query to get the required result:"
   ]
  },
  {
   "cell_type": "code",
   "execution_count": 55,
   "metadata": {
    "execution": {
     "iopub.execute_input": "2021-07-18T17:52:01.569779Z",
     "iopub.status.busy": "2021-07-18T17:52:01.569401Z",
     "iopub.status.idle": "2021-07-18T17:52:01.585135Z",
     "shell.execute_reply": "2021-07-18T17:52:01.58375Z",
     "shell.execute_reply.started": "2021-07-18T17:52:01.569746Z"
    }
   },
   "outputs": [
    {
     "data": {
      "text/html": [
       "<div>\n",
       "<style scoped>\n",
       "    .dataframe tbody tr th:only-of-type {\n",
       "        vertical-align: middle;\n",
       "    }\n",
       "\n",
       "    .dataframe tbody tr th {\n",
       "        vertical-align: top;\n",
       "    }\n",
       "\n",
       "    .dataframe thead th {\n",
       "        text-align: right;\n",
       "    }\n",
       "</style>\n",
       "<table border=\"1\" class=\"dataframe\">\n",
       "  <thead>\n",
       "    <tr style=\"text-align: right;\">\n",
       "      <th></th>\n",
       "      <th>lName</th>\n",
       "      <th>fName</th>\n",
       "      <th>agency_fee</th>\n",
       "    </tr>\n",
       "  </thead>\n",
       "  <tbody>\n",
       "    <tr>\n",
       "      <th>0</th>\n",
       "      <td>Winner</td>\n",
       "      <td>Emeto</td>\n",
       "      <td>40000</td>\n",
       "    </tr>\n",
       "    <tr>\n",
       "      <th>1</th>\n",
       "      <td>Hilda</td>\n",
       "      <td>Onuoha</td>\n",
       "      <td>20000</td>\n",
       "    </tr>\n",
       "    <tr>\n",
       "      <th>2</th>\n",
       "      <td>Betty</td>\n",
       "      <td>Sharp</td>\n",
       "      <td>100000</td>\n",
       "    </tr>\n",
       "  </tbody>\n",
       "</table>\n",
       "</div>"
      ],
      "text/plain": [
       "    lName   fName  agency_fee\n",
       "0  Winner   Emeto       40000\n",
       "1   Hilda  Onuoha       20000\n",
       "2   Betty   Sharp      100000"
      ]
     },
     "execution_count": 55,
     "metadata": {},
     "output_type": "execute_result"
    }
   ],
   "source": [
    "still_correlated = \"\"\"\n",
    "SELECT lname,fname,agency_fee\n",
    "FROM sales_agents sa1\n",
    "WHERE sa1.agency_fee >= (SELECT avg(agency_fee)\n",
    "                         FROM sales_agents sa2 \n",
    "                         WHERE sa2.gallery_id = sa1.gallery_id);\n",
    "\n",
    "\"\"\"\n",
    "view_still = pd.read_sql(still_correlated, connec)\n",
    "view_still"
   ]
  },
  {
   "cell_type": "markdown",
   "metadata": {},
   "source": [
    "# 22. What is a stored procedure?\n",
    "A stored procedure is a prepared SQL code that you can save, so the code can be reused over and over again. So if you have an SQL query that you write over and over again, save it as a stored procedure, and then just call it to execute it. You can also pass parameters to a stored procedure, so that the stored procedure can act based on the parameter value(s) that is passed."
   ]
  },
  {
   "cell_type": "code",
   "execution_count": 56,
   "metadata": {
    "execution": {
     "iopub.execute_input": "2021-07-18T17:52:07.320287Z",
     "iopub.status.busy": "2021-07-18T17:52:07.319903Z",
     "iopub.status.idle": "2021-07-18T17:52:07.325154Z",
     "shell.execute_reply": "2021-07-18T17:52:07.323495Z",
     "shell.execute_reply.started": "2021-07-18T17:52:07.320255Z"
    }
   },
   "outputs": [],
   "source": [
    "my_procedure = \"\"\"\n",
    "CREATE PROCEDURE SelectAllFacts\n",
    "AS\n",
    "SELECT * FROM facts\n",
    "GO;\n",
    "\n",
    "\"\"\"\n",
    "\n",
    "execute_procedure = \"\"\"\n",
    "EXEC \n",
    "    SelectAllFacts;\n",
    "\"\"\"\n",
    "\n"
   ]
  },
  {
   "cell_type": "markdown",
   "metadata": {},
   "source": [
    "# 23. What is a trigger?\n",
    " A trigger is a stored procedure in database which automatically invokes whenever a special event in the database occurs. For example, a trigger can be invoked when a row is inserted into a specified table or when certain table columns are being updated."
   ]
  },
  {
   "cell_type": "code",
   "execution_count": 57,
   "metadata": {
    "execution": {
     "iopub.execute_input": "2021-07-18T17:52:10.920387Z",
     "iopub.status.busy": "2021-07-18T17:52:10.920018Z",
     "iopub.status.idle": "2021-07-18T17:52:10.943733Z",
     "shell.execute_reply": "2021-07-18T17:52:10.942412Z",
     "shell.execute_reply.started": "2021-07-18T17:52:10.920355Z"
    }
   },
   "outputs": [
    {
     "name": "stdout",
     "output_type": "stream",
     "text": [
      "SQL Executed Successfully\n"
     ]
    }
   ],
   "source": [
    "data_path2 = 'womentechsters.db'\n",
    "conn = sqlite3.connect(data_path2)\n",
    "def execute_sql(conn, query):\n",
    "    cursor = conn.cursor()\n",
    "    try:\n",
    "        cursor.execute(query)\n",
    "        conn.commit()\n",
    "        print(\"SQL Executed Successfully\")\n",
    "    except Error as e:\n",
    "        print (f\"The error '{e}' occurred\")\n",
    "\n",
    "score_table = \"\"\"\n",
    "CREATE TABLE Scores(\n",
    "    id integer PRIMARY KEY, \n",
    "    name text,\n",
    "    subj1 integer, \n",
    "    subj2 integer,\n",
    "    subj3 integer,\n",
    "    total integer,\n",
    "    per integer\n",
    "    );\n",
    "\n",
    "\"\"\"\n",
    "\n",
    "execute_sql(conn, score_table)"
   ]
  },
  {
   "cell_type": "code",
   "execution_count": 58,
   "metadata": {
    "execution": {
     "iopub.execute_input": "2021-07-18T17:52:12.560434Z",
     "iopub.status.busy": "2021-07-18T17:52:12.560026Z",
     "iopub.status.idle": "2021-07-18T17:52:12.565097Z",
     "shell.execute_reply": "2021-07-18T17:52:12.563956Z",
     "shell.execute_reply.started": "2021-07-18T17:52:12.560386Z"
    }
   },
   "outputs": [],
   "source": [
    "trigger_it = \"\"\"\n",
    "CREATE trigger stud_marks \n",
    "    BEFORE INSERT \n",
    "    ON Scores \n",
    "    FOR EACH ROW set Scores.total = Scores.subj1 + Scores.subj2 + Scores.subj3, Scores.per = Scores.total * 60 / 100\n",
    "\n",
    "\"\"\"\n"
   ]
  },
  {
   "cell_type": "code",
   "execution_count": 59,
   "metadata": {
    "execution": {
     "iopub.execute_input": "2021-07-18T17:52:16.470258Z",
     "iopub.status.busy": "2021-07-18T17:52:16.46988Z",
     "iopub.status.idle": "2021-07-18T17:52:16.475251Z",
     "shell.execute_reply": "2021-07-18T17:52:16.474091Z",
     "shell.execute_reply.started": "2021-07-18T17:52:16.470226Z"
    }
   },
   "outputs": [
    {
     "name": "stdout",
     "output_type": "stream",
     "text": [
      "The error 'near \"set\": syntax error' occurred\n"
     ]
    }
   ],
   "source": [
    "execute_sql(conn, trigger_it)"
   ]
  },
  {
   "cell_type": "code",
   "execution_count": 60,
   "metadata": {
    "execution": {
     "iopub.execute_input": "2021-07-18T17:52:22.680985Z",
     "iopub.status.busy": "2021-07-18T17:52:22.68059Z",
     "iopub.status.idle": "2021-07-18T17:52:22.70125Z",
     "shell.execute_reply": "2021-07-18T17:52:22.700354Z",
     "shell.execute_reply.started": "2021-07-18T17:52:22.680952Z"
    }
   },
   "outputs": [
    {
     "name": "stdout",
     "output_type": "stream",
     "text": [
      "Connected to SQLite\n",
      "Python Variables inserted successfully into scores table\n",
      "The SQLite connection is closed\n"
     ]
    }
   ],
   "source": [
    "def insertIntoScores(id,name,subj1,subj2,subj3,total,per):\n",
    "    try:\n",
    "        conn = sqlite3.connect('womentechsters.db')\n",
    "        cursor = conn.cursor()\n",
    "        print(\"Connected to SQLite\")\n",
    "\n",
    "        sqlite_insert = \"\"\"INSERT INTO Scores(id,name,subj1,subj2,subj3,total,per)\n",
    "                          VALUES (?,?,?,?,?,?,?);\"\"\"\n",
    "\n",
    "        data_tuple = (id,name,subj1,subj2,subj3,total,per)\n",
    "        cursor.execute(sqlite_insert, data_tuple)\n",
    "        conn.commit()\n",
    "        print(\"Python Variables inserted successfully into scores table\")\n",
    "\n",
    "        cursor.close()\n",
    "\n",
    "    except sqlite3.Error as error:\n",
    "        print(\"Failed to insert Python variable into sqlite table\", error)\n",
    "    finally:\n",
    "        if conn:\n",
    "            conn.close()\n",
    "            print(\"The SQLite connection is closed\")\n",
    "\n",
    "\n",
    "insertIntoScores(1, \"Alimi Badmus\", 80, 68, 40, 0, 0)\n",
    "\n"
   ]
  },
  {
   "cell_type": "code",
   "execution_count": 61,
   "metadata": {
    "execution": {
     "iopub.execute_input": "2021-07-18T17:52:24.209666Z",
     "iopub.status.busy": "2021-07-18T17:52:24.209257Z",
     "iopub.status.idle": "2021-07-18T17:52:24.223159Z",
     "shell.execute_reply": "2021-07-18T17:52:24.222125Z",
     "shell.execute_reply.started": "2021-07-18T17:52:24.209628Z"
    }
   },
   "outputs": [
    {
     "data": {
      "text/html": [
       "<div>\n",
       "<style scoped>\n",
       "    .dataframe tbody tr th:only-of-type {\n",
       "        vertical-align: middle;\n",
       "    }\n",
       "\n",
       "    .dataframe tbody tr th {\n",
       "        vertical-align: top;\n",
       "    }\n",
       "\n",
       "    .dataframe thead th {\n",
       "        text-align: right;\n",
       "    }\n",
       "</style>\n",
       "<table border=\"1\" class=\"dataframe\">\n",
       "  <thead>\n",
       "    <tr style=\"text-align: right;\">\n",
       "      <th></th>\n",
       "      <th>id</th>\n",
       "      <th>name</th>\n",
       "      <th>subj1</th>\n",
       "      <th>subj2</th>\n",
       "      <th>subj3</th>\n",
       "      <th>total</th>\n",
       "      <th>per</th>\n",
       "    </tr>\n",
       "  </thead>\n",
       "  <tbody>\n",
       "    <tr>\n",
       "      <th>0</th>\n",
       "      <td>1</td>\n",
       "      <td>Alimi Badmus</td>\n",
       "      <td>80</td>\n",
       "      <td>68</td>\n",
       "      <td>40</td>\n",
       "      <td>0</td>\n",
       "      <td>0</td>\n",
       "    </tr>\n",
       "  </tbody>\n",
       "</table>\n",
       "</div>"
      ],
      "text/plain": [
       "   id          name  subj1  subj2  subj3  total  per\n",
       "0   1  Alimi Badmus     80     68     40      0    0"
      ]
     },
     "execution_count": 61,
     "metadata": {},
     "output_type": "execute_result"
    }
   ],
   "source": [
    "view_scores = pd.read_sql(\"\"\"SELECT *\n",
    "                        FROM Scores;\"\"\", conn)\n",
    "view_scores"
   ]
  },
  {
   "cell_type": "markdown",
   "metadata": {},
   "source": [
    "# 24. What is the difference between DELETE and TRUNCATE command?\n",
    "Delete and truncate both commands can be used to delete data of the table. \n",
    "\n",
    "Delete is a Data Manipulation Language (DML) command whereas truncate is Data Definition Language (DDL) command. Truncate can be used to delete the entire data of the table without maintaining the integrity of the table. On the other hand , delete statement can be used for deleting the specific data. "
   ]
  },
  {
   "cell_type": "code",
   "execution_count": 62,
   "metadata": {
    "execution": {
     "iopub.execute_input": "2021-07-18T17:52:27.919681Z",
     "iopub.status.busy": "2021-07-18T17:52:27.9193Z",
     "iopub.status.idle": "2021-07-18T17:52:27.924296Z",
     "shell.execute_reply": "2021-07-18T17:52:27.923007Z",
     "shell.execute_reply.started": "2021-07-18T17:52:27.919646Z"
    }
   },
   "outputs": [],
   "source": [
    "## TRUNCATE Query\n",
    "trunc = \"\"\"\n",
    "TRUNCATE TABLE Scores;\n",
    "\"\"\"\n",
    "\n",
    "## Delete\n",
    "del_table = \"\"\"\n",
    "DELETE FROM paintings\n",
    "WHERE name=\"Words On Walls\";\n",
    "\n",
    "\"\"\""
   ]
  },
  {
   "cell_type": "code",
   "execution_count": 63,
   "metadata": {
    "execution": {
     "iopub.execute_input": "2021-07-18T17:52:29.149722Z",
     "iopub.status.busy": "2021-07-18T17:52:29.149324Z",
     "iopub.status.idle": "2021-07-18T17:52:29.164154Z",
     "shell.execute_reply": "2021-07-18T17:52:29.162688Z",
     "shell.execute_reply.started": "2021-07-18T17:52:29.149681Z"
    }
   },
   "outputs": [
    {
     "data": {
      "text/html": [
       "<div>\n",
       "<style scoped>\n",
       "    .dataframe tbody tr th:only-of-type {\n",
       "        vertical-align: middle;\n",
       "    }\n",
       "\n",
       "    .dataframe tbody tr th {\n",
       "        vertical-align: top;\n",
       "    }\n",
       "\n",
       "    .dataframe thead th {\n",
       "        text-align: right;\n",
       "    }\n",
       "</style>\n",
       "<table border=\"1\" class=\"dataframe\">\n",
       "  <thead>\n",
       "    <tr style=\"text-align: right;\">\n",
       "      <th></th>\n",
       "      <th>id</th>\n",
       "      <th>name</th>\n",
       "      <th>gallery_id</th>\n",
       "      <th>price</th>\n",
       "    </tr>\n",
       "  </thead>\n",
       "  <tbody>\n",
       "    <tr>\n",
       "      <th>0</th>\n",
       "      <td>1</td>\n",
       "      <td>Words On Walls</td>\n",
       "      <td>3</td>\n",
       "      <td>100000</td>\n",
       "    </tr>\n",
       "    <tr>\n",
       "      <th>1</th>\n",
       "      <td>2</td>\n",
       "      <td>Oceans view</td>\n",
       "      <td>1</td>\n",
       "      <td>5000000</td>\n",
       "    </tr>\n",
       "    <tr>\n",
       "      <th>2</th>\n",
       "      <td>3</td>\n",
       "      <td>Hiding Galaxies</td>\n",
       "      <td>1</td>\n",
       "      <td>750000</td>\n",
       "    </tr>\n",
       "    <tr>\n",
       "      <th>3</th>\n",
       "      <td>4</td>\n",
       "      <td>Far From the Madding Crowd</td>\n",
       "      <td>2</td>\n",
       "      <td>2000000</td>\n",
       "    </tr>\n",
       "    <tr>\n",
       "      <th>4</th>\n",
       "      <td>5</td>\n",
       "      <td>Accelerated Waves</td>\n",
       "      <td>2</td>\n",
       "      <td>350000</td>\n",
       "    </tr>\n",
       "  </tbody>\n",
       "</table>\n",
       "</div>"
      ],
      "text/plain": [
       "   id                        name  gallery_id    price\n",
       "0   1              Words On Walls           3   100000\n",
       "1   2                 Oceans view           1  5000000\n",
       "2   3             Hiding Galaxies           1   750000\n",
       "3   4  Far From the Madding Crowd           2  2000000\n",
       "4   5           Accelerated Waves           2   350000"
      ]
     },
     "execution_count": 63,
     "metadata": {},
     "output_type": "execute_result"
    }
   ],
   "source": [
    "view_paintings = pd.read_sql(\"\"\"SELECT *\n",
    "                        FROM paintings;\"\"\", connec)\n",
    "view_paintings"
   ]
  },
  {
   "cell_type": "markdown",
   "metadata": {},
   "source": []
  },
  {
   "cell_type": "markdown",
   "metadata": {},
   "source": [
    "# 25. What is a constraint?\n",
    "SQL constraints are used to specify rules for data in a table. Constraints can be specified when the table is created with the CREATE TABLE statement, or after the table is created with the ALTER TABLE statement.\n",
    "Examples of constraints include:\n",
    "- NOT NULL\n",
    "- PRIMARY KEY\n",
    "- UNIQUE\n",
    "- FOREIGN KEY\n",
    "\n",
    "Some of the tables above were created with constraints"
   ]
  },
  {
   "cell_type": "markdown",
   "metadata": {},
   "source": [
    "# 26. What is data integrity?\n",
    "Data Integrity is a process or a set of practices that ensures the security, accuracy, and overall quality of data. It is a data that has no redundance"
   ]
  },
  {
   "cell_type": "markdown",
   "metadata": {},
   "source": [
    "# 27. What is auto increment?\n",
    "Auto-increment allows a unique number to be generated automatically when a new record is inserted into a table. Often this is the primary key field that we would like to be created automatically every time a new record is inserted."
   ]
  },
  {
   "cell_type": "code",
   "execution_count": 64,
   "metadata": {
    "execution": {
     "iopub.execute_input": "2021-07-18T17:52:34.776231Z",
     "iopub.status.busy": "2021-07-18T17:52:34.775835Z",
     "iopub.status.idle": "2021-07-18T17:52:34.846978Z",
     "shell.execute_reply": "2021-07-18T17:52:34.845788Z",
     "shell.execute_reply.started": "2021-07-18T17:52:34.776197Z"
    }
   },
   "outputs": [
    {
     "name": "stdout",
     "output_type": "stream",
     "text": [
      "SQL Executed Successfully\n",
      "Connected to SQLite\n",
      "Python Variables inserted successfully into score table\n",
      "The SQLite connection is closed\n",
      "Connected to SQLite\n",
      "Python Variables inserted successfully into score table\n",
      "The SQLite connection is closed\n",
      "Connected to SQLite\n",
      "Python Variables inserted successfully into score table\n",
      "The SQLite connection is closed\n",
      "Connected to SQLite\n",
      "Python Variables inserted successfully into score table\n",
      "The SQLite connection is closed\n"
     ]
    }
   ],
   "source": [
    "## Example of auto increment\n",
    "scoretable = \"\"\"\n",
    "CREATE TABLE Score(id int AUTO_INCREMENT,name text,age integer,PRIMARY KEY (id));\n",
    "\n",
    "\"\"\"\n",
    "\n",
    "execute_sql(conn, scoretable)\n",
    "\n",
    "def insertIntoScore(name,age):\n",
    "    try:\n",
    "        conn = sqlite3.connect('womentechsters.db')\n",
    "        cursor = conn.cursor()\n",
    "        print(\"Connected to SQLite\")\n",
    "\n",
    "        sqlite_insert = \"\"\"INSERT INTO Score(name,age)\n",
    "                          VALUES (?,?);\"\"\"\n",
    "\n",
    "        data_tuple = (name,age)\n",
    "        cursor.execute(sqlite_insert, data_tuple)\n",
    "        conn.commit()\n",
    "        print(\"Python Variables inserted successfully into score table\")\n",
    "\n",
    "        cursor.close()\n",
    "\n",
    "    except sqlite3.Error as error:\n",
    "        print(\"Failed to insert Python variable into sqlite table\", error)\n",
    "    finally:\n",
    "        if conn:\n",
    "            conn.close()\n",
    "            print(\"The SQLite connection is closed\")\n",
    "\n",
    "\n",
    "insertIntoScore(\"Alimi Badmus\", 34)\n",
    "insertIntoScore(\"Daney Moss\", 35)\n",
    "insertIntoScore(\"Creek Beans\", 45)\n",
    "insertIntoScore(\"Nuella Chick\", 53)\n",
    "\n",
    "\n",
    "\n"
   ]
  },
  {
   "cell_type": "code",
   "execution_count": 65,
   "metadata": {
    "execution": {
     "iopub.execute_input": "2021-07-18T17:52:36.499935Z",
     "iopub.status.busy": "2021-07-18T17:52:36.499525Z",
     "iopub.status.idle": "2021-07-18T17:52:36.513506Z",
     "shell.execute_reply": "2021-07-18T17:52:36.512356Z",
     "shell.execute_reply.started": "2021-07-18T17:52:36.499902Z"
    }
   },
   "outputs": [
    {
     "data": {
      "text/html": [
       "<div>\n",
       "<style scoped>\n",
       "    .dataframe tbody tr th:only-of-type {\n",
       "        vertical-align: middle;\n",
       "    }\n",
       "\n",
       "    .dataframe tbody tr th {\n",
       "        vertical-align: top;\n",
       "    }\n",
       "\n",
       "    .dataframe thead th {\n",
       "        text-align: right;\n",
       "    }\n",
       "</style>\n",
       "<table border=\"1\" class=\"dataframe\">\n",
       "  <thead>\n",
       "    <tr style=\"text-align: right;\">\n",
       "      <th></th>\n",
       "      <th>id</th>\n",
       "      <th>name</th>\n",
       "      <th>age</th>\n",
       "    </tr>\n",
       "  </thead>\n",
       "  <tbody>\n",
       "    <tr>\n",
       "      <th>0</th>\n",
       "      <td>None</td>\n",
       "      <td>Alimi Badmus</td>\n",
       "      <td>34</td>\n",
       "    </tr>\n",
       "    <tr>\n",
       "      <th>1</th>\n",
       "      <td>None</td>\n",
       "      <td>Daney Moss</td>\n",
       "      <td>35</td>\n",
       "    </tr>\n",
       "    <tr>\n",
       "      <th>2</th>\n",
       "      <td>None</td>\n",
       "      <td>Creek Beans</td>\n",
       "      <td>45</td>\n",
       "    </tr>\n",
       "    <tr>\n",
       "      <th>3</th>\n",
       "      <td>None</td>\n",
       "      <td>Nuella Chick</td>\n",
       "      <td>53</td>\n",
       "    </tr>\n",
       "  </tbody>\n",
       "</table>\n",
       "</div>"
      ],
      "text/plain": [
       "     id          name  age\n",
       "0  None  Alimi Badmus   34\n",
       "1  None    Daney Moss   35\n",
       "2  None   Creek Beans   45\n",
       "3  None  Nuella Chick   53"
      ]
     },
     "execution_count": 65,
     "metadata": {},
     "output_type": "execute_result"
    }
   ],
   "source": [
    "view_me = pd.read_sql(\"\"\"SELECT *\n",
    "                        FROM Score;\"\"\", conn)\n",
    "view_me"
   ]
  },
  {
   "cell_type": "markdown",
   "metadata": {},
   "source": [
    "# 28. What are local and global variables and their difference?\n",
    "## Local variable: Local variable is declared inside a function. Local variables are created when the function has started execution and is lost when the function terminates. \n",
    "- A user declares the local variable.\n",
    "- By default, a local variable starts with @.\n",
    "- Every local variable scope has the restriction to the current batch or procedure within any given session.\n",
    "## Global variable: Global variable is declared outside the function. Global variable is created as execution starts and is lost when the program ends.\n",
    "- The system maintains the global variable. A user cannot declare them.\n",
    "- The global variable starts with @@\n",
    "- It stores session related information."
   ]
  },
  {
   "cell_type": "code",
   "execution_count": null,
   "metadata": {
    "execution": {
     "iopub.execute_input": "2021-07-18T17:52:40.170014Z",
     "iopub.status.busy": "2021-07-18T17:52:40.169649Z",
     "iopub.status.idle": "2021-07-18T17:52:40.193295Z",
     "shell.execute_reply": "2021-07-18T17:52:40.191351Z",
     "shell.execute_reply.started": "2021-07-18T17:52:40.169983Z"
    }
   },
   "outputs": [],
   "source": [
    "## Example of global declaration\n",
    "\n",
    "see_lang = \"\"\"\n",
    "SELECT @@language\n",
    "\"\"\"\n",
    "run_it = pd.read_sql(see_lang,connection)\n",
    "\n",
    "## Examples of local declaration\n",
    "local_declare = \"\"\"\n",
    "DECLARE @TestVariable AS VARCHAR(100)='Save Our Planet'\n",
    "PRINT @TestVariable\n",
    "\"\"\"\n",
    "runs_it = pd.read_sql(local_declare,connection)"
   ]
  },
  {
   "cell_type": "markdown",
   "metadata": {},
   "source": [
    "# 29. What is the difference between cluster and non-cluster index?\n",
    "## Clustered Index: A clustered index defines the order in which data is stored in the table which can be sorted in only one way. So, there can be an only a single clustered index for every table.\n",
    "## Unclustered Index: A Non-clustered index stores the data at one location and indices at another location. The index contains pointers to the location of that data. A single table can have many non-clustered indexes as an index in the non-clustered index is stored in different places."
   ]
  },
  {
   "cell_type": "code",
   "execution_count": 66,
   "metadata": {
    "execution": {
     "iopub.execute_input": "2021-07-18T17:52:46.546772Z",
     "iopub.status.busy": "2021-07-18T17:52:46.546365Z",
     "iopub.status.idle": "2021-07-18T17:52:46.565773Z",
     "shell.execute_reply": "2021-07-18T17:52:46.564733Z",
     "shell.execute_reply.started": "2021-07-18T17:52:46.546738Z"
    }
   },
   "outputs": [
    {
     "name": "stdout",
     "output_type": "stream",
     "text": [
      "SQL Executed Successfully\n"
     ]
    }
   ],
   "source": [
    "products = \"\"\"\n",
    "CREATE TABLE orders(\n",
    "    order_id integer PRIMARY KEY, \n",
    "    sales_id int auto_increment, \n",
    "    order_qty integer, \n",
    "    product_id integer,\n",
    "    unit_price integer\n",
    "    );\n",
    "\n",
    "\"\"\"\n",
    "execute_sql(connec, products)"
   ]
  },
  {
   "cell_type": "code",
   "execution_count": 67,
   "metadata": {
    "execution": {
     "iopub.execute_input": "2021-07-18T17:52:47.790284Z",
     "iopub.status.busy": "2021-07-18T17:52:47.789943Z",
     "iopub.status.idle": "2021-07-18T17:52:47.894416Z",
     "shell.execute_reply": "2021-07-18T17:52:47.893058Z",
     "shell.execute_reply.started": "2021-07-18T17:52:47.790254Z"
    }
   },
   "outputs": [
    {
     "name": "stdout",
     "output_type": "stream",
     "text": [
      "Connected to SQLite\n",
      "Python Variables inserted successfully into orders table\n",
      "The SQLite connection is closed\n",
      "Connected to SQLite\n",
      "Python Variables inserted successfully into orders table\n",
      "The SQLite connection is closed\n",
      "Connected to SQLite\n",
      "Python Variables inserted successfully into orders table\n",
      "The SQLite connection is closed\n",
      "Connected to SQLite\n",
      "Python Variables inserted successfully into orders table\n",
      "The SQLite connection is closed\n",
      "Connected to SQLite\n",
      "Python Variables inserted successfully into orders table\n",
      "The SQLite connection is closed\n",
      "Connected to SQLite\n",
      "Python Variables inserted successfully into orders table\n",
      "The SQLite connection is closed\n",
      "Connected to SQLite\n",
      "Python Variables inserted successfully into orders table\n",
      "The SQLite connection is closed\n",
      "Connected to SQLite\n",
      "Python Variables inserted successfully into orders table\n",
      "The SQLite connection is closed\n",
      "Connected to SQLite\n",
      "Python Variables inserted successfully into orders table\n",
      "The SQLite connection is closed\n"
     ]
    }
   ],
   "source": [
    "def insertIntoOrders(sales_id,order_qty,product_id,unit_price):\n",
    "    try:\n",
    "        connec = sqlite3.connect('lastdatabase.db')\n",
    "        cursor = connec.cursor()\n",
    "        print(\"Connected to SQLite\")\n",
    "\n",
    "        sqlite_insert = \"\"\"INSERT INTO orders(sales_id,order_qty,product_id,unit_price) \n",
    "                          VALUES (?,?,?,?);\"\"\"\n",
    "\n",
    "        data_tuple = (sales_id,order_qty,product_id,unit_price) \n",
    "        cursor.execute(sqlite_insert, data_tuple)\n",
    "        connec.commit()\n",
    "        print(\"Python Variables inserted successfully into orders table\")\n",
    "\n",
    "        cursor.close()\n",
    "\n",
    "    except sqlite3.Error as error:\n",
    "        print(\"Failed to insert Python variable into sqlite table\", error)\n",
    "    finally:\n",
    "        if connec:\n",
    "            connec.close()\n",
    "            print(\"The SQLite connection is closed\")\n",
    "\n",
    "\n",
    "insertIntoOrders(211,2,611,100)\n",
    "insertIntoOrders(211,2,613,50)\n",
    "insertIntoOrders(211,2,614,5)\n",
    "insertIntoOrders(211,1,612,10)\n",
    "insertIntoOrders(211,1,689,120)\n",
    "insertIntoOrders(211,3,615,1000)\n",
    "insertIntoOrders(213,3,617,55)\n",
    "insertIntoOrders(213,3,620,400)\n",
    "insertIntoOrders(215,1,601,7500)"
   ]
  },
  {
   "cell_type": "code",
   "execution_count": 68,
   "metadata": {
    "execution": {
     "iopub.execute_input": "2021-07-18T17:52:49.000452Z",
     "iopub.status.busy": "2021-07-18T17:52:49.000072Z",
     "iopub.status.idle": "2021-07-18T17:52:49.01413Z",
     "shell.execute_reply": "2021-07-18T17:52:49.013165Z",
     "shell.execute_reply.started": "2021-07-18T17:52:49.00042Z"
    }
   },
   "outputs": [
    {
     "data": {
      "text/html": [
       "<div>\n",
       "<style scoped>\n",
       "    .dataframe tbody tr th:only-of-type {\n",
       "        vertical-align: middle;\n",
       "    }\n",
       "\n",
       "    .dataframe tbody tr th {\n",
       "        vertical-align: top;\n",
       "    }\n",
       "\n",
       "    .dataframe thead th {\n",
       "        text-align: right;\n",
       "    }\n",
       "</style>\n",
       "<table border=\"1\" class=\"dataframe\">\n",
       "  <thead>\n",
       "    <tr style=\"text-align: right;\">\n",
       "      <th></th>\n",
       "      <th>order_id</th>\n",
       "      <th>sales_id</th>\n",
       "      <th>order_qty</th>\n",
       "      <th>product_id</th>\n",
       "      <th>unit_price</th>\n",
       "    </tr>\n",
       "  </thead>\n",
       "  <tbody>\n",
       "    <tr>\n",
       "      <th>0</th>\n",
       "      <td>1</td>\n",
       "      <td>211</td>\n",
       "      <td>2</td>\n",
       "      <td>611</td>\n",
       "      <td>100</td>\n",
       "    </tr>\n",
       "    <tr>\n",
       "      <th>1</th>\n",
       "      <td>2</td>\n",
       "      <td>211</td>\n",
       "      <td>2</td>\n",
       "      <td>613</td>\n",
       "      <td>50</td>\n",
       "    </tr>\n",
       "    <tr>\n",
       "      <th>2</th>\n",
       "      <td>3</td>\n",
       "      <td>211</td>\n",
       "      <td>2</td>\n",
       "      <td>614</td>\n",
       "      <td>5</td>\n",
       "    </tr>\n",
       "    <tr>\n",
       "      <th>3</th>\n",
       "      <td>4</td>\n",
       "      <td>211</td>\n",
       "      <td>1</td>\n",
       "      <td>612</td>\n",
       "      <td>10</td>\n",
       "    </tr>\n",
       "    <tr>\n",
       "      <th>4</th>\n",
       "      <td>5</td>\n",
       "      <td>211</td>\n",
       "      <td>1</td>\n",
       "      <td>689</td>\n",
       "      <td>120</td>\n",
       "    </tr>\n",
       "    <tr>\n",
       "      <th>5</th>\n",
       "      <td>6</td>\n",
       "      <td>211</td>\n",
       "      <td>3</td>\n",
       "      <td>615</td>\n",
       "      <td>1000</td>\n",
       "    </tr>\n",
       "    <tr>\n",
       "      <th>6</th>\n",
       "      <td>7</td>\n",
       "      <td>213</td>\n",
       "      <td>3</td>\n",
       "      <td>617</td>\n",
       "      <td>55</td>\n",
       "    </tr>\n",
       "    <tr>\n",
       "      <th>7</th>\n",
       "      <td>8</td>\n",
       "      <td>213</td>\n",
       "      <td>3</td>\n",
       "      <td>620</td>\n",
       "      <td>400</td>\n",
       "    </tr>\n",
       "    <tr>\n",
       "      <th>8</th>\n",
       "      <td>9</td>\n",
       "      <td>215</td>\n",
       "      <td>1</td>\n",
       "      <td>601</td>\n",
       "      <td>7500</td>\n",
       "    </tr>\n",
       "  </tbody>\n",
       "</table>\n",
       "</div>"
      ],
      "text/plain": [
       "   order_id  sales_id  order_qty  product_id  unit_price\n",
       "0         1       211          2         611         100\n",
       "1         2       211          2         613          50\n",
       "2         3       211          2         614           5\n",
       "3         4       211          1         612          10\n",
       "4         5       211          1         689         120\n",
       "5         6       211          3         615        1000\n",
       "6         7       213          3         617          55\n",
       "7         8       213          3         620         400\n",
       "8         9       215          1         601        7500"
      ]
     },
     "execution_count": 68,
     "metadata": {},
     "output_type": "execute_result"
    }
   ],
   "source": [
    "view_orders = pd.read_sql(\"\"\"SELECT *\n",
    "                        FROM orders;\"\"\", connec)\n",
    "view_orders"
   ]
  },
  {
   "cell_type": "code",
   "execution_count": 69,
   "metadata": {
    "execution": {
     "iopub.execute_input": "2021-07-18T17:52:53.860672Z",
     "iopub.status.busy": "2021-07-18T17:52:53.860292Z",
     "iopub.status.idle": "2021-07-18T17:52:53.865268Z",
     "shell.execute_reply": "2021-07-18T17:52:53.864311Z",
     "shell.execute_reply.started": "2021-07-18T17:52:53.860638Z"
    }
   },
   "outputs": [],
   "source": [
    "## Clustered Index\n",
    "clustered = \"\"\"\n",
    "SELECT product_id, unit_price\n",
    "FROM orders\n",
    "WHERE sales_id = 6;\n",
    "\"\"\"\n",
    "\n",
    "## Non-clustered Index\n",
    "non_clustered = \"\"\"\n",
    "CREATE INDEX myIndex \n",
    "ON orders(product_id, order_qty);\n",
    "\"\"\"\n",
    "\n",
    "non_clust = \"\"\"\n",
    "SELECT product_id, order_qty\n",
    "FROM orders\n",
    "WHERE product_id = 617;\n",
    "\"\"\"\n"
   ]
  },
  {
   "cell_type": "code",
   "execution_count": 70,
   "metadata": {
    "execution": {
     "iopub.execute_input": "2021-07-18T17:52:54.960774Z",
     "iopub.status.busy": "2021-07-18T17:52:54.960396Z",
     "iopub.status.idle": "2021-07-18T17:52:54.97186Z",
     "shell.execute_reply": "2021-07-18T17:52:54.970487Z",
     "shell.execute_reply.started": "2021-07-18T17:52:54.960731Z"
    }
   },
   "outputs": [
    {
     "data": {
      "text/html": [
       "<div>\n",
       "<style scoped>\n",
       "    .dataframe tbody tr th:only-of-type {\n",
       "        vertical-align: middle;\n",
       "    }\n",
       "\n",
       "    .dataframe tbody tr th {\n",
       "        vertical-align: top;\n",
       "    }\n",
       "\n",
       "    .dataframe thead th {\n",
       "        text-align: right;\n",
       "    }\n",
       "</style>\n",
       "<table border=\"1\" class=\"dataframe\">\n",
       "  <thead>\n",
       "    <tr style=\"text-align: right;\">\n",
       "      <th></th>\n",
       "      <th>product_id</th>\n",
       "      <th>order_qty</th>\n",
       "    </tr>\n",
       "  </thead>\n",
       "  <tbody>\n",
       "    <tr>\n",
       "      <th>0</th>\n",
       "      <td>617</td>\n",
       "      <td>3</td>\n",
       "    </tr>\n",
       "  </tbody>\n",
       "</table>\n",
       "</div>"
      ],
      "text/plain": [
       "   product_id  order_qty\n",
       "0         617          3"
      ]
     },
     "execution_count": 70,
     "metadata": {},
     "output_type": "execute_result"
    }
   ],
   "source": [
    "view_nonclus = pd.read_sql(non_clust, connec)\n",
    "view_nonclus"
   ]
  },
  {
   "cell_type": "code",
   "execution_count": 71,
   "metadata": {
    "execution": {
     "iopub.execute_input": "2021-07-18T17:52:57.919721Z",
     "iopub.status.busy": "2021-07-18T17:52:57.919318Z",
     "iopub.status.idle": "2021-07-18T17:52:57.933778Z",
     "shell.execute_reply": "2021-07-18T17:52:57.932538Z",
     "shell.execute_reply.started": "2021-07-18T17:52:57.919683Z"
    }
   },
   "outputs": [
    {
     "data": {
      "text/html": [
       "<div>\n",
       "<style scoped>\n",
       "    .dataframe tbody tr th:only-of-type {\n",
       "        vertical-align: middle;\n",
       "    }\n",
       "\n",
       "    .dataframe tbody tr th {\n",
       "        vertical-align: top;\n",
       "    }\n",
       "\n",
       "    .dataframe thead th {\n",
       "        text-align: right;\n",
       "    }\n",
       "</style>\n",
       "<table border=\"1\" class=\"dataframe\">\n",
       "  <thead>\n",
       "    <tr style=\"text-align: right;\">\n",
       "      <th></th>\n",
       "      <th>product_id</th>\n",
       "      <th>unit_price</th>\n",
       "    </tr>\n",
       "  </thead>\n",
       "  <tbody>\n",
       "  </tbody>\n",
       "</table>\n",
       "</div>"
      ],
      "text/plain": [
       "Empty DataFrame\n",
       "Columns: [product_id, unit_price]\n",
       "Index: []"
      ]
     },
     "execution_count": 71,
     "metadata": {},
     "output_type": "execute_result"
    }
   ],
   "source": [
    "view_clus = pd.read_sql(clustered, connec)\n",
    "view_clus"
   ]
  },
  {
   "cell_type": "markdown",
   "metadata": {},
   "source": [
    "# 30. What is a Datawarehouse?\n",
    "A data warehouse is a large collection of business data used to help an organization make decisions."
   ]
  },
  {
   "cell_type": "markdown",
   "metadata": {},
   "source": [
    "# 33. What is user defined function?\n"
   ]
  },
  {
   "cell_type": "code",
   "execution_count": 72,
   "metadata": {
    "execution": {
     "iopub.execute_input": "2021-07-18T17:53:04.460416Z",
     "iopub.status.busy": "2021-07-18T17:53:04.460075Z",
     "iopub.status.idle": "2021-07-18T17:53:04.481996Z",
     "shell.execute_reply": "2021-07-18T17:53:04.480914Z",
     "shell.execute_reply.started": "2021-07-18T17:53:04.460387Z"
    }
   },
   "outputs": [
    {
     "name": "stdout",
     "output_type": "stream",
     "text": [
      "SQL Executed Successfully\n"
     ]
    }
   ],
   "source": [
    "## Creating new table\n",
    "testing = \"\"\"\n",
    " CREATE TABLE TEST(\n",
    "    num1 INT,\n",
    "    num2 INT\n",
    "    );\n",
    "\n",
    "\"\"\"\n",
    "execute_sql(connec, testing)"
   ]
  },
  {
   "cell_type": "code",
   "execution_count": 73,
   "metadata": {
    "execution": {
     "iopub.execute_input": "2021-07-18T17:53:07.700086Z",
     "iopub.status.busy": "2021-07-18T17:53:07.699726Z",
     "iopub.status.idle": "2021-07-18T17:53:07.742122Z",
     "shell.execute_reply": "2021-07-18T17:53:07.741077Z",
     "shell.execute_reply.started": "2021-07-18T17:53:07.700056Z"
    }
   },
   "outputs": [
    {
     "name": "stdout",
     "output_type": "stream",
     "text": [
      "Connected to SQLite\n",
      "Python Variables inserted successfully into TEST table\n",
      "The SQLite connection is closed\n",
      "Connected to SQLite\n",
      "Python Variables inserted successfully into TEST table\n",
      "The SQLite connection is closed\n",
      "Connected to SQLite\n",
      "Python Variables inserted successfully into TEST table\n",
      "The SQLite connection is closed\n"
     ]
    }
   ],
   "source": [
    "def insertIntoTest(num1,num2):\n",
    "    try:\n",
    "        connec = sqlite3.connect('lastdatabase.db')\n",
    "        cursor = connec.cursor()\n",
    "        print(\"Connected to SQLite\")\n",
    "\n",
    "        sqlite_insert = \"\"\"INSERT INTO TEST(num1,num2) \n",
    "                          VALUES (?,?);\"\"\"\n",
    "\n",
    "        data_tuple = (num1,num2) \n",
    "        cursor.execute(sqlite_insert, data_tuple)\n",
    "        connec.commit()\n",
    "        print(\"Python Variables inserted successfully into TEST table\")\n",
    "\n",
    "        cursor.close()\n",
    "\n",
    "    except sqlite3.Error as error:\n",
    "        print(\"Failed to insert Python variable into sqlite table\", error)\n",
    "    finally:\n",
    "        if connec:\n",
    "            connec.close()\n",
    "            print(\"The SQLite connection is closed\")\n",
    "\n",
    "\n",
    "insertIntoTest(1,2)\n",
    "insertIntoTest(2,3)\n",
    "insertIntoTest(4,5)"
   ]
  },
  {
   "cell_type": "markdown",
   "metadata": {},
   "source": [
    "## We will create a function that returns a new table with an extra column. This extra column will contain the sum of numbers in the column num1 and column num2."
   ]
  },
  {
   "cell_type": "code",
   "execution_count": 74,
   "metadata": {
    "execution": {
     "iopub.execute_input": "2021-07-18T17:53:12.679973Z",
     "iopub.status.busy": "2021-07-18T17:53:12.679602Z",
     "iopub.status.idle": "2021-07-18T17:53:12.698215Z",
     "shell.execute_reply": "2021-07-18T17:53:12.696433Z",
     "shell.execute_reply.started": "2021-07-18T17:53:12.679939Z"
    }
   },
   "outputs": [
    {
     "ename": "OperationalError",
     "evalue": "near \"FUNCTION\": syntax error",
     "output_type": "error",
     "traceback": [
      "\u001b[0;31m---------------------------------------------------------------------------\u001b[0m",
      "\u001b[0;31mOperationalError\u001b[0m                          Traceback (most recent call last)",
      "\u001b[0;32m<ipython-input-74-a606c3977eed>\u001b[0m in \u001b[0;36m<module>\u001b[0;34m\u001b[0m\n\u001b[1;32m     19\u001b[0m \u001b[0mcursor\u001b[0m \u001b[0;34m=\u001b[0m \u001b[0mconnec\u001b[0m\u001b[0;34m.\u001b[0m\u001b[0mcursor\u001b[0m\u001b[0;34m(\u001b[0m\u001b[0;34m)\u001b[0m\u001b[0;34m\u001b[0m\u001b[0;34m\u001b[0m\u001b[0m\n\u001b[1;32m     20\u001b[0m \u001b[0mconnec\u001b[0m\u001b[0;34m.\u001b[0m\u001b[0mcreate_function\u001b[0m\u001b[0;34m(\u001b[0m\u001b[0;34m\"upper\"\u001b[0m\u001b[0;34m,\u001b[0m \u001b[0;36m1\u001b[0m\u001b[0;34m,\u001b[0m \u001b[0mupper\u001b[0m\u001b[0;34m)\u001b[0m\u001b[0;34m\u001b[0m\u001b[0;34m\u001b[0m\u001b[0m\n\u001b[0;32m---> 21\u001b[0;31m \u001b[0mcursor\u001b[0m\u001b[0;34m.\u001b[0m\u001b[0mexecute\u001b[0m\u001b[0;34m(\u001b[0m\u001b[0mthe_func\u001b[0m\u001b[0;34m)\u001b[0m\u001b[0;34m\u001b[0m\u001b[0;34m\u001b[0m\u001b[0m\n\u001b[0m\u001b[1;32m     22\u001b[0m \u001b[0;31m#print cursor.fetchone()\u001b[0m\u001b[0;34m\u001b[0m\u001b[0;34m\u001b[0m\u001b[0;34m\u001b[0m\u001b[0m\n\u001b[1;32m     23\u001b[0m \u001b[0;34m\u001b[0m\u001b[0m\n",
      "\u001b[0;31mOperationalError\u001b[0m: near \"FUNCTION\": syntax error"
     ]
    }
   ],
   "source": [
    "## Table-Valued Functions\n",
    "the_func = \"\"\"\n",
    "CREATE FUNCTION table_valued_func()\n",
    "    RETURNS TEST\n",
    "    AS\n",
    "    RETURN\n",
    "-- calculate sum\n",
    "SELECT num1,num2,num1+num2 \n",
    "AS 'SUM'\n",
    "FROM TEST;\n",
    "\n",
    "\"\"\"\n",
    "\n",
    "\n",
    "def upper(string):\n",
    "    return str(string).upper()\n",
    "\n",
    "connec = sqlite3.connect('lastdatabase.db')\n",
    "cursor = connec.cursor()\n",
    "connec.create_function(\"upper\", 1, upper)\n",
    "cursor.execute(the_func)\n",
    "#print cursor.fetchone()\n",
    "\n",
    "\n"
   ]
  },
  {
   "cell_type": "code",
   "execution_count": 75,
   "metadata": {
    "execution": {
     "iopub.execute_input": "2021-07-18T17:53:14.699937Z",
     "iopub.status.busy": "2021-07-18T17:53:14.699583Z",
     "iopub.status.idle": "2021-07-18T17:53:14.704584Z",
     "shell.execute_reply": "2021-07-18T17:53:14.703599Z",
     "shell.execute_reply.started": "2021-07-18T17:53:14.699906Z"
    }
   },
   "outputs": [],
   "source": [
    "connec.create_function(the_func,1,connec)"
   ]
  },
  {
   "cell_type": "code",
   "execution_count": 76,
   "metadata": {
    "execution": {
     "iopub.execute_input": "2021-07-18T17:53:19.040186Z",
     "iopub.status.busy": "2021-07-18T17:53:19.039781Z",
     "iopub.status.idle": "2021-07-18T17:53:19.045387Z",
     "shell.execute_reply": "2021-07-18T17:53:19.044319Z",
     "shell.execute_reply.started": "2021-07-18T17:53:19.04015Z"
    }
   },
   "outputs": [
    {
     "name": "stdout",
     "output_type": "stream",
     "text": [
      "The error 'near \"FUNCTION\": syntax error' occurred\n"
     ]
    }
   ],
   "source": [
    "execute_sql(connec, the_func)"
   ]
  },
  {
   "cell_type": "markdown",
   "metadata": {},
   "source": [
    "# 34. What are the types of user defined functions?\n",
    "There are two main types of user-defined functions in SQL based on the data they return:\n",
    "\n",
    "- Scalar functions: These types of functions return a single value, i.e float, int, varchar, datetime, etc.\n",
    "\n",
    "Table-Valued functions: These functions return tables."
   ]
  },
  {
   "cell_type": "code",
   "execution_count": 77,
   "metadata": {
    "execution": {
     "iopub.execute_input": "2021-07-18T17:53:24.180479Z",
     "iopub.status.busy": "2021-07-18T17:53:24.180075Z",
     "iopub.status.idle": "2021-07-18T17:53:24.204306Z",
     "shell.execute_reply": "2021-07-18T17:53:24.20259Z",
     "shell.execute_reply.started": "2021-07-18T17:53:24.180445Z"
    }
   },
   "outputs": [
    {
     "name": "stdout",
     "output_type": "stream",
     "text": [
      "The error 'near \"FUNCTION\": syntax error' occurred\n"
     ]
    },
    {
     "ename": "DatabaseError",
     "evalue": "Execution failed on sql '\n\nCREATE FUNCTION scalar_func(\n    @a AS INT, -- parameter a\n    @b AS INT -- parameter b\n)\nRETURNS INT \nAS\nBEGIN\nRETURN @a + @b \nEND;\n': near \"FUNCTION\": syntax error",
     "output_type": "error",
     "traceback": [
      "\u001b[0;31m---------------------------------------------------------------------------\u001b[0m",
      "\u001b[0;31mOperationalError\u001b[0m                          Traceback (most recent call last)",
      "\u001b[0;32m/opt/anaconda3/lib/python3.8/site-packages/pandas/io/sql.py\u001b[0m in \u001b[0;36mexecute\u001b[0;34m(self, *args, **kwargs)\u001b[0m\n\u001b[1;32m   1724\u001b[0m         \u001b[0;32mtry\u001b[0m\u001b[0;34m:\u001b[0m\u001b[0;34m\u001b[0m\u001b[0;34m\u001b[0m\u001b[0m\n\u001b[0;32m-> 1725\u001b[0;31m             \u001b[0mcur\u001b[0m\u001b[0;34m.\u001b[0m\u001b[0mexecute\u001b[0m\u001b[0;34m(\u001b[0m\u001b[0;34m*\u001b[0m\u001b[0margs\u001b[0m\u001b[0;34m,\u001b[0m \u001b[0;34m**\u001b[0m\u001b[0mkwargs\u001b[0m\u001b[0;34m)\u001b[0m\u001b[0;34m\u001b[0m\u001b[0;34m\u001b[0m\u001b[0m\n\u001b[0m\u001b[1;32m   1726\u001b[0m             \u001b[0;32mreturn\u001b[0m \u001b[0mcur\u001b[0m\u001b[0;34m\u001b[0m\u001b[0;34m\u001b[0m\u001b[0m\n",
      "\u001b[0;31mOperationalError\u001b[0m: near \"FUNCTION\": syntax error",
      "\nThe above exception was the direct cause of the following exception:\n",
      "\u001b[0;31mDatabaseError\u001b[0m                             Traceback (most recent call last)",
      "\u001b[0;32m<ipython-input-77-c6bbd16d18ca>\u001b[0m in \u001b[0;36m<module>\u001b[0;34m\u001b[0m\n\u001b[1;32m     14\u001b[0m \u001b[0mexecute_sql\u001b[0m\u001b[0;34m(\u001b[0m\u001b[0mconnec\u001b[0m\u001b[0;34m,\u001b[0m \u001b[0mthe_func2\u001b[0m\u001b[0;34m)\u001b[0m\u001b[0;34m\u001b[0m\u001b[0;34m\u001b[0m\u001b[0m\n\u001b[1;32m     15\u001b[0m \u001b[0;34m\u001b[0m\u001b[0m\n\u001b[0;32m---> 16\u001b[0;31m \u001b[0mview_func2\u001b[0m \u001b[0;34m=\u001b[0m \u001b[0mpd\u001b[0m\u001b[0;34m.\u001b[0m\u001b[0mread_sql\u001b[0m\u001b[0;34m(\u001b[0m\u001b[0mthe_func2\u001b[0m\u001b[0;34m,\u001b[0m \u001b[0mconnec\u001b[0m\u001b[0;34m)\u001b[0m\u001b[0;34m\u001b[0m\u001b[0;34m\u001b[0m\u001b[0m\n\u001b[0m\u001b[1;32m     17\u001b[0m \u001b[0mview_func2\u001b[0m\u001b[0;34m\u001b[0m\u001b[0;34m\u001b[0m\u001b[0m\n",
      "\u001b[0;32m/opt/anaconda3/lib/python3.8/site-packages/pandas/io/sql.py\u001b[0m in \u001b[0;36mread_sql\u001b[0;34m(sql, con, index_col, coerce_float, params, parse_dates, columns, chunksize)\u001b[0m\n\u001b[1;32m    493\u001b[0m \u001b[0;34m\u001b[0m\u001b[0m\n\u001b[1;32m    494\u001b[0m     \u001b[0;32mif\u001b[0m \u001b[0misinstance\u001b[0m\u001b[0;34m(\u001b[0m\u001b[0mpandas_sql\u001b[0m\u001b[0;34m,\u001b[0m \u001b[0mSQLiteDatabase\u001b[0m\u001b[0;34m)\u001b[0m\u001b[0;34m:\u001b[0m\u001b[0;34m\u001b[0m\u001b[0;34m\u001b[0m\u001b[0m\n\u001b[0;32m--> 495\u001b[0;31m         return pandas_sql.read_query(\n\u001b[0m\u001b[1;32m    496\u001b[0m             \u001b[0msql\u001b[0m\u001b[0;34m,\u001b[0m\u001b[0;34m\u001b[0m\u001b[0;34m\u001b[0m\u001b[0m\n\u001b[1;32m    497\u001b[0m             \u001b[0mindex_col\u001b[0m\u001b[0;34m=\u001b[0m\u001b[0mindex_col\u001b[0m\u001b[0;34m,\u001b[0m\u001b[0;34m\u001b[0m\u001b[0;34m\u001b[0m\u001b[0m\n",
      "\u001b[0;32m/opt/anaconda3/lib/python3.8/site-packages/pandas/io/sql.py\u001b[0m in \u001b[0;36mread_query\u001b[0;34m(self, sql, index_col, coerce_float, params, parse_dates, chunksize)\u001b[0m\n\u001b[1;32m   1769\u001b[0m \u001b[0;34m\u001b[0m\u001b[0m\n\u001b[1;32m   1770\u001b[0m         \u001b[0margs\u001b[0m \u001b[0;34m=\u001b[0m \u001b[0m_convert_params\u001b[0m\u001b[0;34m(\u001b[0m\u001b[0msql\u001b[0m\u001b[0;34m,\u001b[0m \u001b[0mparams\u001b[0m\u001b[0;34m)\u001b[0m\u001b[0;34m\u001b[0m\u001b[0;34m\u001b[0m\u001b[0m\n\u001b[0;32m-> 1771\u001b[0;31m         \u001b[0mcursor\u001b[0m \u001b[0;34m=\u001b[0m \u001b[0mself\u001b[0m\u001b[0;34m.\u001b[0m\u001b[0mexecute\u001b[0m\u001b[0;34m(\u001b[0m\u001b[0;34m*\u001b[0m\u001b[0margs\u001b[0m\u001b[0;34m)\u001b[0m\u001b[0;34m\u001b[0m\u001b[0;34m\u001b[0m\u001b[0m\n\u001b[0m\u001b[1;32m   1772\u001b[0m         \u001b[0mcolumns\u001b[0m \u001b[0;34m=\u001b[0m \u001b[0;34m[\u001b[0m\u001b[0mcol_desc\u001b[0m\u001b[0;34m[\u001b[0m\u001b[0;36m0\u001b[0m\u001b[0;34m]\u001b[0m \u001b[0;32mfor\u001b[0m \u001b[0mcol_desc\u001b[0m \u001b[0;32min\u001b[0m \u001b[0mcursor\u001b[0m\u001b[0;34m.\u001b[0m\u001b[0mdescription\u001b[0m\u001b[0;34m]\u001b[0m\u001b[0;34m\u001b[0m\u001b[0;34m\u001b[0m\u001b[0m\n\u001b[1;32m   1773\u001b[0m \u001b[0;34m\u001b[0m\u001b[0m\n",
      "\u001b[0;32m/opt/anaconda3/lib/python3.8/site-packages/pandas/io/sql.py\u001b[0m in \u001b[0;36mexecute\u001b[0;34m(self, *args, **kwargs)\u001b[0m\n\u001b[1;32m   1735\u001b[0m \u001b[0;34m\u001b[0m\u001b[0m\n\u001b[1;32m   1736\u001b[0m             \u001b[0mex\u001b[0m \u001b[0;34m=\u001b[0m \u001b[0mDatabaseError\u001b[0m\u001b[0;34m(\u001b[0m\u001b[0;34mf\"Execution failed on sql '{args[0]}': {exc}\"\u001b[0m\u001b[0;34m)\u001b[0m\u001b[0;34m\u001b[0m\u001b[0;34m\u001b[0m\u001b[0m\n\u001b[0;32m-> 1737\u001b[0;31m             \u001b[0;32mraise\u001b[0m \u001b[0mex\u001b[0m \u001b[0;32mfrom\u001b[0m \u001b[0mexc\u001b[0m\u001b[0;34m\u001b[0m\u001b[0;34m\u001b[0m\u001b[0m\n\u001b[0m\u001b[1;32m   1738\u001b[0m \u001b[0;34m\u001b[0m\u001b[0m\n\u001b[1;32m   1739\u001b[0m     \u001b[0;34m@\u001b[0m\u001b[0mstaticmethod\u001b[0m\u001b[0;34m\u001b[0m\u001b[0;34m\u001b[0m\u001b[0m\n",
      "\u001b[0;31mDatabaseError\u001b[0m: Execution failed on sql '\n\nCREATE FUNCTION scalar_func(\n    @a AS INT, -- parameter a\n    @b AS INT -- parameter b\n)\nRETURNS INT \nAS\nBEGIN\nRETURN @a + @b \nEND;\n': near \"FUNCTION\": syntax error"
     ]
    }
   ],
   "source": [
    "## Scalar Functions\n",
    "the_func2 = \"\"\"\n",
    "\n",
    "CREATE FUNCTION scalar_func(\n",
    "    @a AS INT, -- parameter a\n",
    "    @b AS INT -- parameter b\n",
    ")\n",
    "RETURNS INT \n",
    "AS\n",
    "BEGIN\n",
    "RETURN @a + @b \n",
    "END;\n",
    "\"\"\"\n",
    "execute_sql(connec, the_func2)\n",
    "\n",
    "view_func2 = pd.read_sql(the_func2, connec)\n",
    "view_func2"
   ]
  },
  {
   "cell_type": "markdown",
   "metadata": {},
   "source": [
    "# 35. What is a collation?\n",
    "Collation is a set of rules that tell database engine how to compare and sort the character data in SQL Server. Collation can be set at different levels in SQL Server. Below are the three levels:\n",
    "\n",
    "- SQL Server level\n",
    "- Database level\n",
    "- Column level"
   ]
  },
  {
   "cell_type": "markdown",
   "metadata": {},
   "source": [
    "# 36. What are the different types of collation sensitivity?\n",
    "- Case sensitivity – A and a, B and b, etc.\n",
    "- Accent sensitivity – a and á, o and ó, etc.\n",
    "- Kana Sensitivity – When Japanese kana characters Hiragana and Katakana are treated differently, it is called Kana sensitive.\n",
    "- Width sensitivity – A single-byte character (half-width) and the same character represented as a double-byte character (full-width) are treated differently than it is width sensitive. "
   ]
  },
  {
   "cell_type": "markdown",
   "metadata": {},
   "source": [
    "# 37. What are the advantages and disadvantages of stored procedure\n",
    "## Stored Procedure Advantages\n",
    "Followings are the advantages of using MySQL Stored Procedures:−\n",
    "\n",
    "1. Increasing the performance of applications − As we know that after creating the stored procedure it is compiled and stored in the database. But MySQL implements stored procedures slightly different which helps in increasing the performance of the applications. MySQL stored procedures are compiled on demand. \n",
    "\n",
    "2. Fast − MySQL Stored procedures are fast because the MySQL server takes some advantage of caching. Another reason for its speed is that it makes the reduction in network traffic. Suppose, if we have a repetitive task that requires checking, looping, multiple statements, and no user interaction, does it with a single call to a procedure that's stored on the server.\n",
    "\n",
    "3. Portable − MySQL Stored procedures are portable because when we write our stored procedure in SQL, we know that it will run on every platform that MySQL runs on, without obliging us to install an additional runtime-environment package or set permissions for program execution in the operating system.\n",
    "\n",
    "4. Reusable and transparent − Stored procedures expose the database interface to all applications so that developers don’t have to develop functions that are already supported in stored procedures. Hence, we can say that MySQL stored procedures are reusable and transparent.\n",
    "\n",
    "5. Secure − MySQL stored procedures are secure because the database administrator can grant appropriate permissions to applications that access stored procedures in the database without giving any permissions on the underlying database tables.\n",
    "\n",
    "## Stored Procedure Disadvantages\n",
    "Followings are the advantages of using MySQL Stored Procedures −\n",
    "\n",
    "1. Memory usage increased − If we use many stored procedures, the memory usage of every connection that is using those stored procedures will increase substantially.\n",
    "\n",
    "2. Restricted for complex business logic − Actually, stored procedure’s constructs are not designed for developing complex and flexible business logic.\n",
    "\n",
    "3. Difficult to debug − It is difficult to debug stored procedures. Only a few database management systems allow you to debug stored procedures. Unfortunately, MySQL does not provide facilities for debugging stored procedures.\n",
    "\n",
    "4. Difficult to maintain − It is not easy to develop and maintain stored procedures. Developing and maintaining stored procedures are often required a specialized skill set that not all application developers possess. This may lead to problems in both application development and maintenance phases.\n"
   ]
  },
  {
   "cell_type": "markdown",
   "metadata": {},
   "source": [
    "# 38. What is online transfer processing (OLTP)?\n",
    "OLTP (online transaction processing) is a class of software programs capable of supporting transaction-oriented applications on the Internet. In computing, a transaction is a sequence of discrete information exchanges that are treated as a unit. Many everyday acts involve OLTP, including online banking, online shopping and even in-store shopping when the point of sale (POS) terminal is tied to inventory management software.\n",
    "\n",
    "Two important characteristics of an OLTP system are \n",
    "- concurrency, and \n",
    "- atomicity."
   ]
  },
  {
   "cell_type": "markdown",
   "metadata": {},
   "source": [
    "# 39. What is a CLAUSE?\n",
    "Clauses are in-built functions available to us in SQL. With the help of clauses, we can deal with data easily stored in the table.\n",
    "\n",
    "Clauses help us filter and analyze data quickly. When we have large amounts of data stored in the database, we use Clauses to query and get data required by the user.\n",
    "\n",
    "Some of the examples of clauses are – where, and, or, like, top, etc."
   ]
  },
  {
   "cell_type": "code",
   "execution_count": 78,
   "metadata": {
    "execution": {
     "iopub.execute_input": "2021-07-18T17:53:29.460452Z",
     "iopub.status.busy": "2021-07-18T17:53:29.459776Z",
     "iopub.status.idle": "2021-07-18T17:53:29.47284Z",
     "shell.execute_reply": "2021-07-18T17:53:29.471911Z",
     "shell.execute_reply.started": "2021-07-18T17:53:29.460407Z"
    }
   },
   "outputs": [
    {
     "data": {
      "text/html": [
       "<div>\n",
       "<style scoped>\n",
       "    .dataframe tbody tr th:only-of-type {\n",
       "        vertical-align: middle;\n",
       "    }\n",
       "\n",
       "    .dataframe tbody tr th {\n",
       "        vertical-align: top;\n",
       "    }\n",
       "\n",
       "    .dataframe thead th {\n",
       "        text-align: right;\n",
       "    }\n",
       "</style>\n",
       "<table border=\"1\" class=\"dataframe\">\n",
       "  <thead>\n",
       "    <tr style=\"text-align: right;\">\n",
       "      <th></th>\n",
       "      <th>product_id</th>\n",
       "      <th>order_qty</th>\n",
       "    </tr>\n",
       "  </thead>\n",
       "  <tbody>\n",
       "    <tr>\n",
       "      <th>0</th>\n",
       "      <td>617</td>\n",
       "      <td>3</td>\n",
       "    </tr>\n",
       "  </tbody>\n",
       "</table>\n",
       "</div>"
      ],
      "text/plain": [
       "   product_id  order_qty\n",
       "0         617          3"
      ]
     },
     "execution_count": 78,
     "metadata": {},
     "output_type": "execute_result"
    }
   ],
   "source": [
    "## WHERE Clause\n",
    "non_clust = \"\"\"\n",
    "SELECT product_id, order_qty\n",
    "FROM orders\n",
    "WHERE product_id = 617;\n",
    "\"\"\"\n",
    "view_nonclus = pd.read_sql(non_clust, connec)\n",
    "view_nonclus"
   ]
  },
  {
   "cell_type": "markdown",
   "metadata": {},
   "source": [
    "# 40. What is recursive stored procedure?\n",
    "Recursion is when a procedure calls itself until a stop condition is reached. However, due to limit on nesting levels, recursion is limited to 32 calls. The classic example of recursion is calculating a factorial of a number. "
   ]
  },
  {
   "cell_type": "markdown",
   "metadata": {},
   "source": [
    "# 41. What is Union, minus and Interact commands?\n",
    "## Union:\n",
    "The UNION operator is used to combining the results of two tables, and it eliminates duplicate rows from the tables.\n",
    "## Minus:\n",
    "The MINUS operator is used to returning rows from the first query but not from the second query. The matching records of the first and second query and other rows from the first query will be displayed as a result set.\n",
    "## Intersect:\n",
    "The INTERSECT operator is used to return rows returned by both the queries."
   ]
  },
  {
   "cell_type": "code",
   "execution_count": 79,
   "metadata": {
    "execution": {
     "iopub.execute_input": "2021-07-18T17:53:34.960707Z",
     "iopub.status.busy": "2021-07-18T17:53:34.960069Z",
     "iopub.status.idle": "2021-07-18T17:53:34.978203Z",
     "shell.execute_reply": "2021-07-18T17:53:34.977049Z",
     "shell.execute_reply.started": "2021-07-18T17:53:34.960652Z"
    }
   },
   "outputs": [
    {
     "name": "stdout",
     "output_type": "stream",
     "text": [
      "Connected to SQLite\n",
      "Python Variables inserted successfully into paintings table\n",
      "The SQLite connection is closed\n"
     ]
    }
   ],
   "source": [
    "insertIntoPaint(6, 'Ascending', 4, 2580000)\n"
   ]
  },
  {
   "cell_type": "code",
   "execution_count": 80,
   "metadata": {
    "execution": {
     "iopub.execute_input": "2021-07-18T17:53:36.510287Z",
     "iopub.status.busy": "2021-07-18T17:53:36.509888Z",
     "iopub.status.idle": "2021-07-18T17:53:36.523287Z",
     "shell.execute_reply": "2021-07-18T17:53:36.522298Z",
     "shell.execute_reply.started": "2021-07-18T17:53:36.510248Z"
    }
   },
   "outputs": [
    {
     "data": {
      "text/html": [
       "<div>\n",
       "<style scoped>\n",
       "    .dataframe tbody tr th:only-of-type {\n",
       "        vertical-align: middle;\n",
       "    }\n",
       "\n",
       "    .dataframe tbody tr th {\n",
       "        vertical-align: top;\n",
       "    }\n",
       "\n",
       "    .dataframe thead th {\n",
       "        text-align: right;\n",
       "    }\n",
       "</style>\n",
       "<table border=\"1\" class=\"dataframe\">\n",
       "  <thead>\n",
       "    <tr style=\"text-align: right;\">\n",
       "      <th></th>\n",
       "      <th>id</th>\n",
       "      <th>gallery_id</th>\n",
       "    </tr>\n",
       "  </thead>\n",
       "  <tbody>\n",
       "    <tr>\n",
       "      <th>0</th>\n",
       "      <td>1</td>\n",
       "      <td>2</td>\n",
       "    </tr>\n",
       "    <tr>\n",
       "      <th>1</th>\n",
       "      <td>1</td>\n",
       "      <td>Nigeria</td>\n",
       "    </tr>\n",
       "    <tr>\n",
       "      <th>2</th>\n",
       "      <td>2</td>\n",
       "      <td>3</td>\n",
       "    </tr>\n",
       "    <tr>\n",
       "      <th>3</th>\n",
       "      <td>2</td>\n",
       "      <td>Kenya</td>\n",
       "    </tr>\n",
       "    <tr>\n",
       "      <th>4</th>\n",
       "      <td>3</td>\n",
       "      <td>Ghana</td>\n",
       "    </tr>\n",
       "    <tr>\n",
       "      <th>5</th>\n",
       "      <td>4</td>\n",
       "      <td>1</td>\n",
       "    </tr>\n",
       "  </tbody>\n",
       "</table>\n",
       "</div>"
      ],
      "text/plain": [
       "   id gallery_id\n",
       "0   1          2\n",
       "1   1    Nigeria\n",
       "2   2          3\n",
       "3   2      Kenya\n",
       "4   3      Ghana\n",
       "5   4          1"
      ]
     },
     "execution_count": 80,
     "metadata": {},
     "output_type": "execute_result"
    }
   ],
   "source": [
    "## Union\n",
    "union_query = \"\"\"\n",
    "SELECT * FROM managers\n",
    "UNION\n",
    "SELECT * FROM galleries;  \n",
    "\n",
    "\"\"\"\n",
    "\n",
    "view_minus = pd.read_sql(union_query, connec)\n",
    "view_minus"
   ]
  },
  {
   "cell_type": "code",
   "execution_count": 81,
   "metadata": {
    "execution": {
     "iopub.execute_input": "2021-07-18T17:53:38.189847Z",
     "iopub.status.busy": "2021-07-18T17:53:38.189442Z",
     "iopub.status.idle": "2021-07-18T17:53:38.214694Z",
     "shell.execute_reply": "2021-07-18T17:53:38.212295Z",
     "shell.execute_reply.started": "2021-07-18T17:53:38.1898Z"
    }
   },
   "outputs": [
    {
     "ename": "DatabaseError",
     "evalue": "Execution failed on sql '\nSELECT * FROM managers\nMINUS\nSELECT * FROM galleries;\n\n': near \"SELECT\": syntax error",
     "output_type": "error",
     "traceback": [
      "\u001b[0;31m---------------------------------------------------------------------------\u001b[0m",
      "\u001b[0;31mOperationalError\u001b[0m                          Traceback (most recent call last)",
      "\u001b[0;32m/opt/anaconda3/lib/python3.8/site-packages/pandas/io/sql.py\u001b[0m in \u001b[0;36mexecute\u001b[0;34m(self, *args, **kwargs)\u001b[0m\n\u001b[1;32m   1724\u001b[0m         \u001b[0;32mtry\u001b[0m\u001b[0;34m:\u001b[0m\u001b[0;34m\u001b[0m\u001b[0;34m\u001b[0m\u001b[0m\n\u001b[0;32m-> 1725\u001b[0;31m             \u001b[0mcur\u001b[0m\u001b[0;34m.\u001b[0m\u001b[0mexecute\u001b[0m\u001b[0;34m(\u001b[0m\u001b[0;34m*\u001b[0m\u001b[0margs\u001b[0m\u001b[0;34m,\u001b[0m \u001b[0;34m**\u001b[0m\u001b[0mkwargs\u001b[0m\u001b[0;34m)\u001b[0m\u001b[0;34m\u001b[0m\u001b[0;34m\u001b[0m\u001b[0m\n\u001b[0m\u001b[1;32m   1726\u001b[0m             \u001b[0;32mreturn\u001b[0m \u001b[0mcur\u001b[0m\u001b[0;34m\u001b[0m\u001b[0;34m\u001b[0m\u001b[0m\n",
      "\u001b[0;31mOperationalError\u001b[0m: near \"SELECT\": syntax error",
      "\nThe above exception was the direct cause of the following exception:\n",
      "\u001b[0;31mDatabaseError\u001b[0m                             Traceback (most recent call last)",
      "\u001b[0;32m<ipython-input-81-d002073ffbee>\u001b[0m in \u001b[0;36m<module>\u001b[0;34m\u001b[0m\n\u001b[1;32m      6\u001b[0m \u001b[0;34m\u001b[0m\u001b[0m\n\u001b[1;32m      7\u001b[0m \"\"\"\n\u001b[0;32m----> 8\u001b[0;31m \u001b[0mview_minus\u001b[0m \u001b[0;34m=\u001b[0m \u001b[0mpd\u001b[0m\u001b[0;34m.\u001b[0m\u001b[0mread_sql\u001b[0m\u001b[0;34m(\u001b[0m\u001b[0mminus_query\u001b[0m\u001b[0;34m,\u001b[0m \u001b[0mconnec\u001b[0m\u001b[0;34m)\u001b[0m\u001b[0;34m\u001b[0m\u001b[0;34m\u001b[0m\u001b[0m\n\u001b[0m\u001b[1;32m      9\u001b[0m \u001b[0mview_minus\u001b[0m\u001b[0;34m\u001b[0m\u001b[0;34m\u001b[0m\u001b[0m\n",
      "\u001b[0;32m/opt/anaconda3/lib/python3.8/site-packages/pandas/io/sql.py\u001b[0m in \u001b[0;36mread_sql\u001b[0;34m(sql, con, index_col, coerce_float, params, parse_dates, columns, chunksize)\u001b[0m\n\u001b[1;32m    493\u001b[0m \u001b[0;34m\u001b[0m\u001b[0m\n\u001b[1;32m    494\u001b[0m     \u001b[0;32mif\u001b[0m \u001b[0misinstance\u001b[0m\u001b[0;34m(\u001b[0m\u001b[0mpandas_sql\u001b[0m\u001b[0;34m,\u001b[0m \u001b[0mSQLiteDatabase\u001b[0m\u001b[0;34m)\u001b[0m\u001b[0;34m:\u001b[0m\u001b[0;34m\u001b[0m\u001b[0;34m\u001b[0m\u001b[0m\n\u001b[0;32m--> 495\u001b[0;31m         return pandas_sql.read_query(\n\u001b[0m\u001b[1;32m    496\u001b[0m             \u001b[0msql\u001b[0m\u001b[0;34m,\u001b[0m\u001b[0;34m\u001b[0m\u001b[0;34m\u001b[0m\u001b[0m\n\u001b[1;32m    497\u001b[0m             \u001b[0mindex_col\u001b[0m\u001b[0;34m=\u001b[0m\u001b[0mindex_col\u001b[0m\u001b[0;34m,\u001b[0m\u001b[0;34m\u001b[0m\u001b[0;34m\u001b[0m\u001b[0m\n",
      "\u001b[0;32m/opt/anaconda3/lib/python3.8/site-packages/pandas/io/sql.py\u001b[0m in \u001b[0;36mread_query\u001b[0;34m(self, sql, index_col, coerce_float, params, parse_dates, chunksize)\u001b[0m\n\u001b[1;32m   1769\u001b[0m \u001b[0;34m\u001b[0m\u001b[0m\n\u001b[1;32m   1770\u001b[0m         \u001b[0margs\u001b[0m \u001b[0;34m=\u001b[0m \u001b[0m_convert_params\u001b[0m\u001b[0;34m(\u001b[0m\u001b[0msql\u001b[0m\u001b[0;34m,\u001b[0m \u001b[0mparams\u001b[0m\u001b[0;34m)\u001b[0m\u001b[0;34m\u001b[0m\u001b[0;34m\u001b[0m\u001b[0m\n\u001b[0;32m-> 1771\u001b[0;31m         \u001b[0mcursor\u001b[0m \u001b[0;34m=\u001b[0m \u001b[0mself\u001b[0m\u001b[0;34m.\u001b[0m\u001b[0mexecute\u001b[0m\u001b[0;34m(\u001b[0m\u001b[0;34m*\u001b[0m\u001b[0margs\u001b[0m\u001b[0;34m)\u001b[0m\u001b[0;34m\u001b[0m\u001b[0;34m\u001b[0m\u001b[0m\n\u001b[0m\u001b[1;32m   1772\u001b[0m         \u001b[0mcolumns\u001b[0m \u001b[0;34m=\u001b[0m \u001b[0;34m[\u001b[0m\u001b[0mcol_desc\u001b[0m\u001b[0;34m[\u001b[0m\u001b[0;36m0\u001b[0m\u001b[0;34m]\u001b[0m \u001b[0;32mfor\u001b[0m \u001b[0mcol_desc\u001b[0m \u001b[0;32min\u001b[0m \u001b[0mcursor\u001b[0m\u001b[0;34m.\u001b[0m\u001b[0mdescription\u001b[0m\u001b[0;34m]\u001b[0m\u001b[0;34m\u001b[0m\u001b[0;34m\u001b[0m\u001b[0m\n\u001b[1;32m   1773\u001b[0m \u001b[0;34m\u001b[0m\u001b[0m\n",
      "\u001b[0;32m/opt/anaconda3/lib/python3.8/site-packages/pandas/io/sql.py\u001b[0m in \u001b[0;36mexecute\u001b[0;34m(self, *args, **kwargs)\u001b[0m\n\u001b[1;32m   1735\u001b[0m \u001b[0;34m\u001b[0m\u001b[0m\n\u001b[1;32m   1736\u001b[0m             \u001b[0mex\u001b[0m \u001b[0;34m=\u001b[0m \u001b[0mDatabaseError\u001b[0m\u001b[0;34m(\u001b[0m\u001b[0;34mf\"Execution failed on sql '{args[0]}': {exc}\"\u001b[0m\u001b[0;34m)\u001b[0m\u001b[0;34m\u001b[0m\u001b[0;34m\u001b[0m\u001b[0m\n\u001b[0;32m-> 1737\u001b[0;31m             \u001b[0;32mraise\u001b[0m \u001b[0mex\u001b[0m \u001b[0;32mfrom\u001b[0m \u001b[0mexc\u001b[0m\u001b[0;34m\u001b[0m\u001b[0;34m\u001b[0m\u001b[0m\n\u001b[0m\u001b[1;32m   1738\u001b[0m \u001b[0;34m\u001b[0m\u001b[0m\n\u001b[1;32m   1739\u001b[0m     \u001b[0;34m@\u001b[0m\u001b[0mstaticmethod\u001b[0m\u001b[0;34m\u001b[0m\u001b[0;34m\u001b[0m\u001b[0m\n",
      "\u001b[0;31mDatabaseError\u001b[0m: Execution failed on sql '\nSELECT * FROM managers\nMINUS\nSELECT * FROM galleries;\n\n': near \"SELECT\": syntax error"
     ]
    }
   ],
   "source": [
    "## Minus\n",
    "minus_query = \"\"\"\n",
    "SELECT * FROM managers\n",
    "MINUS\n",
    "SELECT * FROM galleries;\n",
    "\n",
    "\"\"\"\n",
    "view_minus = pd.read_sql(minus_query, connec)\n",
    "view_minus"
   ]
  },
  {
   "cell_type": "code",
   "execution_count": 82,
   "metadata": {
    "execution": {
     "iopub.execute_input": "2021-07-18T17:53:42.600818Z",
     "iopub.status.busy": "2021-07-18T17:53:42.600409Z",
     "iopub.status.idle": "2021-07-18T17:53:42.615757Z",
     "shell.execute_reply": "2021-07-18T17:53:42.614451Z",
     "shell.execute_reply.started": "2021-07-18T17:53:42.600781Z"
    }
   },
   "outputs": [
    {
     "data": {
      "text/html": [
       "<div>\n",
       "<style scoped>\n",
       "    .dataframe tbody tr th:only-of-type {\n",
       "        vertical-align: middle;\n",
       "    }\n",
       "\n",
       "    .dataframe tbody tr th {\n",
       "        vertical-align: top;\n",
       "    }\n",
       "\n",
       "    .dataframe thead th {\n",
       "        text-align: right;\n",
       "    }\n",
       "</style>\n",
       "<table border=\"1\" class=\"dataframe\">\n",
       "  <thead>\n",
       "    <tr style=\"text-align: right;\">\n",
       "      <th></th>\n",
       "      <th>id</th>\n",
       "      <th>gallery_id</th>\n",
       "    </tr>\n",
       "  </thead>\n",
       "  <tbody>\n",
       "  </tbody>\n",
       "</table>\n",
       "</div>"
      ],
      "text/plain": [
       "Empty DataFrame\n",
       "Columns: [id, gallery_id]\n",
       "Index: []"
      ]
     },
     "execution_count": 82,
     "metadata": {},
     "output_type": "execute_result"
    }
   ],
   "source": [
    "## Intersect\n",
    "intersect_query = \"\"\"\n",
    "SELECT * FROM managers\n",
    "INTERSECT\n",
    "SELECT * FROM galleries;\n",
    "\n",
    "\"\"\"\n",
    "view_intersect = pd.read_sql(intersect_query, connec)\n",
    "view_intersect"
   ]
  },
  {
   "cell_type": "markdown",
   "metadata": {},
   "source": [
    "# 42A. What is an ALIAS Command?\n",
    "SQL aliases are used to give a table, or a column in a table, a temporary name.\n",
    "\n",
    "- Aliases are often used to make column names more readable.\n",
    "- An alias only exists for the duration of that query.\n",
    "- An alias is created with the AS keyword.\n",
    "\n",
    "A typical example is on 21 above"
   ]
  },
  {
   "cell_type": "markdown",
   "metadata": {},
   "source": [
    "# 42B.  ALIAS name can be given to a table or column. This alias name can be referred in WHERE clause to identify the table or column, Show\n"
   ]
  },
  {
   "cell_type": "code",
   "execution_count": 83,
   "metadata": {
    "execution": {
     "iopub.execute_input": "2021-07-18T17:53:47.095263Z",
     "iopub.status.busy": "2021-07-18T17:53:47.094917Z",
     "iopub.status.idle": "2021-07-18T17:53:47.111314Z",
     "shell.execute_reply": "2021-07-18T17:53:47.110267Z",
     "shell.execute_reply.started": "2021-07-18T17:53:47.095234Z"
    }
   },
   "outputs": [
    {
     "data": {
      "text/html": [
       "<div>\n",
       "<style scoped>\n",
       "    .dataframe tbody tr th:only-of-type {\n",
       "        vertical-align: middle;\n",
       "    }\n",
       "\n",
       "    .dataframe tbody tr th {\n",
       "        vertical-align: top;\n",
       "    }\n",
       "\n",
       "    .dataframe thead th {\n",
       "        text-align: right;\n",
       "    }\n",
       "</style>\n",
       "<table border=\"1\" class=\"dataframe\">\n",
       "  <thead>\n",
       "    <tr style=\"text-align: right;\">\n",
       "      <th></th>\n",
       "      <th>painting</th>\n",
       "      <th>price</th>\n",
       "      <th>avg_price</th>\n",
       "    </tr>\n",
       "  </thead>\n",
       "  <tbody>\n",
       "    <tr>\n",
       "      <th>0</th>\n",
       "      <td>Words On Walls</td>\n",
       "      <td>100000</td>\n",
       "      <td>1.796667e+06</td>\n",
       "    </tr>\n",
       "    <tr>\n",
       "      <th>1</th>\n",
       "      <td>Oceans view</td>\n",
       "      <td>5000000</td>\n",
       "      <td>1.796667e+06</td>\n",
       "    </tr>\n",
       "    <tr>\n",
       "      <th>2</th>\n",
       "      <td>Hiding Galaxies</td>\n",
       "      <td>750000</td>\n",
       "      <td>1.796667e+06</td>\n",
       "    </tr>\n",
       "    <tr>\n",
       "      <th>3</th>\n",
       "      <td>Far From the Madding Crowd</td>\n",
       "      <td>2000000</td>\n",
       "      <td>1.796667e+06</td>\n",
       "    </tr>\n",
       "    <tr>\n",
       "      <th>4</th>\n",
       "      <td>Accelerated Waves</td>\n",
       "      <td>350000</td>\n",
       "      <td>1.796667e+06</td>\n",
       "    </tr>\n",
       "    <tr>\n",
       "      <th>5</th>\n",
       "      <td>Ascending</td>\n",
       "      <td>2580000</td>\n",
       "      <td>1.796667e+06</td>\n",
       "    </tr>\n",
       "  </tbody>\n",
       "</table>\n",
       "</div>"
      ],
      "text/plain": [
       "                     painting    price     avg_price\n",
       "0              Words On Walls   100000  1.796667e+06\n",
       "1                 Oceans view  5000000  1.796667e+06\n",
       "2             Hiding Galaxies   750000  1.796667e+06\n",
       "3  Far From the Madding Crowd  2000000  1.796667e+06\n",
       "4           Accelerated Waves   350000  1.796667e+06\n",
       "5                   Ascending  2580000  1.796667e+06"
      ]
     },
     "execution_count": 83,
     "metadata": {},
     "output_type": "execute_result"
    }
   ],
   "source": [
    "scalar_type = \"\"\"\n",
    "SELECT name AS painting,price,\n",
    "(SELECT AVG(price)\n",
    "FROM paintings) \n",
    "AS avg_price\n",
    "FROM paintings;\n",
    "\n",
    "\"\"\"\n",
    "view_scalar = pd.read_sql(scalar_type, connec)\n",
    "view_scalar"
   ]
  },
  {
   "cell_type": "markdown",
   "metadata": {},
   "source": [
    "# 43. What is the difference between TRUNCATE and DROP statements?\n",
    "TRUNCATE removes all the rows from the table, and it cannot be rolled back. \n",
    "DROP command removes a table from the database and operation cannot be rolled back."
   ]
  },
  {
   "cell_type": "code",
   "execution_count": 84,
   "metadata": {
    "execution": {
     "iopub.execute_input": "2021-07-18T18:05:19.896242Z",
     "iopub.status.busy": "2021-07-18T18:05:19.895834Z",
     "iopub.status.idle": "2021-07-18T18:05:19.920556Z",
     "shell.execute_reply": "2021-07-18T18:05:19.918494Z",
     "shell.execute_reply.started": "2021-07-18T18:05:19.89621Z"
    }
   },
   "outputs": [
    {
     "name": "stdout",
     "output_type": "stream",
     "text": [
      "The error 'near \"Fellows\": syntax error' occurred\n"
     ]
    },
    {
     "ename": "DatabaseError",
     "evalue": "Execution failed on sql '\nDROP Fellows;\n\n': near \"Fellows\": syntax error",
     "output_type": "error",
     "traceback": [
      "\u001b[0;31m---------------------------------------------------------------------------\u001b[0m",
      "\u001b[0;31mOperationalError\u001b[0m                          Traceback (most recent call last)",
      "\u001b[0;32m/opt/anaconda3/lib/python3.8/site-packages/pandas/io/sql.py\u001b[0m in \u001b[0;36mexecute\u001b[0;34m(self, *args, **kwargs)\u001b[0m\n\u001b[1;32m   1724\u001b[0m         \u001b[0;32mtry\u001b[0m\u001b[0;34m:\u001b[0m\u001b[0;34m\u001b[0m\u001b[0;34m\u001b[0m\u001b[0m\n\u001b[0;32m-> 1725\u001b[0;31m             \u001b[0mcur\u001b[0m\u001b[0;34m.\u001b[0m\u001b[0mexecute\u001b[0m\u001b[0;34m(\u001b[0m\u001b[0;34m*\u001b[0m\u001b[0margs\u001b[0m\u001b[0;34m,\u001b[0m \u001b[0;34m**\u001b[0m\u001b[0mkwargs\u001b[0m\u001b[0;34m)\u001b[0m\u001b[0;34m\u001b[0m\u001b[0;34m\u001b[0m\u001b[0m\n\u001b[0m\u001b[1;32m   1726\u001b[0m             \u001b[0;32mreturn\u001b[0m \u001b[0mcur\u001b[0m\u001b[0;34m\u001b[0m\u001b[0;34m\u001b[0m\u001b[0m\n",
      "\u001b[0;31mOperationalError\u001b[0m: near \"Fellows\": syntax error",
      "\nThe above exception was the direct cause of the following exception:\n",
      "\u001b[0;31mDatabaseError\u001b[0m                             Traceback (most recent call last)",
      "\u001b[0;32m<ipython-input-84-64d495117ab3>\u001b[0m in \u001b[0;36m<module>\u001b[0;34m\u001b[0m\n\u001b[1;32m      5\u001b[0m \u001b[0mexecute_sql\u001b[0m\u001b[0;34m(\u001b[0m\u001b[0mconn\u001b[0m\u001b[0;34m,\u001b[0m \u001b[0mdrop_table\u001b[0m\u001b[0;34m)\u001b[0m\u001b[0;34m\u001b[0m\u001b[0;34m\u001b[0m\u001b[0m\n\u001b[1;32m      6\u001b[0m \u001b[0;34m\u001b[0m\u001b[0m\n\u001b[0;32m----> 7\u001b[0;31m \u001b[0mconfirm\u001b[0m \u001b[0;34m=\u001b[0m \u001b[0mpd\u001b[0m\u001b[0;34m.\u001b[0m\u001b[0mread_sql\u001b[0m\u001b[0;34m(\u001b[0m\u001b[0mdrop_table\u001b[0m\u001b[0;34m,\u001b[0m \u001b[0mconn\u001b[0m\u001b[0;34m)\u001b[0m\u001b[0;34m\u001b[0m\u001b[0;34m\u001b[0m\u001b[0m\n\u001b[0m\u001b[1;32m      8\u001b[0m \u001b[0mconfirm\u001b[0m\u001b[0;34m\u001b[0m\u001b[0;34m\u001b[0m\u001b[0m\n",
      "\u001b[0;32m/opt/anaconda3/lib/python3.8/site-packages/pandas/io/sql.py\u001b[0m in \u001b[0;36mread_sql\u001b[0;34m(sql, con, index_col, coerce_float, params, parse_dates, columns, chunksize)\u001b[0m\n\u001b[1;32m    493\u001b[0m \u001b[0;34m\u001b[0m\u001b[0m\n\u001b[1;32m    494\u001b[0m     \u001b[0;32mif\u001b[0m \u001b[0misinstance\u001b[0m\u001b[0;34m(\u001b[0m\u001b[0mpandas_sql\u001b[0m\u001b[0;34m,\u001b[0m \u001b[0mSQLiteDatabase\u001b[0m\u001b[0;34m)\u001b[0m\u001b[0;34m:\u001b[0m\u001b[0;34m\u001b[0m\u001b[0;34m\u001b[0m\u001b[0m\n\u001b[0;32m--> 495\u001b[0;31m         return pandas_sql.read_query(\n\u001b[0m\u001b[1;32m    496\u001b[0m             \u001b[0msql\u001b[0m\u001b[0;34m,\u001b[0m\u001b[0;34m\u001b[0m\u001b[0;34m\u001b[0m\u001b[0m\n\u001b[1;32m    497\u001b[0m             \u001b[0mindex_col\u001b[0m\u001b[0;34m=\u001b[0m\u001b[0mindex_col\u001b[0m\u001b[0;34m,\u001b[0m\u001b[0;34m\u001b[0m\u001b[0;34m\u001b[0m\u001b[0m\n",
      "\u001b[0;32m/opt/anaconda3/lib/python3.8/site-packages/pandas/io/sql.py\u001b[0m in \u001b[0;36mread_query\u001b[0;34m(self, sql, index_col, coerce_float, params, parse_dates, chunksize)\u001b[0m\n\u001b[1;32m   1769\u001b[0m \u001b[0;34m\u001b[0m\u001b[0m\n\u001b[1;32m   1770\u001b[0m         \u001b[0margs\u001b[0m \u001b[0;34m=\u001b[0m \u001b[0m_convert_params\u001b[0m\u001b[0;34m(\u001b[0m\u001b[0msql\u001b[0m\u001b[0;34m,\u001b[0m \u001b[0mparams\u001b[0m\u001b[0;34m)\u001b[0m\u001b[0;34m\u001b[0m\u001b[0;34m\u001b[0m\u001b[0m\n\u001b[0;32m-> 1771\u001b[0;31m         \u001b[0mcursor\u001b[0m \u001b[0;34m=\u001b[0m \u001b[0mself\u001b[0m\u001b[0;34m.\u001b[0m\u001b[0mexecute\u001b[0m\u001b[0;34m(\u001b[0m\u001b[0;34m*\u001b[0m\u001b[0margs\u001b[0m\u001b[0;34m)\u001b[0m\u001b[0;34m\u001b[0m\u001b[0;34m\u001b[0m\u001b[0m\n\u001b[0m\u001b[1;32m   1772\u001b[0m         \u001b[0mcolumns\u001b[0m \u001b[0;34m=\u001b[0m \u001b[0;34m[\u001b[0m\u001b[0mcol_desc\u001b[0m\u001b[0;34m[\u001b[0m\u001b[0;36m0\u001b[0m\u001b[0;34m]\u001b[0m \u001b[0;32mfor\u001b[0m \u001b[0mcol_desc\u001b[0m \u001b[0;32min\u001b[0m \u001b[0mcursor\u001b[0m\u001b[0;34m.\u001b[0m\u001b[0mdescription\u001b[0m\u001b[0;34m]\u001b[0m\u001b[0;34m\u001b[0m\u001b[0;34m\u001b[0m\u001b[0m\n\u001b[1;32m   1773\u001b[0m \u001b[0;34m\u001b[0m\u001b[0m\n",
      "\u001b[0;32m/opt/anaconda3/lib/python3.8/site-packages/pandas/io/sql.py\u001b[0m in \u001b[0;36mexecute\u001b[0;34m(self, *args, **kwargs)\u001b[0m\n\u001b[1;32m   1735\u001b[0m \u001b[0;34m\u001b[0m\u001b[0m\n\u001b[1;32m   1736\u001b[0m             \u001b[0mex\u001b[0m \u001b[0;34m=\u001b[0m \u001b[0mDatabaseError\u001b[0m\u001b[0;34m(\u001b[0m\u001b[0;34mf\"Execution failed on sql '{args[0]}': {exc}\"\u001b[0m\u001b[0;34m)\u001b[0m\u001b[0;34m\u001b[0m\u001b[0;34m\u001b[0m\u001b[0m\n\u001b[0;32m-> 1737\u001b[0;31m             \u001b[0;32mraise\u001b[0m \u001b[0mex\u001b[0m \u001b[0;32mfrom\u001b[0m \u001b[0mexc\u001b[0m\u001b[0;34m\u001b[0m\u001b[0;34m\u001b[0m\u001b[0m\n\u001b[0m\u001b[1;32m   1738\u001b[0m \u001b[0;34m\u001b[0m\u001b[0m\n\u001b[1;32m   1739\u001b[0m     \u001b[0;34m@\u001b[0m\u001b[0mstaticmethod\u001b[0m\u001b[0;34m\u001b[0m\u001b[0;34m\u001b[0m\u001b[0m\n",
      "\u001b[0;31mDatabaseError\u001b[0m: Execution failed on sql '\nDROP Fellows;\n\n': near \"Fellows\": syntax error"
     ]
    }
   ],
   "source": [
    "drop_table = \"\"\"\n",
    "DROP Fellows;\n",
    "\n",
    "\"\"\"\n",
    "execute_sql(conn, drop_table)\n",
    "\n",
    "confirm = pd.read_sql(drop_table, conn)\n",
    "confirm"
   ]
  },
  {
   "cell_type": "markdown",
   "metadata": {},
   "source": [
    "# 44. What are aggregate and scalar functions?\n",
    "## Aggregate functions:\n",
    "These functions are used to do operations from the values of the column and a single value is returned.\n",
    "- AVG()\n",
    "- COUNT()\n",
    "- FIRST()\n",
    "- LAST()\n",
    "- MAX()\n",
    "- MIN()\n",
    "- SUM()\n",
    "## Scalar functions:\n",
    "These functions are based on user input, these too returns single value.\n",
    "- UCASE()\n",
    "- LCASE()\n",
    "- MID()\n",
    "- LEN()\n",
    "- ROUND()\n",
    "- NOW()\n",
    "- FORMAT()"
   ]
  },
  {
   "cell_type": "markdown",
   "metadata": {},
   "source": [
    "# 45. How can you create an empty table from an existing table?"
   ]
  },
  {
   "cell_type": "code",
   "execution_count": 85,
   "metadata": {
    "execution": {
     "iopub.execute_input": "2021-07-18T17:54:17.806509Z",
     "iopub.status.busy": "2021-07-18T17:54:17.806113Z",
     "iopub.status.idle": "2021-07-18T17:54:17.812184Z",
     "shell.execute_reply": "2021-07-18T17:54:17.810989Z",
     "shell.execute_reply.started": "2021-07-18T17:54:17.806474Z"
    }
   },
   "outputs": [
    {
     "name": "stdout",
     "output_type": "stream",
     "text": [
      "The error 'near \"(\": syntax error' occurred\n"
     ]
    }
   ],
   "source": [
    "newtable = \"\"\"\n",
    "CREATE TABLE factsb AS\n",
    "(SELECT * FROM facts WHERE (id > 100));\n",
    "\n",
    "\"\"\"\n",
    "execute_sql(connection, newtable)"
   ]
  },
  {
   "cell_type": "code",
   "execution_count": 86,
   "metadata": {
    "execution": {
     "iopub.execute_input": "2021-07-18T17:54:19.414699Z",
     "iopub.status.busy": "2021-07-18T17:54:19.414357Z",
     "iopub.status.idle": "2021-07-18T17:54:19.434547Z",
     "shell.execute_reply": "2021-07-18T17:54:19.432951Z",
     "shell.execute_reply.started": "2021-07-18T17:54:19.414668Z"
    }
   },
   "outputs": [
    {
     "ename": "DatabaseError",
     "evalue": "Execution failed on sql '\nCREATE TABLE factsb AS\n(SELECT * FROM facts WHERE (id > 100));\n\n': near \"(\": syntax error",
     "output_type": "error",
     "traceback": [
      "\u001b[0;31m---------------------------------------------------------------------------\u001b[0m",
      "\u001b[0;31mOperationalError\u001b[0m                          Traceback (most recent call last)",
      "\u001b[0;32m/opt/anaconda3/lib/python3.8/site-packages/pandas/io/sql.py\u001b[0m in \u001b[0;36mexecute\u001b[0;34m(self, *args, **kwargs)\u001b[0m\n\u001b[1;32m   1724\u001b[0m         \u001b[0;32mtry\u001b[0m\u001b[0;34m:\u001b[0m\u001b[0;34m\u001b[0m\u001b[0;34m\u001b[0m\u001b[0m\n\u001b[0;32m-> 1725\u001b[0;31m             \u001b[0mcur\u001b[0m\u001b[0;34m.\u001b[0m\u001b[0mexecute\u001b[0m\u001b[0;34m(\u001b[0m\u001b[0;34m*\u001b[0m\u001b[0margs\u001b[0m\u001b[0;34m,\u001b[0m \u001b[0;34m**\u001b[0m\u001b[0mkwargs\u001b[0m\u001b[0;34m)\u001b[0m\u001b[0;34m\u001b[0m\u001b[0;34m\u001b[0m\u001b[0m\n\u001b[0m\u001b[1;32m   1726\u001b[0m             \u001b[0;32mreturn\u001b[0m \u001b[0mcur\u001b[0m\u001b[0;34m\u001b[0m\u001b[0;34m\u001b[0m\u001b[0m\n",
      "\u001b[0;31mOperationalError\u001b[0m: near \"(\": syntax error",
      "\nThe above exception was the direct cause of the following exception:\n",
      "\u001b[0;31mDatabaseError\u001b[0m                             Traceback (most recent call last)",
      "\u001b[0;32m<ipython-input-86-2b1f2898cfc1>\u001b[0m in \u001b[0;36m<module>\u001b[0;34m\u001b[0m\n\u001b[0;32m----> 1\u001b[0;31m \u001b[0manswer\u001b[0m \u001b[0;34m=\u001b[0m \u001b[0mpd\u001b[0m\u001b[0;34m.\u001b[0m\u001b[0mread_sql\u001b[0m\u001b[0;34m(\u001b[0m\u001b[0mnewtable\u001b[0m\u001b[0;34m,\u001b[0m \u001b[0mconnection\u001b[0m\u001b[0;34m)\u001b[0m\u001b[0;34m\u001b[0m\u001b[0;34m\u001b[0m\u001b[0m\n\u001b[0m\u001b[1;32m      2\u001b[0m \u001b[0manswer\u001b[0m\u001b[0;34m\u001b[0m\u001b[0;34m\u001b[0m\u001b[0m\n",
      "\u001b[0;32m/opt/anaconda3/lib/python3.8/site-packages/pandas/io/sql.py\u001b[0m in \u001b[0;36mread_sql\u001b[0;34m(sql, con, index_col, coerce_float, params, parse_dates, columns, chunksize)\u001b[0m\n\u001b[1;32m    493\u001b[0m \u001b[0;34m\u001b[0m\u001b[0m\n\u001b[1;32m    494\u001b[0m     \u001b[0;32mif\u001b[0m \u001b[0misinstance\u001b[0m\u001b[0;34m(\u001b[0m\u001b[0mpandas_sql\u001b[0m\u001b[0;34m,\u001b[0m \u001b[0mSQLiteDatabase\u001b[0m\u001b[0;34m)\u001b[0m\u001b[0;34m:\u001b[0m\u001b[0;34m\u001b[0m\u001b[0;34m\u001b[0m\u001b[0m\n\u001b[0;32m--> 495\u001b[0;31m         return pandas_sql.read_query(\n\u001b[0m\u001b[1;32m    496\u001b[0m             \u001b[0msql\u001b[0m\u001b[0;34m,\u001b[0m\u001b[0;34m\u001b[0m\u001b[0;34m\u001b[0m\u001b[0m\n\u001b[1;32m    497\u001b[0m             \u001b[0mindex_col\u001b[0m\u001b[0;34m=\u001b[0m\u001b[0mindex_col\u001b[0m\u001b[0;34m,\u001b[0m\u001b[0;34m\u001b[0m\u001b[0;34m\u001b[0m\u001b[0m\n",
      "\u001b[0;32m/opt/anaconda3/lib/python3.8/site-packages/pandas/io/sql.py\u001b[0m in \u001b[0;36mread_query\u001b[0;34m(self, sql, index_col, coerce_float, params, parse_dates, chunksize)\u001b[0m\n\u001b[1;32m   1769\u001b[0m \u001b[0;34m\u001b[0m\u001b[0m\n\u001b[1;32m   1770\u001b[0m         \u001b[0margs\u001b[0m \u001b[0;34m=\u001b[0m \u001b[0m_convert_params\u001b[0m\u001b[0;34m(\u001b[0m\u001b[0msql\u001b[0m\u001b[0;34m,\u001b[0m \u001b[0mparams\u001b[0m\u001b[0;34m)\u001b[0m\u001b[0;34m\u001b[0m\u001b[0;34m\u001b[0m\u001b[0m\n\u001b[0;32m-> 1771\u001b[0;31m         \u001b[0mcursor\u001b[0m \u001b[0;34m=\u001b[0m \u001b[0mself\u001b[0m\u001b[0;34m.\u001b[0m\u001b[0mexecute\u001b[0m\u001b[0;34m(\u001b[0m\u001b[0;34m*\u001b[0m\u001b[0margs\u001b[0m\u001b[0;34m)\u001b[0m\u001b[0;34m\u001b[0m\u001b[0;34m\u001b[0m\u001b[0m\n\u001b[0m\u001b[1;32m   1772\u001b[0m         \u001b[0mcolumns\u001b[0m \u001b[0;34m=\u001b[0m \u001b[0;34m[\u001b[0m\u001b[0mcol_desc\u001b[0m\u001b[0;34m[\u001b[0m\u001b[0;36m0\u001b[0m\u001b[0;34m]\u001b[0m \u001b[0;32mfor\u001b[0m \u001b[0mcol_desc\u001b[0m \u001b[0;32min\u001b[0m \u001b[0mcursor\u001b[0m\u001b[0;34m.\u001b[0m\u001b[0mdescription\u001b[0m\u001b[0;34m]\u001b[0m\u001b[0;34m\u001b[0m\u001b[0;34m\u001b[0m\u001b[0m\n\u001b[1;32m   1773\u001b[0m \u001b[0;34m\u001b[0m\u001b[0m\n",
      "\u001b[0;32m/opt/anaconda3/lib/python3.8/site-packages/pandas/io/sql.py\u001b[0m in \u001b[0;36mexecute\u001b[0;34m(self, *args, **kwargs)\u001b[0m\n\u001b[1;32m   1735\u001b[0m \u001b[0;34m\u001b[0m\u001b[0m\n\u001b[1;32m   1736\u001b[0m             \u001b[0mex\u001b[0m \u001b[0;34m=\u001b[0m \u001b[0mDatabaseError\u001b[0m\u001b[0;34m(\u001b[0m\u001b[0;34mf\"Execution failed on sql '{args[0]}': {exc}\"\u001b[0m\u001b[0;34m)\u001b[0m\u001b[0;34m\u001b[0m\u001b[0;34m\u001b[0m\u001b[0m\n\u001b[0;32m-> 1737\u001b[0;31m             \u001b[0;32mraise\u001b[0m \u001b[0mex\u001b[0m \u001b[0;32mfrom\u001b[0m \u001b[0mexc\u001b[0m\u001b[0;34m\u001b[0m\u001b[0;34m\u001b[0m\u001b[0m\n\u001b[0m\u001b[1;32m   1738\u001b[0m \u001b[0;34m\u001b[0m\u001b[0m\n\u001b[1;32m   1739\u001b[0m     \u001b[0;34m@\u001b[0m\u001b[0mstaticmethod\u001b[0m\u001b[0;34m\u001b[0m\u001b[0;34m\u001b[0m\u001b[0m\n",
      "\u001b[0;31mDatabaseError\u001b[0m: Execution failed on sql '\nCREATE TABLE factsb AS\n(SELECT * FROM facts WHERE (id > 100));\n\n': near \"(\": syntax error"
     ]
    }
   ],
   "source": [
    "answer = pd.read_sql(newtable, connection)\n",
    "answer"
   ]
  },
  {
   "cell_type": "markdown",
   "metadata": {},
   "source": [
    "# 46. How to fetch common records from two tables?"
   ]
  },
  {
   "cell_type": "code",
   "execution_count": 87,
   "metadata": {
    "execution": {
     "iopub.execute_input": "2021-07-18T17:54:55.430042Z",
     "iopub.status.busy": "2021-07-18T17:54:55.429472Z",
     "iopub.status.idle": "2021-07-18T17:54:55.435832Z",
     "shell.execute_reply": "2021-07-18T17:54:55.434574Z",
     "shell.execute_reply.started": "2021-07-18T17:54:55.430006Z"
    }
   },
   "outputs": [
    {
     "name": "stdout",
     "output_type": "stream",
     "text": [
      "SQL Executed Successfully\n"
     ]
    }
   ],
   "source": [
    "no_46 = \"\"\"\n",
    "Select id from studentrack \n",
    "INTERSECT Select id from track\n",
    "\"\"\"\n",
    "execute_sql(conn, no_46)"
   ]
  },
  {
   "cell_type": "code",
   "execution_count": 88,
   "metadata": {
    "execution": {
     "iopub.execute_input": "2021-07-18T17:54:56.659643Z",
     "iopub.status.busy": "2021-07-18T17:54:56.659148Z",
     "iopub.status.idle": "2021-07-18T17:54:56.699885Z",
     "shell.execute_reply": "2021-07-18T17:54:56.698035Z",
     "shell.execute_reply.started": "2021-07-18T17:54:56.659609Z"
    }
   },
   "outputs": [
    {
     "ename": "ArgumentError",
     "evalue": "Could not parse rfc1738 URL from string '\nSelect id from studentrack \nINTERSECT Select id from track\n'",
     "output_type": "error",
     "traceback": [
      "\u001b[0;31m---------------------------------------------------------------------------\u001b[0m",
      "\u001b[0;31mArgumentError\u001b[0m                             Traceback (most recent call last)",
      "\u001b[0;32m<ipython-input-88-a1d0275091cb>\u001b[0m in \u001b[0;36m<module>\u001b[0;34m\u001b[0m\n\u001b[0;32m----> 1\u001b[0;31m \u001b[0mout_46\u001b[0m \u001b[0;34m=\u001b[0m \u001b[0mpd\u001b[0m\u001b[0;34m.\u001b[0m\u001b[0mread_sql\u001b[0m\u001b[0;34m(\u001b[0m\u001b[0mconn\u001b[0m\u001b[0;34m,\u001b[0m \u001b[0mno_46\u001b[0m\u001b[0;34m)\u001b[0m\u001b[0;34m\u001b[0m\u001b[0;34m\u001b[0m\u001b[0m\n\u001b[0m\u001b[1;32m      2\u001b[0m \u001b[0mout_46\u001b[0m\u001b[0;34m\u001b[0m\u001b[0;34m\u001b[0m\u001b[0m\n",
      "\u001b[0;32m/opt/anaconda3/lib/python3.8/site-packages/pandas/io/sql.py\u001b[0m in \u001b[0;36mread_sql\u001b[0;34m(sql, con, index_col, coerce_float, params, parse_dates, columns, chunksize)\u001b[0m\n\u001b[1;32m    490\u001b[0m     \u001b[0mread_sql_query\u001b[0m \u001b[0;34m:\u001b[0m \u001b[0mRead\u001b[0m \u001b[0mSQL\u001b[0m \u001b[0mquery\u001b[0m \u001b[0minto\u001b[0m \u001b[0ma\u001b[0m \u001b[0mDataFrame\u001b[0m\u001b[0;34m.\u001b[0m\u001b[0;34m\u001b[0m\u001b[0;34m\u001b[0m\u001b[0m\n\u001b[1;32m    491\u001b[0m     \"\"\"\n\u001b[0;32m--> 492\u001b[0;31m     \u001b[0mpandas_sql\u001b[0m \u001b[0;34m=\u001b[0m \u001b[0mpandasSQL_builder\u001b[0m\u001b[0;34m(\u001b[0m\u001b[0mcon\u001b[0m\u001b[0;34m)\u001b[0m\u001b[0;34m\u001b[0m\u001b[0;34m\u001b[0m\u001b[0m\n\u001b[0m\u001b[1;32m    493\u001b[0m \u001b[0;34m\u001b[0m\u001b[0m\n\u001b[1;32m    494\u001b[0m     \u001b[0;32mif\u001b[0m \u001b[0misinstance\u001b[0m\u001b[0;34m(\u001b[0m\u001b[0mpandas_sql\u001b[0m\u001b[0;34m,\u001b[0m \u001b[0mSQLiteDatabase\u001b[0m\u001b[0;34m)\u001b[0m\u001b[0;34m:\u001b[0m\u001b[0;34m\u001b[0m\u001b[0;34m\u001b[0m\u001b[0m\n",
      "\u001b[0;32m/opt/anaconda3/lib/python3.8/site-packages/pandas/io/sql.py\u001b[0m in \u001b[0;36mpandasSQL_builder\u001b[0;34m(con, schema, meta, is_cursor)\u001b[0m\n\u001b[1;32m    664\u001b[0m     \u001b[0;31m# When support for DBAPI connections is removed,\u001b[0m\u001b[0;34m\u001b[0m\u001b[0;34m\u001b[0m\u001b[0;34m\u001b[0m\u001b[0m\n\u001b[1;32m    665\u001b[0m     \u001b[0;31m# is_cursor should not be necessary.\u001b[0m\u001b[0;34m\u001b[0m\u001b[0;34m\u001b[0m\u001b[0;34m\u001b[0m\u001b[0m\n\u001b[0;32m--> 666\u001b[0;31m     \u001b[0mcon\u001b[0m \u001b[0;34m=\u001b[0m \u001b[0m_engine_builder\u001b[0m\u001b[0;34m(\u001b[0m\u001b[0mcon\u001b[0m\u001b[0;34m)\u001b[0m\u001b[0;34m\u001b[0m\u001b[0;34m\u001b[0m\u001b[0m\n\u001b[0m\u001b[1;32m    667\u001b[0m     \u001b[0;32mif\u001b[0m \u001b[0m_is_sqlalchemy_connectable\u001b[0m\u001b[0;34m(\u001b[0m\u001b[0mcon\u001b[0m\u001b[0;34m)\u001b[0m\u001b[0;34m:\u001b[0m\u001b[0;34m\u001b[0m\u001b[0;34m\u001b[0m\u001b[0m\n\u001b[1;32m    668\u001b[0m         \u001b[0;32mreturn\u001b[0m \u001b[0mSQLDatabase\u001b[0m\u001b[0;34m(\u001b[0m\u001b[0mcon\u001b[0m\u001b[0;34m,\u001b[0m \u001b[0mschema\u001b[0m\u001b[0;34m=\u001b[0m\u001b[0mschema\u001b[0m\u001b[0;34m,\u001b[0m \u001b[0mmeta\u001b[0m\u001b[0;34m=\u001b[0m\u001b[0mmeta\u001b[0m\u001b[0;34m)\u001b[0m\u001b[0;34m\u001b[0m\u001b[0;34m\u001b[0m\u001b[0m\n",
      "\u001b[0;32m/opt/anaconda3/lib/python3.8/site-packages/pandas/io/sql.py\u001b[0m in \u001b[0;36m_engine_builder\u001b[0;34m(con)\u001b[0m\n\u001b[1;32m    651\u001b[0m             \u001b[0m_SQLALCHEMY_INSTALLED\u001b[0m \u001b[0;34m=\u001b[0m \u001b[0;32mFalse\u001b[0m\u001b[0;34m\u001b[0m\u001b[0;34m\u001b[0m\u001b[0m\n\u001b[1;32m    652\u001b[0m         \u001b[0;32melse\u001b[0m\u001b[0;34m:\u001b[0m\u001b[0;34m\u001b[0m\u001b[0;34m\u001b[0m\u001b[0m\n\u001b[0;32m--> 653\u001b[0;31m             \u001b[0mcon\u001b[0m \u001b[0;34m=\u001b[0m \u001b[0msqlalchemy\u001b[0m\u001b[0;34m.\u001b[0m\u001b[0mcreate_engine\u001b[0m\u001b[0;34m(\u001b[0m\u001b[0mcon\u001b[0m\u001b[0;34m)\u001b[0m\u001b[0;34m\u001b[0m\u001b[0;34m\u001b[0m\u001b[0m\n\u001b[0m\u001b[1;32m    654\u001b[0m             \u001b[0;32mreturn\u001b[0m \u001b[0mcon\u001b[0m\u001b[0;34m\u001b[0m\u001b[0;34m\u001b[0m\u001b[0m\n\u001b[1;32m    655\u001b[0m \u001b[0;34m\u001b[0m\u001b[0m\n",
      "\u001b[0;32m<string>\u001b[0m in \u001b[0;36mcreate_engine\u001b[0;34m(url, **kwargs)\u001b[0m\n",
      "\u001b[0;32m/opt/anaconda3/lib/python3.8/site-packages/sqlalchemy/util/deprecations.py\u001b[0m in \u001b[0;36mwarned\u001b[0;34m(fn, *args, **kwargs)\u001b[0m\n\u001b[1;32m    296\u001b[0m                         \u001b[0mstacklevel\u001b[0m\u001b[0;34m=\u001b[0m\u001b[0;36m3\u001b[0m\u001b[0;34m,\u001b[0m\u001b[0;34m\u001b[0m\u001b[0;34m\u001b[0m\u001b[0m\n\u001b[1;32m    297\u001b[0m                     )\n\u001b[0;32m--> 298\u001b[0;31m             \u001b[0;32mreturn\u001b[0m \u001b[0mfn\u001b[0m\u001b[0;34m(\u001b[0m\u001b[0;34m*\u001b[0m\u001b[0margs\u001b[0m\u001b[0;34m,\u001b[0m \u001b[0;34m**\u001b[0m\u001b[0mkwargs\u001b[0m\u001b[0;34m)\u001b[0m\u001b[0;34m\u001b[0m\u001b[0;34m\u001b[0m\u001b[0m\n\u001b[0m\u001b[1;32m    299\u001b[0m \u001b[0;34m\u001b[0m\u001b[0m\n\u001b[1;32m    300\u001b[0m         \u001b[0mdoc\u001b[0m \u001b[0;34m=\u001b[0m \u001b[0mfn\u001b[0m\u001b[0;34m.\u001b[0m\u001b[0m__doc__\u001b[0m \u001b[0;32mis\u001b[0m \u001b[0;32mnot\u001b[0m \u001b[0;32mNone\u001b[0m \u001b[0;32mand\u001b[0m \u001b[0mfn\u001b[0m\u001b[0;34m.\u001b[0m\u001b[0m__doc__\u001b[0m \u001b[0;32mor\u001b[0m \u001b[0;34m\"\"\u001b[0m\u001b[0;34m\u001b[0m\u001b[0;34m\u001b[0m\u001b[0m\n",
      "\u001b[0;32m/opt/anaconda3/lib/python3.8/site-packages/sqlalchemy/engine/create.py\u001b[0m in \u001b[0;36mcreate_engine\u001b[0;34m(url, **kwargs)\u001b[0m\n\u001b[1;32m    516\u001b[0m \u001b[0;34m\u001b[0m\u001b[0m\n\u001b[1;32m    517\u001b[0m     \u001b[0;31m# create url.URL object\u001b[0m\u001b[0;34m\u001b[0m\u001b[0;34m\u001b[0m\u001b[0;34m\u001b[0m\u001b[0m\n\u001b[0;32m--> 518\u001b[0;31m     \u001b[0mu\u001b[0m \u001b[0;34m=\u001b[0m \u001b[0m_url\u001b[0m\u001b[0;34m.\u001b[0m\u001b[0mmake_url\u001b[0m\u001b[0;34m(\u001b[0m\u001b[0murl\u001b[0m\u001b[0;34m)\u001b[0m\u001b[0;34m\u001b[0m\u001b[0;34m\u001b[0m\u001b[0m\n\u001b[0m\u001b[1;32m    519\u001b[0m \u001b[0;34m\u001b[0m\u001b[0m\n\u001b[1;32m    520\u001b[0m     \u001b[0mu\u001b[0m\u001b[0;34m,\u001b[0m \u001b[0mplugins\u001b[0m\u001b[0;34m,\u001b[0m \u001b[0mkwargs\u001b[0m \u001b[0;34m=\u001b[0m \u001b[0mu\u001b[0m\u001b[0;34m.\u001b[0m\u001b[0m_instantiate_plugins\u001b[0m\u001b[0;34m(\u001b[0m\u001b[0mkwargs\u001b[0m\u001b[0;34m)\u001b[0m\u001b[0;34m\u001b[0m\u001b[0;34m\u001b[0m\u001b[0m\n",
      "\u001b[0;32m/opt/anaconda3/lib/python3.8/site-packages/sqlalchemy/engine/url.py\u001b[0m in \u001b[0;36mmake_url\u001b[0;34m(name_or_url)\u001b[0m\n\u001b[1;32m    709\u001b[0m \u001b[0;34m\u001b[0m\u001b[0m\n\u001b[1;32m    710\u001b[0m     \u001b[0;32mif\u001b[0m \u001b[0misinstance\u001b[0m\u001b[0;34m(\u001b[0m\u001b[0mname_or_url\u001b[0m\u001b[0;34m,\u001b[0m \u001b[0mutil\u001b[0m\u001b[0;34m.\u001b[0m\u001b[0mstring_types\u001b[0m\u001b[0;34m)\u001b[0m\u001b[0;34m:\u001b[0m\u001b[0;34m\u001b[0m\u001b[0;34m\u001b[0m\u001b[0m\n\u001b[0;32m--> 711\u001b[0;31m         \u001b[0;32mreturn\u001b[0m \u001b[0m_parse_rfc1738_args\u001b[0m\u001b[0;34m(\u001b[0m\u001b[0mname_or_url\u001b[0m\u001b[0;34m)\u001b[0m\u001b[0;34m\u001b[0m\u001b[0;34m\u001b[0m\u001b[0m\n\u001b[0m\u001b[1;32m    712\u001b[0m     \u001b[0;32melse\u001b[0m\u001b[0;34m:\u001b[0m\u001b[0;34m\u001b[0m\u001b[0;34m\u001b[0m\u001b[0m\n\u001b[1;32m    713\u001b[0m         \u001b[0;32mreturn\u001b[0m \u001b[0mname_or_url\u001b[0m\u001b[0;34m\u001b[0m\u001b[0;34m\u001b[0m\u001b[0m\n",
      "\u001b[0;32m/opt/anaconda3/lib/python3.8/site-packages/sqlalchemy/engine/url.py\u001b[0m in \u001b[0;36m_parse_rfc1738_args\u001b[0;34m(name)\u001b[0m\n\u001b[1;32m    775\u001b[0m \u001b[0;34m\u001b[0m\u001b[0m\n\u001b[1;32m    776\u001b[0m     \u001b[0;32melse\u001b[0m\u001b[0;34m:\u001b[0m\u001b[0;34m\u001b[0m\u001b[0;34m\u001b[0m\u001b[0m\n\u001b[0;32m--> 777\u001b[0;31m         raise exc.ArgumentError(\n\u001b[0m\u001b[1;32m    778\u001b[0m             \u001b[0;34m\"Could not parse rfc1738 URL from string '%s'\"\u001b[0m \u001b[0;34m%\u001b[0m \u001b[0mname\u001b[0m\u001b[0;34m\u001b[0m\u001b[0;34m\u001b[0m\u001b[0m\n\u001b[1;32m    779\u001b[0m         )\n",
      "\u001b[0;31mArgumentError\u001b[0m: Could not parse rfc1738 URL from string '\nSelect id from studentrack \nINTERSECT Select id from track\n'"
     ]
    }
   ],
   "source": [
    "out_46 = pd.read_sql(conn, no_46)\n",
    "out_46"
   ]
  },
  {
   "cell_type": "markdown",
   "metadata": {},
   "source": [
    "# 47A. How to fetch alternate records from a table?"
   ]
  },
  {
   "cell_type": "markdown",
   "metadata": {},
   "source": [
    "# 47B. How do you display even numbers-."
   ]
  },
  {
   "cell_type": "code",
   "execution_count": 89,
   "metadata": {
    "execution": {
     "iopub.execute_input": "2021-07-18T17:55:00.60027Z",
     "iopub.status.busy": "2021-07-18T17:55:00.599681Z",
     "iopub.status.idle": "2021-07-18T17:55:00.614192Z",
     "shell.execute_reply": "2021-07-18T17:55:00.612848Z",
     "shell.execute_reply.started": "2021-07-18T17:55:00.60022Z"
    }
   },
   "outputs": [
    {
     "name": "stdout",
     "output_type": "stream",
     "text": [
      "SQL Executed Successfully\n"
     ]
    }
   ],
   "source": [
    "# To display even numbers-.\n",
    "\n",
    "even_num = \"\"\"\n",
    "Select id,area \n",
    "from (Select id, area from facts) \n",
    "where mod(id,2)=0\n",
    "\n",
    "\"\"\"\n",
    "execute_sql(connection, even_num)\n"
   ]
  },
  {
   "cell_type": "code",
   "execution_count": 90,
   "metadata": {
    "execution": {
     "iopub.execute_input": "2021-07-18T17:55:01.805599Z",
     "iopub.status.busy": "2021-07-18T17:55:01.804729Z",
     "iopub.status.idle": "2021-07-18T17:55:01.834712Z",
     "shell.execute_reply": "2021-07-18T17:55:01.833398Z",
     "shell.execute_reply.started": "2021-07-18T17:55:01.805539Z"
    }
   },
   "outputs": [
    {
     "data": {
      "text/html": [
       "<div>\n",
       "<style scoped>\n",
       "    .dataframe tbody tr th:only-of-type {\n",
       "        vertical-align: middle;\n",
       "    }\n",
       "\n",
       "    .dataframe tbody tr th {\n",
       "        vertical-align: top;\n",
       "    }\n",
       "\n",
       "    .dataframe thead th {\n",
       "        text-align: right;\n",
       "    }\n",
       "</style>\n",
       "<table border=\"1\" class=\"dataframe\">\n",
       "  <thead>\n",
       "    <tr style=\"text-align: right;\">\n",
       "      <th></th>\n",
       "      <th>id</th>\n",
       "      <th>area</th>\n",
       "    </tr>\n",
       "  </thead>\n",
       "  <tbody>\n",
       "    <tr>\n",
       "      <th>0</th>\n",
       "      <td>2</td>\n",
       "      <td>28748.0</td>\n",
       "    </tr>\n",
       "    <tr>\n",
       "      <th>1</th>\n",
       "      <td>4</td>\n",
       "      <td>468.0</td>\n",
       "    </tr>\n",
       "    <tr>\n",
       "      <th>2</th>\n",
       "      <td>6</td>\n",
       "      <td>442.0</td>\n",
       "    </tr>\n",
       "    <tr>\n",
       "      <th>3</th>\n",
       "      <td>8</td>\n",
       "      <td>29743.0</td>\n",
       "    </tr>\n",
       "    <tr>\n",
       "      <th>4</th>\n",
       "      <td>10</td>\n",
       "      <td>83871.0</td>\n",
       "    </tr>\n",
       "    <tr>\n",
       "      <th>...</th>\n",
       "      <td>...</td>\n",
       "      <td>...</td>\n",
       "    </tr>\n",
       "    <tr>\n",
       "      <th>125</th>\n",
       "      <td>252</td>\n",
       "      <td>7.0</td>\n",
       "    </tr>\n",
       "    <tr>\n",
       "      <th>126</th>\n",
       "      <td>254</td>\n",
       "      <td>5860.0</td>\n",
       "    </tr>\n",
       "    <tr>\n",
       "      <th>127</th>\n",
       "      <td>256</td>\n",
       "      <td>NaN</td>\n",
       "    </tr>\n",
       "    <tr>\n",
       "      <th>128</th>\n",
       "      <td>258</td>\n",
       "      <td>NaN</td>\n",
       "    </tr>\n",
       "    <tr>\n",
       "      <th>129</th>\n",
       "      <td>260</td>\n",
       "      <td>NaN</td>\n",
       "    </tr>\n",
       "  </tbody>\n",
       "</table>\n",
       "<p>130 rows × 2 columns</p>\n",
       "</div>"
      ],
      "text/plain": [
       "      id     area\n",
       "0      2  28748.0\n",
       "1      4    468.0\n",
       "2      6    442.0\n",
       "3      8  29743.0\n",
       "4     10  83871.0\n",
       "..   ...      ...\n",
       "125  252      7.0\n",
       "126  254   5860.0\n",
       "127  256      NaN\n",
       "128  258      NaN\n",
       "129  260      NaN\n",
       "\n",
       "[130 rows x 2 columns]"
      ]
     },
     "execution_count": 90,
     "metadata": {},
     "output_type": "execute_result"
    }
   ],
   "source": [
    "answ = pd.read_sql(even_num, connection)\n",
    "answ"
   ]
  },
  {
   "cell_type": "markdown",
   "metadata": {},
   "source": [
    "# 47C. How do you display odd numbers-."
   ]
  },
  {
   "cell_type": "code",
   "execution_count": 91,
   "metadata": {
    "execution": {
     "iopub.execute_input": "2021-07-18T17:55:06.699789Z",
     "iopub.status.busy": "2021-07-18T17:55:06.699366Z",
     "iopub.status.idle": "2021-07-18T17:55:06.706994Z",
     "shell.execute_reply": "2021-07-18T17:55:06.706005Z",
     "shell.execute_reply.started": "2021-07-18T17:55:06.699735Z"
    }
   },
   "outputs": [
    {
     "name": "stdout",
     "output_type": "stream",
     "text": [
      "SQL Executed Successfully\n"
     ]
    }
   ],
   "source": [
    "# To display odd numbers-.\n",
    "odd_num = \"\"\"\n",
    "Select id,area \n",
    "from (Select id,area from facts) \n",
    "where mod(id,2)=1\n",
    "\n",
    "\"\"\"\n",
    "execute_sql(connection, odd_num)"
   ]
  },
  {
   "cell_type": "code",
   "execution_count": 92,
   "metadata": {
    "execution": {
     "iopub.execute_input": "2021-07-18T17:55:08.999826Z",
     "iopub.status.busy": "2021-07-18T17:55:08.999386Z",
     "iopub.status.idle": "2021-07-18T17:55:09.021934Z",
     "shell.execute_reply": "2021-07-18T17:55:09.020667Z",
     "shell.execute_reply.started": "2021-07-18T17:55:08.999776Z"
    }
   },
   "outputs": [
    {
     "data": {
      "text/html": [
       "<div>\n",
       "<style scoped>\n",
       "    .dataframe tbody tr th:only-of-type {\n",
       "        vertical-align: middle;\n",
       "    }\n",
       "\n",
       "    .dataframe tbody tr th {\n",
       "        vertical-align: top;\n",
       "    }\n",
       "\n",
       "    .dataframe thead th {\n",
       "        text-align: right;\n",
       "    }\n",
       "</style>\n",
       "<table border=\"1\" class=\"dataframe\">\n",
       "  <thead>\n",
       "    <tr style=\"text-align: right;\">\n",
       "      <th></th>\n",
       "      <th>id</th>\n",
       "      <th>area</th>\n",
       "    </tr>\n",
       "  </thead>\n",
       "  <tbody>\n",
       "    <tr>\n",
       "      <th>0</th>\n",
       "      <td>1</td>\n",
       "      <td>652230.0</td>\n",
       "    </tr>\n",
       "    <tr>\n",
       "      <th>1</th>\n",
       "      <td>3</td>\n",
       "      <td>2381741.0</td>\n",
       "    </tr>\n",
       "    <tr>\n",
       "      <th>2</th>\n",
       "      <td>5</td>\n",
       "      <td>1246700.0</td>\n",
       "    </tr>\n",
       "    <tr>\n",
       "      <th>3</th>\n",
       "      <td>7</td>\n",
       "      <td>2780400.0</td>\n",
       "    </tr>\n",
       "    <tr>\n",
       "      <th>4</th>\n",
       "      <td>9</td>\n",
       "      <td>7741220.0</td>\n",
       "    </tr>\n",
       "    <tr>\n",
       "      <th>...</th>\n",
       "      <td>...</td>\n",
       "      <td>...</td>\n",
       "    </tr>\n",
       "    <tr>\n",
       "      <th>126</th>\n",
       "      <td>253</td>\n",
       "      <td>5.0</td>\n",
       "    </tr>\n",
       "    <tr>\n",
       "      <th>127</th>\n",
       "      <td>255</td>\n",
       "      <td>266000.0</td>\n",
       "    </tr>\n",
       "    <tr>\n",
       "      <th>128</th>\n",
       "      <td>257</td>\n",
       "      <td>NaN</td>\n",
       "    </tr>\n",
       "    <tr>\n",
       "      <th>129</th>\n",
       "      <td>259</td>\n",
       "      <td>NaN</td>\n",
       "    </tr>\n",
       "    <tr>\n",
       "      <th>130</th>\n",
       "      <td>261</td>\n",
       "      <td>NaN</td>\n",
       "    </tr>\n",
       "  </tbody>\n",
       "</table>\n",
       "<p>131 rows × 2 columns</p>\n",
       "</div>"
      ],
      "text/plain": [
       "      id       area\n",
       "0      1   652230.0\n",
       "1      3  2381741.0\n",
       "2      5  1246700.0\n",
       "3      7  2780400.0\n",
       "4      9  7741220.0\n",
       "..   ...        ...\n",
       "126  253        5.0\n",
       "127  255   266000.0\n",
       "128  257        NaN\n",
       "129  259        NaN\n",
       "130  261        NaN\n",
       "\n",
       "[131 rows x 2 columns]"
      ]
     },
     "execution_count": 92,
     "metadata": {},
     "output_type": "execute_result"
    }
   ],
   "source": [
    "answr = pd.read_sql(odd_num, connection)\n",
    "answr"
   ]
  },
  {
   "cell_type": "markdown",
   "metadata": {},
   "source": [
    "# 48. How to select unique records from a table?"
   ]
  },
  {
   "cell_type": "code",
   "execution_count": 93,
   "metadata": {
    "execution": {
     "iopub.execute_input": "2021-07-18T17:55:15.101683Z",
     "iopub.status.busy": "2021-07-18T17:55:15.101309Z",
     "iopub.status.idle": "2021-07-18T17:55:15.111004Z",
     "shell.execute_reply": "2021-07-18T17:55:15.109989Z",
     "shell.execute_reply.started": "2021-07-18T17:55:15.101636Z"
    }
   },
   "outputs": [
    {
     "name": "stdout",
     "output_type": "stream",
     "text": [
      "SQL Executed Successfully\n"
     ]
    }
   ],
   "source": [
    "dist = \"\"\"\n",
    "Select DISTINCT capital, facts_id, name from cities;\n",
    "\"\"\"\n",
    "execute_sql(connection, dist)"
   ]
  },
  {
   "cell_type": "code",
   "execution_count": 94,
   "metadata": {
    "execution": {
     "iopub.execute_input": "2021-07-18T17:55:16.539522Z",
     "iopub.status.busy": "2021-07-18T17:55:16.53915Z",
     "iopub.status.idle": "2021-07-18T17:55:16.558085Z",
     "shell.execute_reply": "2021-07-18T17:55:16.557092Z",
     "shell.execute_reply.started": "2021-07-18T17:55:16.539491Z"
    }
   },
   "outputs": [
    {
     "data": {
      "text/html": [
       "<div>\n",
       "<style scoped>\n",
       "    .dataframe tbody tr th:only-of-type {\n",
       "        vertical-align: middle;\n",
       "    }\n",
       "\n",
       "    .dataframe tbody tr th {\n",
       "        vertical-align: top;\n",
       "    }\n",
       "\n",
       "    .dataframe thead th {\n",
       "        text-align: right;\n",
       "    }\n",
       "</style>\n",
       "<table border=\"1\" class=\"dataframe\">\n",
       "  <thead>\n",
       "    <tr style=\"text-align: right;\">\n",
       "      <th></th>\n",
       "      <th>capital</th>\n",
       "      <th>facts_id</th>\n",
       "      <th>name</th>\n",
       "    </tr>\n",
       "  </thead>\n",
       "  <tbody>\n",
       "    <tr>\n",
       "      <th>0</th>\n",
       "      <td>1</td>\n",
       "      <td>216</td>\n",
       "      <td>Oranjestad</td>\n",
       "    </tr>\n",
       "    <tr>\n",
       "      <th>1</th>\n",
       "      <td>1</td>\n",
       "      <td>6</td>\n",
       "      <td>Saint John'S</td>\n",
       "    </tr>\n",
       "    <tr>\n",
       "      <th>2</th>\n",
       "      <td>1</td>\n",
       "      <td>184</td>\n",
       "      <td>Abu Dhabi</td>\n",
       "    </tr>\n",
       "    <tr>\n",
       "      <th>3</th>\n",
       "      <td>0</td>\n",
       "      <td>184</td>\n",
       "      <td>Dubai</td>\n",
       "    </tr>\n",
       "    <tr>\n",
       "      <th>4</th>\n",
       "      <td>0</td>\n",
       "      <td>184</td>\n",
       "      <td>Sharjah</td>\n",
       "    </tr>\n",
       "    <tr>\n",
       "      <th>...</th>\n",
       "      <td>...</td>\n",
       "      <td>...</td>\n",
       "      <td>...</td>\n",
       "    </tr>\n",
       "    <tr>\n",
       "      <th>392</th>\n",
       "      <td>1</td>\n",
       "      <td>167</td>\n",
       "      <td>Mbabane</td>\n",
       "    </tr>\n",
       "    <tr>\n",
       "      <th>393</th>\n",
       "      <td>1</td>\n",
       "      <td>193</td>\n",
       "      <td>Sanaa</td>\n",
       "    </tr>\n",
       "    <tr>\n",
       "      <th>394</th>\n",
       "      <td>0</td>\n",
       "      <td>193</td>\n",
       "      <td>Aden</td>\n",
       "    </tr>\n",
       "    <tr>\n",
       "      <th>395</th>\n",
       "      <td>1</td>\n",
       "      <td>194</td>\n",
       "      <td>Lusaka</td>\n",
       "    </tr>\n",
       "    <tr>\n",
       "      <th>396</th>\n",
       "      <td>1</td>\n",
       "      <td>195</td>\n",
       "      <td>Harare</td>\n",
       "    </tr>\n",
       "  </tbody>\n",
       "</table>\n",
       "<p>397 rows × 3 columns</p>\n",
       "</div>"
      ],
      "text/plain": [
       "     capital facts_id          name\n",
       "0          1      216    Oranjestad\n",
       "1          1        6  Saint John'S\n",
       "2          1      184     Abu Dhabi\n",
       "3          0      184         Dubai\n",
       "4          0      184       Sharjah\n",
       "..       ...      ...           ...\n",
       "392        1      167       Mbabane\n",
       "393        1      193         Sanaa\n",
       "394        0      193          Aden\n",
       "395        1      194        Lusaka\n",
       "396        1      195        Harare\n",
       "\n",
       "[397 rows x 3 columns]"
      ]
     },
     "execution_count": 94,
     "metadata": {},
     "output_type": "execute_result"
    }
   ],
   "source": [
    "anw = pd.read_sql(dist, connection)\n",
    "anw"
   ]
  },
  {
   "cell_type": "markdown",
   "metadata": {},
   "source": [
    "# 49. What is the command used to fetchfirst 5 characters of the string?"
   ]
  },
  {
   "cell_type": "code",
   "execution_count": 95,
   "metadata": {
    "execution": {
     "iopub.execute_input": "2021-07-18T17:55:27.141556Z",
     "iopub.status.busy": "2021-07-18T17:55:27.140938Z",
     "iopub.status.idle": "2021-07-18T17:55:27.151868Z",
     "shell.execute_reply": "2021-07-18T17:55:27.150565Z",
     "shell.execute_reply.started": "2021-07-18T17:55:27.141515Z"
    }
   },
   "outputs": [
    {
     "data": {
      "text/html": [
       "<div>\n",
       "<style scoped>\n",
       "    .dataframe tbody tr th:only-of-type {\n",
       "        vertical-align: middle;\n",
       "    }\n",
       "\n",
       "    .dataframe tbody tr th {\n",
       "        vertical-align: top;\n",
       "    }\n",
       "\n",
       "    .dataframe thead th {\n",
       "        text-align: right;\n",
       "    }\n",
       "</style>\n",
       "<table border=\"1\" class=\"dataframe\">\n",
       "  <thead>\n",
       "    <tr style=\"text-align: right;\">\n",
       "      <th></th>\n",
       "      <th>studentname</th>\n",
       "    </tr>\n",
       "  </thead>\n",
       "  <tbody>\n",
       "    <tr>\n",
       "      <th>0</th>\n",
       "      <td>Amara</td>\n",
       "    </tr>\n",
       "    <tr>\n",
       "      <th>1</th>\n",
       "      <td>Chine</td>\n",
       "    </tr>\n",
       "    <tr>\n",
       "      <th>2</th>\n",
       "      <td>Rukay</td>\n",
       "    </tr>\n",
       "    <tr>\n",
       "      <th>3</th>\n",
       "      <td>Chiom</td>\n",
       "    </tr>\n",
       "    <tr>\n",
       "      <th>4</th>\n",
       "      <td>Uju O</td>\n",
       "    </tr>\n",
       "  </tbody>\n",
       "</table>\n",
       "</div>"
      ],
      "text/plain": [
       "  studentname\n",
       "0       Amara\n",
       "1       Chine\n",
       "2       Rukay\n",
       "3       Chiom\n",
       "4       Uju O"
      ]
     },
     "execution_count": 95,
     "metadata": {},
     "output_type": "execute_result"
    }
   ],
   "source": [
    "fetch_5 = \"\"\"\n",
    "Select SUBSTRING(name,1,5) \n",
    "as studentname \n",
    "from Student;\n",
    "\"\"\"\n",
    "\n",
    "view_fetch = pd.read_sql(fetch_5, conn)\n",
    "view_fetch"
   ]
  },
  {
   "cell_type": "markdown",
   "metadata": {},
   "source": [
    "# 50. Which operator is used in query forpattern matching?\n",
    "LIKE operator is used for pattern matching, and it can be used as -.\n",
    "\n",
    "- % - Matches zero or more characters.\n",
    "- _(Underscore) – Matching exactly one character.\n",
    "Example:"
   ]
  },
  {
   "cell_type": "code",
   "execution_count": 96,
   "metadata": {
    "execution": {
     "iopub.execute_input": "2021-07-18T17:55:30.919518Z",
     "iopub.status.busy": "2021-07-18T17:55:30.919159Z",
     "iopub.status.idle": "2021-07-18T17:55:30.933863Z",
     "shell.execute_reply": "2021-07-18T17:55:30.932716Z",
     "shell.execute_reply.started": "2021-07-18T17:55:30.919488Z"
    }
   },
   "outputs": [
    {
     "data": {
      "text/html": [
       "<div>\n",
       "<style scoped>\n",
       "    .dataframe tbody tr th:only-of-type {\n",
       "        vertical-align: middle;\n",
       "    }\n",
       "\n",
       "    .dataframe tbody tr th {\n",
       "        vertical-align: top;\n",
       "    }\n",
       "\n",
       "    .dataframe thead th {\n",
       "        text-align: right;\n",
       "    }\n",
       "</style>\n",
       "<table border=\"1\" class=\"dataframe\">\n",
       "  <thead>\n",
       "    <tr style=\"text-align: right;\">\n",
       "      <th></th>\n",
       "      <th>id</th>\n",
       "      <th>name</th>\n",
       "      <th>age</th>\n",
       "      <th>class_s</th>\n",
       "    </tr>\n",
       "  </thead>\n",
       "  <tbody>\n",
       "    <tr>\n",
       "      <th>0</th>\n",
       "      <td>2</td>\n",
       "      <td>Chinenye James</td>\n",
       "      <td>11</td>\n",
       "      <td>SS2</td>\n",
       "    </tr>\n",
       "    <tr>\n",
       "      <th>1</th>\n",
       "      <td>4</td>\n",
       "      <td>Chioma Obi</td>\n",
       "      <td>12</td>\n",
       "      <td>SS1</td>\n",
       "    </tr>\n",
       "  </tbody>\n",
       "</table>\n",
       "</div>"
      ],
      "text/plain": [
       "   id            name  age class_s\n",
       "0   2  Chinenye James   11     SS2\n",
       "1   4      Chioma Obi   12     SS1"
      ]
     },
     "execution_count": 96,
     "metadata": {},
     "output_type": "execute_result"
    }
   ],
   "source": [
    "match_1 = \"\"\"\n",
    "Select * from Student \n",
    "where name \n",
    "like 'c%'\n",
    "\"\"\"\n",
    "\n",
    "match_2 = \"\"\"\n",
    "Select * from Student\n",
    "where name \n",
    "like 'hol_'\n",
    "\"\"\"\n",
    "\n",
    "view_match = pd.read_sql(match_1, conn)\n",
    "view_match\n"
   ]
  },
  {
   "cell_type": "code",
   "execution_count": 97,
   "metadata": {
    "execution": {
     "iopub.execute_input": "2021-07-18T17:55:33.779459Z",
     "iopub.status.busy": "2021-07-18T17:55:33.779066Z",
     "iopub.status.idle": "2021-07-18T17:55:33.792388Z",
     "shell.execute_reply": "2021-07-18T17:55:33.790628Z",
     "shell.execute_reply.started": "2021-07-18T17:55:33.779423Z"
    }
   },
   "outputs": [
    {
     "data": {
      "text/html": [
       "<div>\n",
       "<style scoped>\n",
       "    .dataframe tbody tr th:only-of-type {\n",
       "        vertical-align: middle;\n",
       "    }\n",
       "\n",
       "    .dataframe tbody tr th {\n",
       "        vertical-align: top;\n",
       "    }\n",
       "\n",
       "    .dataframe thead th {\n",
       "        text-align: right;\n",
       "    }\n",
       "</style>\n",
       "<table border=\"1\" class=\"dataframe\">\n",
       "  <thead>\n",
       "    <tr style=\"text-align: right;\">\n",
       "      <th></th>\n",
       "      <th>id</th>\n",
       "      <th>name</th>\n",
       "      <th>age</th>\n",
       "      <th>class_s</th>\n",
       "    </tr>\n",
       "  </thead>\n",
       "  <tbody>\n",
       "  </tbody>\n",
       "</table>\n",
       "</div>"
      ],
      "text/plain": [
       "Empty DataFrame\n",
       "Columns: [id, name, age, class_s]\n",
       "Index: []"
      ]
     },
     "execution_count": 97,
     "metadata": {},
     "output_type": "execute_result"
    }
   ],
   "source": [
    "view_match2 = pd.read_sql(match_2, conn)\n",
    "view_match2"
   ]
  },
  {
   "cell_type": "markdown",
   "metadata": {},
   "source": []
  }
 ],
 "metadata": {
  "kernelspec": {
   "display_name": "Python 3",
   "language": "python",
   "name": "python3"
  },
  "language_info": {
   "codemirror_mode": {
    "name": "ipython",
    "version": 3
   },
   "file_extension": ".py",
   "mimetype": "text/x-python",
   "name": "python",
   "nbconvert_exporter": "python",
   "pygments_lexer": "ipython3",
   "version": "3.8.8"
  }
 },
 "nbformat": 4,
 "nbformat_minor": 4
}
